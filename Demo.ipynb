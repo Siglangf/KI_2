{
 "metadata": {
  "language_info": {
   "codemirror_mode": {
    "name": "ipython",
    "version": 3
   },
   "file_extension": ".py",
   "mimetype": "text/x-python",
   "name": "python",
   "nbconvert_exporter": "python",
   "pygments_lexer": "ipython3",
   "version": "3.9.2-final"
  },
  "orig_nbformat": 2,
  "kernelspec": {
   "name": "python392jvsc74a57bd0ce81be6a77568207c8653446c9329bd2af5244ede336bb4195c92db9c1e0543c",
   "display_name": "Python 3.9.2 64-bit ('AI': conda)"
  }
 },
 "nbformat": 4,
 "nbformat_minor": 2,
 "cells": [
  {
   "source": [
    "## Demo Aritificial intelligence programming\n"
   ],
   "cell_type": "markdown",
   "metadata": {}
  },
  {
   "cell_type": "code",
   "execution_count": 1,
   "metadata": {},
   "outputs": [],
   "source": [
    "import random\n",
    "import numpy as np\n",
    "from mcts import MCTS\n",
    "from ANET import ANET\n",
    "from Simworld import visualize_state,Hex\n",
    "from tqdm import tqdm\n",
    "from IPython import display\n",
    "import time\n",
    "import pandas as pd\n",
    "from TOPP import TOPP\n",
    "from train import train_anet\n",
    "import matplotlib.pyplot as plt\n",
    "ReLU = \"ReLU\"\n",
    "Adam = \"Adam\""
   ]
  },
  {
   "source": [
    "## Training"
   ],
   "cell_type": "markdown",
   "metadata": {}
  },
  {
   "source": [
    "### Set parameters"
   ],
   "cell_type": "markdown",
   "metadata": {}
  },
  {
   "cell_type": "code",
   "execution_count": null,
   "metadata": {},
   "outputs": [],
   "source": [
    "# Default parameters\n",
    "GAME = Hex\n",
    "STARTING_PLAYER_ID = 1\n",
    "BOARD_SIZE = 9\n",
    "EPISODES = 10\n",
    "NUM_SIMULATIONS = 15\n",
    "NUM_AGENTS = 2\n",
    "BATCH_SIZE = 0.5\n",
    "\n",
    "# ANET parameters\n",
    "HIDDEN_LAYERS = (32, 32)  # (16,16) #[128]  # (32,32) (48,24) (16,16)\n",
    "LEARNING_RATE = 0.01\n",
    "HIDDEN_LAYERS = [128]\n",
    "LEARNING_RATE = 0.001\n",
    "ACTIVATION = 'ReLU'\n",
    "OPTIMIZER = 'Adam'\n",
    "EPOCHS = 5\n",
    "\n",
    "# MCTS parameters\n",
    "EPSILON = 1\n",
    "EPSILON_DECAY_DEGREE = 1/2\n",
    "C = 1\n",
    "# Batch strategy\n",
    "BATCH_TYPE_RELATIVE = True\n",
    "BS_DEGREE = 3\n",
    "\n",
    "#RUN PARAMETERS\n",
    "VISUALIZATION_EPISODES = [1]"
   ]
  },
  {
   "cell_type": "code",
   "execution_count": null,
   "metadata": {
    "tags": []
   },
   "outputs": [],
   "source": [
    "environment = Hex(BOARD_SIZE)\n",
    "batch_strategy = \"probability_function\"\n",
    "anet = ANET(input_size=BOARD_SIZE, hidden_layers=HIDDEN_LAYERS,lr=LEARNING_RATE, activation=ACTIVATION, optimizer=OPTIMIZER, EPOCHS=EPOCHS)\n",
    "SERIES_NAME_TAG = input(\"Series name tag: \")\n",
    "train_anet(SERIES_NAME_TAG, anet, BOARD_SIZE, environment, EPISODES, NUM_SIMULATIONS,NUM_AGENTS, BATCH_SIZE,eps=EPSILON,epsilon_decay_degree=EPSILON_DECAY_DEGREE, bs_degree=BS_DEGREE, batch_type_relative=BATCH_TYPE_RELATIVE,vis_episode=VISUALIZATION_EPISODES)"
   ]
  },
  {
   "source": [
    "## Run TOPP on shortly trained model"
   ],
   "cell_type": "markdown",
   "metadata": {}
  },
  {
   "cell_type": "code",
   "execution_count": null,
   "metadata": {},
   "outputs": [],
   "source": [
    "NUM_GAMES = 100"
   ]
  },
  {
   "cell_type": "code",
   "execution_count": null,
   "metadata": {
    "tags": []
   },
   "outputs": [],
   "source": [
    "topp = TOPP(series_name=SERIES_NAME_TAG,board_size=BOARD_SIZE, game=Hex, num_games=NUM_GAMES, episodes=EPISODES, num_agents=NUM_AGENTS,hidden_layers=HIDDEN_LAYERS)\n",
    "wins = topp.run_tournament(visualize=False)"
   ]
  },
  {
   "cell_type": "code",
   "execution_count": null,
   "metadata": {},
   "outputs": [],
   "source": [
    "df = pd.DataFrame(wins)\n",
    "norm = df/((NUM_AGENTS-1)*2*NUM_GAMES)\n",
    "norm.plot.bar(title=f\"TOPP,ANET trained on {EPISODES} episodes\")\n",
    "plt.show() "
   ]
  },
  {
   "cell_type": "code",
   "execution_count": null,
   "metadata": {},
   "outputs": [],
   "source": [
    "topp.print_scoreboard_results()"
   ]
  },
  {
   "source": [
    "### Run TOPP on pretrained model 5x5 board"
   ],
   "cell_type": "markdown",
   "metadata": {}
  },
  {
   "cell_type": "code",
   "execution_count": null,
   "metadata": {},
   "outputs": [],
   "source": [
    "SERIES_NAME_TAG = \"smalllr\"\n",
    "\n",
    "GAME = Hex\n",
    "STARTING_PLAYER_ID = 1\n",
    "BOARD_SIZE = 5\n",
    "EPISODES = 200\n",
    "NUM_AGENTS = 5\n",
    "\n",
    "# TOPP PARAMETERS\n",
    "NUM_GAMES = 100\n",
    "\n",
    "# ANET parameters for loading\n",
    "HIDDEN_LAYERS = (64, 32)"
   ]
  },
  {
   "cell_type": "code",
   "execution_count": null,
   "metadata": {},
   "outputs": [],
   "source": [
    "topp = TOPP(SERIES_NAME_TAG,BOARD_SIZE,GAME,NUM_GAMES,EPISODES,NUM_AGENTS,HIDDEN_LAYERS)\n",
    "wins = topp.run_tournament()"
   ]
  },
  {
   "cell_type": "code",
   "execution_count": null,
   "metadata": {},
   "outputs": [],
   "source": [
    "df2 = pd.DataFrame(wins)\n",
    "norm = df2/((NUM_AGENTS-1)*2*NUM_GAMES)\n",
    "norm.plot.bar(title=f\"TOPP,ANET trained on {EPISODES} episodes\")\n",
    "plt.show() "
   ]
  },
  {
   "cell_type": "code",
   "execution_count": null,
   "metadata": {},
   "outputs": [],
   "source": [
    "topp.play_random(NUM_AGENTS-1)"
   ]
  },
  {
   "source": [
    "### Run TOPP on pretrained model 4x4 board"
   ],
   "cell_type": "markdown",
   "metadata": {}
  },
  {
   "cell_type": "code",
   "execution_count": null,
   "metadata": {},
   "outputs": [],
   "source": [
    "SERIES_NAME_TAG = \"newcode\"\n",
    "\n",
    "GAME = Hex\n",
    "STARTING_PLAYER_ID = 1\n",
    "BOARD_SIZE = 4\n",
    "EPISODES = 200\n",
    "NUM_AGENTS = 5\n",
    "\n",
    "# TOPP PARAMETERS\n",
    "NUM_GAMES = 10\n",
    "\n",
    "# ANET parameters for loading\n",
    "HIDDEN_LAYERS = [128]"
   ]
  },
  {
   "cell_type": "code",
   "execution_count": null,
   "metadata": {},
   "outputs": [],
   "source": [
    "np.random.seed(1)\n",
    "random.seed(1)\n",
    "topp = TOPP(series_name=SERIES_NAME_TAG,board_size=BOARD_SIZE, game=Hex, num_games=NUM_GAMES, episodes=EPISODES, num_agents=NUM_AGENTS,hidden_layers=HIDDEN_LAYERS)\n",
    "wins = topp.run_tournament(visualize=False)"
   ]
  },
  {
   "cell_type": "code",
   "execution_count": null,
   "metadata": {},
   "outputs": [],
   "source": [
    "df2 = pd.DataFrame(wins)\n",
    "norm = df2/((NUM_AGENTS-1)*2*NUM_GAMES)\n",
    "norm.plot.bar(title=f\"TOPP 4x4,ANET trained on {EPISODES} episodes\")\n",
    "plt.show() "
   ]
  },
  {
   "cell_type": "code",
   "execution_count": null,
   "metadata": {},
   "outputs": [],
   "source": []
  }
 ]
}