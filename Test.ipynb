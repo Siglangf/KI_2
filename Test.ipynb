{
 "cells": [
  {
   "cell_type": "code",
   "execution_count": 2,
   "id": "insured-pitch",
   "metadata": {},
   "outputs": [],
   "source": [
    "from Simworld import visualize_state,Hex\n",
    "import numpy as np\n",
    "import random\n",
    "from IPython import display\n",
    "import time"
   ]
  },
  {
   "cell_type": "code",
   "execution_count": 5,
   "id": "atmospheric-prior",
   "metadata": {},
   "outputs": [
    {
     "output_type": "execute_result",
     "data": {
      "text/plain": [
       "(((1, 0, 0, 0), (0, 0, 0, 0), (0, 0, 0, 0), (0, 0, 0, 0)), 0, False)"
      ]
     },
     "metadata": {},
     "execution_count": 5
    }
   ],
   "source": [
    "env = Hex(4)"
   ]
  },
  {
   "cell_type": "code",
   "execution_count": 8,
   "id": "unknown-transportation",
   "metadata": {},
   "outputs": [
    {
     "output_type": "execute_result",
     "data": {
      "text/plain": [
       "((0, 0),\n",
       " (1, 0),\n",
       " (2, 0),\n",
       " (3, 0),\n",
       " (0, 1),\n",
       " (1, 1),\n",
       " (2, 1),\n",
       " (3, 1),\n",
       " (0, 2),\n",
       " (1, 2),\n",
       " (2, 2),\n",
       " (3, 2),\n",
       " (0, 3),\n",
       " (1, 3),\n",
       " (2, 3),\n",
       " (3, 3))"
      ]
     },
     "metadata": {},
     "execution_count": 8
    }
   ],
   "source": []
  },
  {
   "cell_type": "code",
   "execution_count": 4,
   "id": "interstate-consequence",
   "metadata": {},
   "outputs": [
    {
     "output_type": "stream",
     "name": "stdout",
     "text": [
      "Blue player won the game\n"
     ]
    },
    {
     "output_type": "display_data",
     "data": {
      "text/plain": "<Figure size 432x288 with 1 Axes>",
      "image/svg+xml": "<?xml version=\"1.0\" encoding=\"utf-8\" standalone=\"no\"?>\n<!DOCTYPE svg PUBLIC \"-//W3C//DTD SVG 1.1//EN\"\n  \"http://www.w3.org/Graphics/SVG/1.1/DTD/svg11.dtd\">\n<svg height=\"231.84pt\" version=\"1.1\" viewBox=\"0 0 356.379375 231.84\" width=\"356.379375pt\" xmlns=\"http://www.w3.org/2000/svg\" xmlns:xlink=\"http://www.w3.org/1999/xlink\">\n <metadata>\n  <rdf:RDF xmlns:cc=\"http://creativecommons.org/ns#\" xmlns:dc=\"http://purl.org/dc/elements/1.1/\" xmlns:rdf=\"http://www.w3.org/1999/02/22-rdf-syntax-ns#\">\n   <cc:Work>\n    <dc:type rdf:resource=\"http://purl.org/dc/dcmitype/StillImage\"/>\n    <dc:date>2021-04-05T22:25:28.339955</dc:date>\n    <dc:format>image/svg+xml</dc:format>\n    <dc:creator>\n     <cc:Agent>\n      <dc:title>Matplotlib v3.4.1, https://matplotlib.org/</dc:title>\n     </cc:Agent>\n    </dc:creator>\n   </cc:Work>\n  </rdf:RDF>\n </metadata>\n <defs>\n  <style type=\"text/css\">*{stroke-linecap:butt;stroke-linejoin:round;}</style>\n </defs>\n <g id=\"figure_1\">\n  <g id=\"patch_1\">\n   <path d=\"M 0 231.84 \nL 356.379375 231.84 \nL 356.379375 0 \nL 0 0 \nz\n\" style=\"fill:#ffffff;\"/>\n  </g>\n  <g id=\"axes_1\">\n   <g id=\"LineCollection_1\">\n    <path clip-path=\"url(#p669342f543)\" d=\"M 181.779375 17.083636 \nL 131.052102 50.029091 \n\" style=\"fill:none;stroke:#000000;\"/>\n    <path clip-path=\"url(#p669342f543)\" d=\"M 181.779375 17.083636 \nL 232.506648 50.029091 \n\" style=\"fill:none;stroke:#000000;\"/>\n    <path clip-path=\"url(#p669342f543)\" d=\"M 131.052102 50.029091 \nL 80.32483 82.974545 \n\" style=\"fill:none;stroke:#000000;\"/>\n    <path clip-path=\"url(#p669342f543)\" d=\"M 131.052102 50.029091 \nL 181.779375 82.974545 \n\" style=\"fill:none;stroke:#000000;\"/>\n    <path clip-path=\"url(#p669342f543)\" d=\"M 131.052102 50.029091 \nL 232.506648 50.029091 \n\" style=\"fill:none;stroke:#000000;\"/>\n    <path clip-path=\"url(#p669342f543)\" d=\"M 80.32483 82.974545 \nL 29.597557 115.92 \n\" style=\"fill:none;stroke:#000000;\"/>\n    <path clip-path=\"url(#p669342f543)\" d=\"M 80.32483 82.974545 \nL 131.052102 115.92 \n\" style=\"fill:none;stroke:#000000;\"/>\n    <path clip-path=\"url(#p669342f543)\" d=\"M 80.32483 82.974545 \nL 181.779375 82.974545 \n\" style=\"fill:none;stroke:#000000;\"/>\n    <path clip-path=\"url(#p669342f543)\" d=\"M 29.597557 115.92 \nL 80.32483 148.865455 \n\" style=\"fill:none;stroke:#000000;\"/>\n    <path clip-path=\"url(#p669342f543)\" d=\"M 29.597557 115.92 \nL 131.052102 115.92 \n\" style=\"fill:none;stroke:#000000;\"/>\n    <path clip-path=\"url(#p669342f543)\" d=\"M 232.506648 50.029091 \nL 181.779375 82.974545 \n\" style=\"fill:none;stroke:#000000;\"/>\n    <path clip-path=\"url(#p669342f543)\" d=\"M 232.506648 50.029091 \nL 283.23392 82.974545 \n\" style=\"fill:none;stroke:#000000;\"/>\n    <path clip-path=\"url(#p669342f543)\" d=\"M 181.779375 82.974545 \nL 131.052102 115.92 \n\" style=\"fill:none;stroke:#000000;\"/>\n    <path clip-path=\"url(#p669342f543)\" d=\"M 181.779375 82.974545 \nL 232.506648 115.92 \n\" style=\"fill:none;stroke:#000000;\"/>\n    <path clip-path=\"url(#p669342f543)\" d=\"M 181.779375 82.974545 \nL 283.23392 82.974545 \n\" style=\"fill:none;stroke:#000000;\"/>\n    <path clip-path=\"url(#p669342f543)\" d=\"M 131.052102 115.92 \nL 80.32483 148.865455 \n\" style=\"fill:none;stroke:#000000;\"/>\n    <path clip-path=\"url(#p669342f543)\" d=\"M 131.052102 115.92 \nL 181.779375 148.865455 \n\" style=\"fill:none;stroke:#000000;\"/>\n    <path clip-path=\"url(#p669342f543)\" d=\"M 131.052102 115.92 \nL 232.506648 115.92 \n\" style=\"fill:none;stroke:#000000;\"/>\n    <path clip-path=\"url(#p669342f543)\" d=\"M 80.32483 148.865455 \nL 131.052102 181.810909 \n\" style=\"fill:none;stroke:#000000;\"/>\n    <path clip-path=\"url(#p669342f543)\" d=\"M 80.32483 148.865455 \nL 181.779375 148.865455 \n\" style=\"fill:none;stroke:#000000;\"/>\n    <path clip-path=\"url(#p669342f543)\" d=\"M 283.23392 82.974545 \nL 232.506648 115.92 \n\" style=\"fill:none;stroke:#000000;\"/>\n    <path clip-path=\"url(#p669342f543)\" d=\"M 283.23392 82.974545 \nL 333.961193 115.92 \n\" style=\"fill:none;stroke:#000000;\"/>\n    <path clip-path=\"url(#p669342f543)\" d=\"M 232.506648 115.92 \nL 181.779375 148.865455 \n\" style=\"fill:none;stroke:#000000;\"/>\n    <path clip-path=\"url(#p669342f543)\" d=\"M 232.506648 115.92 \nL 283.23392 148.865455 \n\" style=\"fill:none;stroke:#000000;\"/>\n    <path clip-path=\"url(#p669342f543)\" d=\"M 232.506648 115.92 \nL 333.961193 115.92 \n\" style=\"fill:none;stroke:#000000;\"/>\n    <path clip-path=\"url(#p669342f543)\" d=\"M 181.779375 148.865455 \nL 131.052102 181.810909 \n\" style=\"fill:none;stroke:#000000;\"/>\n    <path clip-path=\"url(#p669342f543)\" d=\"M 181.779375 148.865455 \nL 232.506648 181.810909 \n\" style=\"fill:none;stroke:#000000;\"/>\n    <path clip-path=\"url(#p669342f543)\" d=\"M 181.779375 148.865455 \nL 283.23392 148.865455 \n\" style=\"fill:none;stroke:#000000;\"/>\n    <path clip-path=\"url(#p669342f543)\" d=\"M 131.052102 181.810909 \nL 181.779375 214.756364 \n\" style=\"fill:none;stroke:#000000;\"/>\n    <path clip-path=\"url(#p669342f543)\" d=\"M 131.052102 181.810909 \nL 232.506648 181.810909 \n\" style=\"fill:none;stroke:#000000;\"/>\n    <path clip-path=\"url(#p669342f543)\" d=\"M 333.961193 115.92 \nL 283.23392 148.865455 \n\" style=\"fill:none;stroke:#000000;\"/>\n    <path clip-path=\"url(#p669342f543)\" d=\"M 283.23392 148.865455 \nL 232.506648 181.810909 \n\" style=\"fill:none;stroke:#000000;\"/>\n    <path clip-path=\"url(#p669342f543)\" d=\"M 232.506648 181.810909 \nL 181.779375 214.756364 \n\" style=\"fill:none;stroke:#000000;\"/>\n   </g>\n   <g id=\"PathCollection_1\">\n    <defs>\n     <path d=\"M 0 8.660254 \nC 2.296726 8.660254 4.499694 7.747755 6.123724 6.123724 \nC 7.747755 4.499694 8.660254 2.296726 8.660254 -0 \nC 8.660254 -2.296726 7.747755 -4.499694 6.123724 -6.123724 \nC 4.499694 -7.747755 2.296726 -8.660254 0 -8.660254 \nC -2.296726 -8.660254 -4.499694 -7.747755 -6.123724 -6.123724 \nC -7.747755 -4.499694 -8.660254 -2.296726 -8.660254 0 \nC -8.660254 2.296726 -7.747755 4.499694 -6.123724 6.123724 \nC -4.499694 7.747755 -2.296726 8.660254 0 8.660254 \nz\n\" id=\"C0_0_d1eb4f1b67\"/>\n    </defs>\n    <g clip-path=\"url(#p669342f543)\">\n     <use style=\"fill:#ff0000;stroke:#ff0000;\" x=\"181.779375\" xlink:href=\"#C0_0_d1eb4f1b67\" y=\"17.083636\"/>\n    </g>\n    <g clip-path=\"url(#p669342f543)\">\n     <use style=\"fill:#ffffff;stroke:#ffffff;\" x=\"131.052102\" xlink:href=\"#C0_0_d1eb4f1b67\" y=\"50.029091\"/>\n    </g>\n    <g clip-path=\"url(#p669342f543)\">\n     <use style=\"fill:#ff0000;stroke:#ff0000;\" x=\"80.32483\" xlink:href=\"#C0_0_d1eb4f1b67\" y=\"82.974545\"/>\n    </g>\n    <g clip-path=\"url(#p669342f543)\">\n     <use style=\"fill:#0000ff;stroke:#0000ff;\" x=\"29.597557\" xlink:href=\"#C0_0_d1eb4f1b67\" y=\"115.92\"/>\n    </g>\n    <g clip-path=\"url(#p669342f543)\">\n     <use style=\"fill:#ff0000;stroke:#ff0000;\" x=\"232.506648\" xlink:href=\"#C0_0_d1eb4f1b67\" y=\"50.029091\"/>\n    </g>\n    <g clip-path=\"url(#p669342f543)\">\n     <use style=\"fill:#0000ff;stroke:#0000ff;\" x=\"181.779375\" xlink:href=\"#C0_0_d1eb4f1b67\" y=\"82.974545\"/>\n    </g>\n    <g clip-path=\"url(#p669342f543)\">\n     <use style=\"fill:#ff0000;stroke:#ff0000;\" x=\"131.052102\" xlink:href=\"#C0_0_d1eb4f1b67\" y=\"115.92\"/>\n    </g>\n    <g clip-path=\"url(#p669342f543)\">\n     <use style=\"fill:#ff0000;stroke:#ff0000;\" x=\"80.32483\" xlink:href=\"#C0_0_d1eb4f1b67\" y=\"148.865455\"/>\n    </g>\n    <g clip-path=\"url(#p669342f543)\">\n     <use style=\"fill:#0000ff;stroke:#0000ff;\" x=\"283.23392\" xlink:href=\"#C0_0_d1eb4f1b67\" y=\"82.974545\"/>\n    </g>\n    <g clip-path=\"url(#p669342f543)\">\n     <use style=\"fill:#0000ff;stroke:#0000ff;\" x=\"232.506648\" xlink:href=\"#C0_0_d1eb4f1b67\" y=\"115.92\"/>\n    </g>\n    <g clip-path=\"url(#p669342f543)\">\n     <use style=\"fill:#ff0000;stroke:#ff0000;\" x=\"181.779375\" xlink:href=\"#C0_0_d1eb4f1b67\" y=\"148.865455\"/>\n    </g>\n    <g clip-path=\"url(#p669342f543)\">\n     <use style=\"fill:#ff0000;stroke:#ff0000;\" x=\"131.052102\" xlink:href=\"#C0_0_d1eb4f1b67\" y=\"181.810909\"/>\n    </g>\n    <g clip-path=\"url(#p669342f543)\">\n     <use style=\"fill:#0000ff;stroke:#0000ff;\" x=\"333.961193\" xlink:href=\"#C0_0_d1eb4f1b67\" y=\"115.92\"/>\n    </g>\n    <g clip-path=\"url(#p669342f543)\">\n     <use style=\"fill:#0000ff;stroke:#0000ff;\" x=\"283.23392\" xlink:href=\"#C0_0_d1eb4f1b67\" y=\"148.865455\"/>\n    </g>\n    <g clip-path=\"url(#p669342f543)\">\n     <use style=\"fill:#0000ff;stroke:#0000ff;\" x=\"232.506648\" xlink:href=\"#C0_0_d1eb4f1b67\" y=\"181.810909\"/>\n    </g>\n    <g clip-path=\"url(#p669342f543)\">\n     <use style=\"fill:#0000ff;stroke:#0000ff;\" x=\"181.779375\" xlink:href=\"#C0_0_d1eb4f1b67\" y=\"214.756364\"/>\n    </g>\n   </g>\n   <g id=\"patch_2\">\n    <path d=\"M 56.414126 22.99015 \nQ 72.049425 34.762471 87.684724 46.534792 \nL 90.090716 43.339295 \nQ 93.080681 49.34582 96.070646 55.352346 \nQ 89.471692 54.139066 82.872739 52.925785 \nL 85.278731 49.730288 \nQ 69.643433 37.957968 54.008134 26.185647 \nL 56.414126 22.99015 \nz\n\" style=\"fill:#ff0000;stroke:#000000;stroke-linecap:round;\"/>\n   </g>\n   <g id=\"text_1\">\n    <!-- Player 2 -->\n    <g transform=\"translate(7.2 16.972837)scale(0.1 -0.1)\">\n     <defs>\n      <path d=\"M 1259 4147 \nL 1259 2394 \nL 2053 2394 \nQ 2494 2394 2734 2622 \nQ 2975 2850 2975 3272 \nQ 2975 3691 2734 3919 \nQ 2494 4147 2053 4147 \nL 1259 4147 \nz\nM 628 4666 \nL 2053 4666 \nQ 2838 4666 3239 4311 \nQ 3641 3956 3641 3272 \nQ 3641 2581 3239 2228 \nQ 2838 1875 2053 1875 \nL 1259 1875 \nL 1259 0 \nL 628 0 \nL 628 4666 \nz\n\" id=\"DejaVuSans-50\" transform=\"scale(0.015625)\"/>\n      <path d=\"M 603 4863 \nL 1178 4863 \nL 1178 0 \nL 603 0 \nL 603 4863 \nz\n\" id=\"DejaVuSans-6c\" transform=\"scale(0.015625)\"/>\n      <path d=\"M 2194 1759 \nQ 1497 1759 1228 1600 \nQ 959 1441 959 1056 \nQ 959 750 1161 570 \nQ 1363 391 1709 391 \nQ 2188 391 2477 730 \nQ 2766 1069 2766 1631 \nL 2766 1759 \nL 2194 1759 \nz\nM 3341 1997 \nL 3341 0 \nL 2766 0 \nL 2766 531 \nQ 2569 213 2275 61 \nQ 1981 -91 1556 -91 \nQ 1019 -91 701 211 \nQ 384 513 384 1019 \nQ 384 1609 779 1909 \nQ 1175 2209 1959 2209 \nL 2766 2209 \nL 2766 2266 \nQ 2766 2663 2505 2880 \nQ 2244 3097 1772 3097 \nQ 1472 3097 1187 3025 \nQ 903 2953 641 2809 \nL 641 3341 \nQ 956 3463 1253 3523 \nQ 1550 3584 1831 3584 \nQ 2591 3584 2966 3190 \nQ 3341 2797 3341 1997 \nz\n\" id=\"DejaVuSans-61\" transform=\"scale(0.015625)\"/>\n      <path d=\"M 2059 -325 \nQ 1816 -950 1584 -1140 \nQ 1353 -1331 966 -1331 \nL 506 -1331 \nL 506 -850 \nL 844 -850 \nQ 1081 -850 1212 -737 \nQ 1344 -625 1503 -206 \nL 1606 56 \nL 191 3500 \nL 800 3500 \nL 1894 763 \nL 2988 3500 \nL 3597 3500 \nL 2059 -325 \nz\n\" id=\"DejaVuSans-79\" transform=\"scale(0.015625)\"/>\n      <path d=\"M 3597 1894 \nL 3597 1613 \nL 953 1613 \nQ 991 1019 1311 708 \nQ 1631 397 2203 397 \nQ 2534 397 2845 478 \nQ 3156 559 3463 722 \nL 3463 178 \nQ 3153 47 2828 -22 \nQ 2503 -91 2169 -91 \nQ 1331 -91 842 396 \nQ 353 884 353 1716 \nQ 353 2575 817 3079 \nQ 1281 3584 2069 3584 \nQ 2775 3584 3186 3129 \nQ 3597 2675 3597 1894 \nz\nM 3022 2063 \nQ 3016 2534 2758 2815 \nQ 2500 3097 2075 3097 \nQ 1594 3097 1305 2825 \nQ 1016 2553 972 2059 \nL 3022 2063 \nz\n\" id=\"DejaVuSans-65\" transform=\"scale(0.015625)\"/>\n      <path d=\"M 2631 2963 \nQ 2534 3019 2420 3045 \nQ 2306 3072 2169 3072 \nQ 1681 3072 1420 2755 \nQ 1159 2438 1159 1844 \nL 1159 0 \nL 581 0 \nL 581 3500 \nL 1159 3500 \nL 1159 2956 \nQ 1341 3275 1631 3429 \nQ 1922 3584 2338 3584 \nQ 2397 3584 2469 3576 \nQ 2541 3569 2628 3553 \nL 2631 2963 \nz\n\" id=\"DejaVuSans-72\" transform=\"scale(0.015625)\"/>\n      <path id=\"DejaVuSans-20\" transform=\"scale(0.015625)\"/>\n      <path d=\"M 1228 531 \nL 3431 531 \nL 3431 0 \nL 469 0 \nL 469 531 \nQ 828 903 1448 1529 \nQ 2069 2156 2228 2338 \nQ 2531 2678 2651 2914 \nQ 2772 3150 2772 3378 \nQ 2772 3750 2511 3984 \nQ 2250 4219 1831 4219 \nQ 1534 4219 1204 4116 \nQ 875 4013 500 3803 \nL 500 4441 \nQ 881 4594 1212 4672 \nQ 1544 4750 1819 4750 \nQ 2544 4750 2975 4387 \nQ 3406 4025 3406 3419 \nQ 3406 3131 3298 2873 \nQ 3191 2616 2906 2266 \nQ 2828 2175 2409 1742 \nQ 1991 1309 1228 531 \nz\n\" id=\"DejaVuSans-32\" transform=\"scale(0.015625)\"/>\n     </defs>\n     <use xlink:href=\"#DejaVuSans-50\"/>\n     <use x=\"60.302734\" xlink:href=\"#DejaVuSans-6c\"/>\n     <use x=\"88.085938\" xlink:href=\"#DejaVuSans-61\"/>\n     <use x=\"149.365234\" xlink:href=\"#DejaVuSans-79\"/>\n     <use x=\"208.544922\" xlink:href=\"#DejaVuSans-65\"/>\n     <use x=\"270.068359\" xlink:href=\"#DejaVuSans-72\"/>\n     <use x=\"311.181641\" xlink:href=\"#DejaVuSans-20\"/>\n     <use x=\"342.96875\" xlink:href=\"#DejaVuSans-32\"/>\n    </g>\n   </g>\n   <g id=\"patch_3\">\n    <path d=\"M 299.841722 26.337245 \nQ 286.817572 37.661228 273.793422 48.985211 \nL 276.417957 52.00379 \nQ 269.921047 53.677215 263.424137 55.350641 \nQ 265.984245 49.149347 268.544353 42.948054 \nL 271.168887 45.966633 \nQ 284.193037 34.64265 297.217187 23.318666 \nL 299.841722 26.337245 \nz\n\" style=\"fill:#0000ff;stroke:#000000;stroke-linecap:round;\"/>\n   </g>\n   <g id=\"text_2\">\n    <!-- Player 1 -->\n    <g transform=\"translate(305.172 16.972837)scale(0.1 -0.1)\">\n     <defs>\n      <path d=\"M 794 531 \nL 1825 531 \nL 1825 4091 \nL 703 3866 \nL 703 4441 \nL 1819 4666 \nL 2450 4666 \nL 2450 531 \nL 3481 531 \nL 3481 0 \nL 794 0 \nL 794 531 \nz\n\" id=\"DejaVuSans-31\" transform=\"scale(0.015625)\"/>\n     </defs>\n     <use xlink:href=\"#DejaVuSans-50\"/>\n     <use x=\"60.302734\" xlink:href=\"#DejaVuSans-6c\"/>\n     <use x=\"88.085938\" xlink:href=\"#DejaVuSans-61\"/>\n     <use x=\"149.365234\" xlink:href=\"#DejaVuSans-79\"/>\n     <use x=\"208.544922\" xlink:href=\"#DejaVuSans-65\"/>\n     <use x=\"270.068359\" xlink:href=\"#DejaVuSans-72\"/>\n     <use x=\"311.181641\" xlink:href=\"#DejaVuSans-20\"/>\n     <use x=\"342.96875\" xlink:href=\"#DejaVuSans-31\"/>\n    </g>\n   </g>\n  </g>\n </g>\n <defs>\n  <clipPath id=\"p669342f543\">\n   <rect height=\"217.44\" width=\"334.8\" x=\"14.379375\" y=\"7.2\"/>\n  </clipPath>\n </defs>\n</svg>\n",
      "image/png": "[encoded data removed]"
     },
     "metadata": {}
    }
   ],
   "source": [
    "while not is_final:\n",
    "        frame = visualize_state(env)\n",
    "        display.clear_output(wait=True)\n",
    "        display.display(frame)\n",
    "        time.sleep(1)\n",
    "        #Add SAP in case there are new states\n",
    "        \n",
    "        action = random.sample(action_list,1)[0]\n",
    "        next_state,reward,is_final = env.step(action)\n",
    "        state = next_state\n",
    "display.clear_output(wait=True)\n",
    "frame = visualize_state(env)\n",
    "display.display(frame)\n"
   ]
  },
  {
   "cell_type": "code",
   "execution_count": 5,
   "id": "proved-paraguay",
   "metadata": {},
   "outputs": [
    {
     "output_type": "stream",
     "name": "stdout",
     "text": [
      "Blue player won the game\n"
     ]
    },
    {
     "output_type": "execute_result",
     "data": {
      "text/plain": [
       "<Figure size 432x288 with 1 Axes>"
      ],
      "image/svg+xml": "<?xml version=\"1.0\" encoding=\"utf-8\" standalone=\"no\"?>\n<!DOCTYPE svg PUBLIC \"-//W3C//DTD SVG 1.1//EN\"\n  \"http://www.w3.org/Graphics/SVG/1.1/DTD/svg11.dtd\">\n<svg height=\"231.84pt\" version=\"1.1\" viewBox=\"0 0 356.379375 231.84\" width=\"356.379375pt\" xmlns=\"http://www.w3.org/2000/svg\" xmlns:xlink=\"http://www.w3.org/1999/xlink\">\n <metadata>\n  <rdf:RDF xmlns:cc=\"http://creativecommons.org/ns#\" xmlns:dc=\"http://purl.org/dc/elements/1.1/\" xmlns:rdf=\"http://www.w3.org/1999/02/22-rdf-syntax-ns#\">\n   <cc:Work>\n    <dc:type rdf:resource=\"http://purl.org/dc/dcmitype/StillImage\"/>\n    <dc:date>2021-04-05T22:25:28.754839</dc:date>\n    <dc:format>image/svg+xml</dc:format>\n    <dc:creator>\n     <cc:Agent>\n      <dc:title>Matplotlib v3.4.1, https://matplotlib.org/</dc:title>\n     </cc:Agent>\n    </dc:creator>\n   </cc:Work>\n  </rdf:RDF>\n </metadata>\n <defs>\n  <style type=\"text/css\">*{stroke-linecap:butt;stroke-linejoin:round;}</style>\n </defs>\n <g id=\"figure_1\">\n  <g id=\"patch_1\">\n   <path d=\"M 0 231.84 \nL 356.379375 231.84 \nL 356.379375 0 \nL 0 0 \nz\n\" style=\"fill:#ffffff;\"/>\n  </g>\n  <g id=\"axes_1\">\n   <g id=\"LineCollection_1\">\n    <path clip-path=\"url(#p0f824d0ac7)\" d=\"M 181.779375 17.083636 \nL 131.052102 50.029091 \n\" style=\"fill:none;stroke:#000000;\"/>\n    <path clip-path=\"url(#p0f824d0ac7)\" d=\"M 181.779375 17.083636 \nL 232.506648 50.029091 \n\" style=\"fill:none;stroke:#000000;\"/>\n    <path clip-path=\"url(#p0f824d0ac7)\" d=\"M 131.052102 50.029091 \nL 80.32483 82.974545 \n\" style=\"fill:none;stroke:#000000;\"/>\n    <path clip-path=\"url(#p0f824d0ac7)\" d=\"M 131.052102 50.029091 \nL 181.779375 82.974545 \n\" style=\"fill:none;stroke:#000000;\"/>\n    <path clip-path=\"url(#p0f824d0ac7)\" d=\"M 131.052102 50.029091 \nL 232.506648 50.029091 \n\" style=\"fill:none;stroke:#000000;\"/>\n    <path clip-path=\"url(#p0f824d0ac7)\" d=\"M 80.32483 82.974545 \nL 29.597557 115.92 \n\" style=\"fill:none;stroke:#000000;\"/>\n    <path clip-path=\"url(#p0f824d0ac7)\" d=\"M 80.32483 82.974545 \nL 131.052102 115.92 \n\" style=\"fill:none;stroke:#000000;\"/>\n    <path clip-path=\"url(#p0f824d0ac7)\" d=\"M 80.32483 82.974545 \nL 181.779375 82.974545 \n\" style=\"fill:none;stroke:#000000;\"/>\n    <path clip-path=\"url(#p0f824d0ac7)\" d=\"M 29.597557 115.92 \nL 80.32483 148.865455 \n\" style=\"fill:none;stroke:#000000;\"/>\n    <path clip-path=\"url(#p0f824d0ac7)\" d=\"M 29.597557 115.92 \nL 131.052102 115.92 \n\" style=\"fill:none;stroke:#000000;\"/>\n    <path clip-path=\"url(#p0f824d0ac7)\" d=\"M 232.506648 50.029091 \nL 181.779375 82.974545 \n\" style=\"fill:none;stroke:#000000;\"/>\n    <path clip-path=\"url(#p0f824d0ac7)\" d=\"M 232.506648 50.029091 \nL 283.23392 82.974545 \n\" style=\"fill:none;stroke:#000000;\"/>\n    <path clip-path=\"url(#p0f824d0ac7)\" d=\"M 181.779375 82.974545 \nL 131.052102 115.92 \n\" style=\"fill:none;stroke:#000000;\"/>\n    <path clip-path=\"url(#p0f824d0ac7)\" d=\"M 181.779375 82.974545 \nL 232.506648 115.92 \n\" style=\"fill:none;stroke:#000000;\"/>\n    <path clip-path=\"url(#p0f824d0ac7)\" d=\"M 181.779375 82.974545 \nL 283.23392 82.974545 \n\" style=\"fill:none;stroke:#000000;\"/>\n    <path clip-path=\"url(#p0f824d0ac7)\" d=\"M 131.052102 115.92 \nL 80.32483 148.865455 \n\" style=\"fill:none;stroke:#000000;\"/>\n    <path clip-path=\"url(#p0f824d0ac7)\" d=\"M 131.052102 115.92 \nL 181.779375 148.865455 \n\" style=\"fill:none;stroke:#000000;\"/>\n    <path clip-path=\"url(#p0f824d0ac7)\" d=\"M 131.052102 115.92 \nL 232.506648 115.92 \n\" style=\"fill:none;stroke:#000000;\"/>\n    <path clip-path=\"url(#p0f824d0ac7)\" d=\"M 80.32483 148.865455 \nL 131.052102 181.810909 \n\" style=\"fill:none;stroke:#000000;\"/>\n    <path clip-path=\"url(#p0f824d0ac7)\" d=\"M 80.32483 148.865455 \nL 181.779375 148.865455 \n\" style=\"fill:none;stroke:#000000;\"/>\n    <path clip-path=\"url(#p0f824d0ac7)\" d=\"M 283.23392 82.974545 \nL 232.506648 115.92 \n\" style=\"fill:none;stroke:#000000;\"/>\n    <path clip-path=\"url(#p0f824d0ac7)\" d=\"M 283.23392 82.974545 \nL 333.961193 115.92 \n\" style=\"fill:none;stroke:#000000;\"/>\n    <path clip-path=\"url(#p0f824d0ac7)\" d=\"M 232.506648 115.92 \nL 181.779375 148.865455 \n\" style=\"fill:none;stroke:#000000;\"/>\n    <path clip-path=\"url(#p0f824d0ac7)\" d=\"M 232.506648 115.92 \nL 283.23392 148.865455 \n\" style=\"fill:none;stroke:#000000;\"/>\n    <path clip-path=\"url(#p0f824d0ac7)\" d=\"M 232.506648 115.92 \nL 333.961193 115.92 \n\" style=\"fill:none;stroke:#000000;\"/>\n    <path clip-path=\"url(#p0f824d0ac7)\" d=\"M 181.779375 148.865455 \nL 131.052102 181.810909 \n\" style=\"fill:none;stroke:#000000;\"/>\n    <path clip-path=\"url(#p0f824d0ac7)\" d=\"M 181.779375 148.865455 \nL 232.506648 181.810909 \n\" style=\"fill:none;stroke:#000000;\"/>\n    <path clip-path=\"url(#p0f824d0ac7)\" d=\"M 181.779375 148.865455 \nL 283.23392 148.865455 \n\" style=\"fill:none;stroke:#000000;\"/>\n    <path clip-path=\"url(#p0f824d0ac7)\" d=\"M 131.052102 181.810909 \nL 181.779375 214.756364 \n\" style=\"fill:none;stroke:#000000;\"/>\n    <path clip-path=\"url(#p0f824d0ac7)\" d=\"M 131.052102 181.810909 \nL 232.506648 181.810909 \n\" style=\"fill:none;stroke:#000000;\"/>\n    <path clip-path=\"url(#p0f824d0ac7)\" d=\"M 333.961193 115.92 \nL 283.23392 148.865455 \n\" style=\"fill:none;stroke:#000000;\"/>\n    <path clip-path=\"url(#p0f824d0ac7)\" d=\"M 283.23392 148.865455 \nL 232.506648 181.810909 \n\" style=\"fill:none;stroke:#000000;\"/>\n    <path clip-path=\"url(#p0f824d0ac7)\" d=\"M 232.506648 181.810909 \nL 181.779375 214.756364 \n\" style=\"fill:none;stroke:#000000;\"/>\n   </g>\n   <g id=\"PathCollection_1\">\n    <defs>\n     <path d=\"M 0 8.660254 \nC 2.296726 8.660254 4.499694 7.747755 6.123724 6.123724 \nC 7.747755 4.499694 8.660254 2.296726 8.660254 -0 \nC 8.660254 -2.296726 7.747755 -4.499694 6.123724 -6.123724 \nC 4.499694 -7.747755 2.296726 -8.660254 0 -8.660254 \nC -2.296726 -8.660254 -4.499694 -7.747755 -6.123724 -6.123724 \nC -7.747755 -4.499694 -8.660254 -2.296726 -8.660254 0 \nC -8.660254 2.296726 -7.747755 4.499694 -6.123724 6.123724 \nC -4.499694 7.747755 -2.296726 8.660254 0 8.660254 \nz\n\" id=\"C0_0_23f999e9b7\"/>\n    </defs>\n    <g clip-path=\"url(#p0f824d0ac7)\">\n     <use style=\"fill:#ff0000;stroke:#ff0000;\" x=\"181.779375\" xlink:href=\"#C0_0_23f999e9b7\" y=\"17.083636\"/>\n    </g>\n    <g clip-path=\"url(#p0f824d0ac7)\">\n     <use style=\"fill:#ffffff;stroke:#ffffff;\" x=\"131.052102\" xlink:href=\"#C0_0_23f999e9b7\" y=\"50.029091\"/>\n    </g>\n    <g clip-path=\"url(#p0f824d0ac7)\">\n     <use style=\"fill:#ff0000;stroke:#ff0000;\" x=\"80.32483\" xlink:href=\"#C0_0_23f999e9b7\" y=\"82.974545\"/>\n    </g>\n    <g clip-path=\"url(#p0f824d0ac7)\">\n     <use style=\"fill:#0000ff;stroke:#0000ff;\" x=\"29.597557\" xlink:href=\"#C0_0_23f999e9b7\" y=\"115.92\"/>\n    </g>\n    <g clip-path=\"url(#p0f824d0ac7)\">\n     <use style=\"fill:#ff0000;stroke:#ff0000;\" x=\"232.506648\" xlink:href=\"#C0_0_23f999e9b7\" y=\"50.029091\"/>\n    </g>\n    <g clip-path=\"url(#p0f824d0ac7)\">\n     <use style=\"fill:#0000ff;stroke:#0000ff;\" x=\"181.779375\" xlink:href=\"#C0_0_23f999e9b7\" y=\"82.974545\"/>\n    </g>\n    <g clip-path=\"url(#p0f824d0ac7)\">\n     <use style=\"fill:#ff0000;stroke:#ff0000;\" x=\"131.052102\" xlink:href=\"#C0_0_23f999e9b7\" y=\"115.92\"/>\n    </g>\n    <g clip-path=\"url(#p0f824d0ac7)\">\n     <use style=\"fill:#ff0000;stroke:#ff0000;\" x=\"80.32483\" xlink:href=\"#C0_0_23f999e9b7\" y=\"148.865455\"/>\n    </g>\n    <g clip-path=\"url(#p0f824d0ac7)\">\n     <use style=\"fill:#0000ff;stroke:#0000ff;\" x=\"283.23392\" xlink:href=\"#C0_0_23f999e9b7\" y=\"82.974545\"/>\n    </g>\n    <g clip-path=\"url(#p0f824d0ac7)\">\n     <use style=\"fill:#0000ff;stroke:#0000ff;\" x=\"232.506648\" xlink:href=\"#C0_0_23f999e9b7\" y=\"115.92\"/>\n    </g>\n    <g clip-path=\"url(#p0f824d0ac7)\">\n     <use style=\"fill:#ff0000;stroke:#ff0000;\" x=\"181.779375\" xlink:href=\"#C0_0_23f999e9b7\" y=\"148.865455\"/>\n    </g>\n    <g clip-path=\"url(#p0f824d0ac7)\">\n     <use style=\"fill:#ff0000;stroke:#ff0000;\" x=\"131.052102\" xlink:href=\"#C0_0_23f999e9b7\" y=\"181.810909\"/>\n    </g>\n    <g clip-path=\"url(#p0f824d0ac7)\">\n     <use style=\"fill:#0000ff;stroke:#0000ff;\" x=\"333.961193\" xlink:href=\"#C0_0_23f999e9b7\" y=\"115.92\"/>\n    </g>\n    <g clip-path=\"url(#p0f824d0ac7)\">\n     <use style=\"fill:#0000ff;stroke:#0000ff;\" x=\"283.23392\" xlink:href=\"#C0_0_23f999e9b7\" y=\"148.865455\"/>\n    </g>\n    <g clip-path=\"url(#p0f824d0ac7)\">\n     <use style=\"fill:#0000ff;stroke:#0000ff;\" x=\"232.506648\" xlink:href=\"#C0_0_23f999e9b7\" y=\"181.810909\"/>\n    </g>\n    <g clip-path=\"url(#p0f824d0ac7)\">\n     <use style=\"fill:#0000ff;stroke:#0000ff;\" x=\"181.779375\" xlink:href=\"#C0_0_23f999e9b7\" y=\"214.756364\"/>\n    </g>\n   </g>\n   <g id=\"patch_2\">\n    <path d=\"M 56.414126 22.99015 \nQ 72.049425 34.762471 87.684724 46.534792 \nL 90.090716 43.339295 \nQ 93.080681 49.34582 96.070646 55.352346 \nQ 89.471692 54.139066 82.872739 52.925785 \nL 85.278731 49.730288 \nQ 69.643433 37.957968 54.008134 26.185647 \nL 56.414126 22.99015 \nz\n\" style=\"fill:#ff0000;stroke:#000000;stroke-linecap:round;\"/>\n   </g>\n   <g id=\"text_1\">\n    <!-- Player 2 -->\n    <g transform=\"translate(7.2 16.972837)scale(0.1 -0.1)\">\n     <defs>\n      <path d=\"M 1259 4147 \nL 1259 2394 \nL 2053 2394 \nQ 2494 2394 2734 2622 \nQ 2975 2850 2975 3272 \nQ 2975 3691 2734 3919 \nQ 2494 4147 2053 4147 \nL 1259 4147 \nz\nM 628 4666 \nL 2053 4666 \nQ 2838 4666 3239 4311 \nQ 3641 3956 3641 3272 \nQ 3641 2581 3239 2228 \nQ 2838 1875 2053 1875 \nL 1259 1875 \nL 1259 0 \nL 628 0 \nL 628 4666 \nz\n\" id=\"DejaVuSans-50\" transform=\"scale(0.015625)\"/>\n      <path d=\"M 603 4863 \nL 1178 4863 \nL 1178 0 \nL 603 0 \nL 603 4863 \nz\n\" id=\"DejaVuSans-6c\" transform=\"scale(0.015625)\"/>\n      <path d=\"M 2194 1759 \nQ 1497 1759 1228 1600 \nQ 959 1441 959 1056 \nQ 959 750 1161 570 \nQ 1363 391 1709 391 \nQ 2188 391 2477 730 \nQ 2766 1069 2766 1631 \nL 2766 1759 \nL 2194 1759 \nz\nM 3341 1997 \nL 3341 0 \nL 2766 0 \nL 2766 531 \nQ 2569 213 2275 61 \nQ 1981 -91 1556 -91 \nQ 1019 -91 701 211 \nQ 384 513 384 1019 \nQ 384 1609 779 1909 \nQ 1175 2209 1959 2209 \nL 2766 2209 \nL 2766 2266 \nQ 2766 2663 2505 2880 \nQ 2244 3097 1772 3097 \nQ 1472 3097 1187 3025 \nQ 903 2953 641 2809 \nL 641 3341 \nQ 956 3463 1253 3523 \nQ 1550 3584 1831 3584 \nQ 2591 3584 2966 3190 \nQ 3341 2797 3341 1997 \nz\n\" id=\"DejaVuSans-61\" transform=\"scale(0.015625)\"/>\n      <path d=\"M 2059 -325 \nQ 1816 -950 1584 -1140 \nQ 1353 -1331 966 -1331 \nL 506 -1331 \nL 506 -850 \nL 844 -850 \nQ 1081 -850 1212 -737 \nQ 1344 -625 1503 -206 \nL 1606 56 \nL 191 3500 \nL 800 3500 \nL 1894 763 \nL 2988 3500 \nL 3597 3500 \nL 2059 -325 \nz\n\" id=\"DejaVuSans-79\" transform=\"scale(0.015625)\"/>\n      <path d=\"M 3597 1894 \nL 3597 1613 \nL 953 1613 \nQ 991 1019 1311 708 \nQ 1631 397 2203 397 \nQ 2534 397 2845 478 \nQ 3156 559 3463 722 \nL 3463 178 \nQ 3153 47 2828 -22 \nQ 2503 -91 2169 -91 \nQ 1331 -91 842 396 \nQ 353 884 353 1716 \nQ 353 2575 817 3079 \nQ 1281 3584 2069 3584 \nQ 2775 3584 3186 3129 \nQ 3597 2675 3597 1894 \nz\nM 3022 2063 \nQ 3016 2534 2758 2815 \nQ 2500 3097 2075 3097 \nQ 1594 3097 1305 2825 \nQ 1016 2553 972 2059 \nL 3022 2063 \nz\n\" id=\"DejaVuSans-65\" transform=\"scale(0.015625)\"/>\n      <path d=\"M 2631 2963 \nQ 2534 3019 2420 3045 \nQ 2306 3072 2169 3072 \nQ 1681 3072 1420 2755 \nQ 1159 2438 1159 1844 \nL 1159 0 \nL 581 0 \nL 581 3500 \nL 1159 3500 \nL 1159 2956 \nQ 1341 3275 1631 3429 \nQ 1922 3584 2338 3584 \nQ 2397 3584 2469 3576 \nQ 2541 3569 2628 3553 \nL 2631 2963 \nz\n\" id=\"DejaVuSans-72\" transform=\"scale(0.015625)\"/>\n      <path id=\"DejaVuSans-20\" transform=\"scale(0.015625)\"/>\n      <path d=\"M 1228 531 \nL 3431 531 \nL 3431 0 \nL 469 0 \nL 469 531 \nQ 828 903 1448 1529 \nQ 2069 2156 2228 2338 \nQ 2531 2678 2651 2914 \nQ 2772 3150 2772 3378 \nQ 2772 3750 2511 3984 \nQ 2250 4219 1831 4219 \nQ 1534 4219 1204 4116 \nQ 875 4013 500 3803 \nL 500 4441 \nQ 881 4594 1212 4672 \nQ 1544 4750 1819 4750 \nQ 2544 4750 2975 4387 \nQ 3406 4025 3406 3419 \nQ 3406 3131 3298 2873 \nQ 3191 2616 2906 2266 \nQ 2828 2175 2409 1742 \nQ 1991 1309 1228 531 \nz\n\" id=\"DejaVuSans-32\" transform=\"scale(0.015625)\"/>\n     </defs>\n     <use xlink:href=\"#DejaVuSans-50\"/>\n     <use x=\"60.302734\" xlink:href=\"#DejaVuSans-6c\"/>\n     <use x=\"88.085938\" xlink:href=\"#DejaVuSans-61\"/>\n     <use x=\"149.365234\" xlink:href=\"#DejaVuSans-79\"/>\n     <use x=\"208.544922\" xlink:href=\"#DejaVuSans-65\"/>\n     <use x=\"270.068359\" xlink:href=\"#DejaVuSans-72\"/>\n     <use x=\"311.181641\" xlink:href=\"#DejaVuSans-20\"/>\n     <use x=\"342.96875\" xlink:href=\"#DejaVuSans-32\"/>\n    </g>\n   </g>\n   <g id=\"patch_3\">\n    <path d=\"M 299.841722 26.337245 \nQ 286.817572 37.661228 273.793422 48.985211 \nL 276.417957 52.00379 \nQ 269.921047 53.677215 263.424137 55.350641 \nQ 265.984245 49.149347 268.544353 42.948054 \nL 271.168887 45.966633 \nQ 284.193037 34.64265 297.217187 23.318666 \nL 299.841722 26.337245 \nz\n\" style=\"fill:#0000ff;stroke:#000000;stroke-linecap:round;\"/>\n   </g>\n   <g id=\"text_2\">\n    <!-- Player 1 -->\n    <g transform=\"translate(305.172 16.972837)scale(0.1 -0.1)\">\n     <defs>\n      <path d=\"M 794 531 \nL 1825 531 \nL 1825 4091 \nL 703 3866 \nL 703 4441 \nL 1819 4666 \nL 2450 4666 \nL 2450 531 \nL 3481 531 \nL 3481 0 \nL 794 0 \nL 794 531 \nz\n\" id=\"DejaVuSans-31\" transform=\"scale(0.015625)\"/>\n     </defs>\n     <use xlink:href=\"#DejaVuSans-50\"/>\n     <use x=\"60.302734\" xlink:href=\"#DejaVuSans-6c\"/>\n     <use x=\"88.085938\" xlink:href=\"#DejaVuSans-61\"/>\n     <use x=\"149.365234\" xlink:href=\"#DejaVuSans-79\"/>\n     <use x=\"208.544922\" xlink:href=\"#DejaVuSans-65\"/>\n     <use x=\"270.068359\" xlink:href=\"#DejaVuSans-72\"/>\n     <use x=\"311.181641\" xlink:href=\"#DejaVuSans-20\"/>\n     <use x=\"342.96875\" xlink:href=\"#DejaVuSans-31\"/>\n    </g>\n   </g>\n  </g>\n </g>\n <defs>\n  <clipPath id=\"p0f824d0ac7\">\n   <rect height=\"217.44\" width=\"334.8\" x=\"14.379375\" y=\"7.2\"/>\n  </clipPath>\n </defs>\n</svg>\n",
      "image/png": "[encoded data removed]"
     },
     "metadata": {},
     "execution_count": 5
    }
   ],
   "source": [
    "visualize_state(env)"
   ]
  },
  {
   "cell_type": "code",
   "execution_count": 6,
   "id": "victorian-architecture",
   "metadata": {},
   "outputs": [],
   "source": [
    "env.board.cells[0][1].state = (1,0)"
   ]
  },
  {
   "cell_type": "code",
   "execution_count": 7,
   "id": "premium-bullet",
   "metadata": {},
   "outputs": [],
   "source": [
    "import copy\n",
    "env2 = copy.deepcopy(env)"
   ]
  },
  {
   "cell_type": "code",
   "execution_count": 8,
   "id": "beginning-jurisdiction",
   "metadata": {},
   "outputs": [],
   "source": [
    "env.board.cells[0][2].state = (1,0)"
   ]
  },
  {
   "cell_type": "code",
   "execution_count": 9,
   "id": "supposed-representative",
   "metadata": {},
   "outputs": [
    {
     "output_type": "error",
     "ename": "SyntaxError",
     "evalue": "cannot assign to function call (<ipython-input-9-e8521bb021ab>, line 2)",
     "traceback": [
      "\u001b[0;36m  File \u001b[0;32m\"<ipython-input-9-e8521bb021ab>\"\u001b[0;36m, line \u001b[0;32m2\u001b[0m\n\u001b[0;31m    [neig for cell.neighboars.values() if neig.state == self.player]\u001b[0m\n\u001b[0m              ^\u001b[0m\n\u001b[0;31mSyntaxError\u001b[0m\u001b[0;31m:\u001b[0m cannot assign to function call\n"
     ]
    }
   ],
   "source": [
    "cell = cells[0][0]\n",
    "[neig for cell.neighboars.values() if neig.state == self.player]"
   ]
  },
  {
   "cell_type": "code",
   "execution_count": null,
   "id": "selected-anthony",
   "metadata": {},
   "outputs": [],
   "source": [
    "visualize_state(env2)"
   ]
  },
  {
   "cell_type": "code",
   "execution_count": 11,
   "id": "severe-japan",
   "metadata": {},
   "outputs": [
    {
     "output_type": "error",
     "ename": "NameError",
     "evalue": "name 'Tree' is not defined",
     "traceback": [
      "\u001b[0;31m---------------------------------------------------------------------------\u001b[0m",
      "\u001b[0;31mNameError\u001b[0m                                 Traceback (most recent call last)",
      "\u001b[0;32m<ipython-input-11-9921855f9960>\u001b[0m in \u001b[0;36m<module>\u001b[0;34m\u001b[0m\n\u001b[1;32m      8\u001b[0m \u001b[0mroot_node\u001b[0m \u001b[0;34m=\u001b[0m \u001b[0mNode\u001b[0m\u001b[0;34m(\u001b[0m\u001b[0mstate\u001b[0m\u001b[0;34m)\u001b[0m\u001b[0;34m\u001b[0m\u001b[0;34m\u001b[0m\u001b[0m\n\u001b[1;32m      9\u001b[0m \u001b[0mmtcs\u001b[0m \u001b[0;34m=\u001b[0m \u001b[0mMCTS\u001b[0m\u001b[0;34m(\u001b[0m\u001b[0mNimState\u001b[0m\u001b[0;34m)\u001b[0m\u001b[0;34m\u001b[0m\u001b[0;34m\u001b[0m\u001b[0m\n\u001b[0;32m---> 10\u001b[0;31m \u001b[0mtree\u001b[0m \u001b[0;34m=\u001b[0m \u001b[0mTree\u001b[0m\u001b[0;34m(\u001b[0m\u001b[0mroot_node\u001b[0m\u001b[0;34m)\u001b[0m\u001b[0;34m\u001b[0m\u001b[0;34m\u001b[0m\u001b[0m\n\u001b[0m\u001b[1;32m     11\u001b[0m \u001b[0;34m\u001b[0m\u001b[0m\n\u001b[1;32m     12\u001b[0m \u001b[0mleaf_node\u001b[0m \u001b[0;34m=\u001b[0m \u001b[0mmtcs\u001b[0m\u001b[0;34m.\u001b[0m\u001b[0mget_leaf_node\u001b[0m\u001b[0;34m(\u001b[0m\u001b[0mtree\u001b[0m\u001b[0;34m)\u001b[0m\u001b[0;34m\u001b[0m\u001b[0;34m\u001b[0m\u001b[0m\n",
      "\u001b[0;31mNameError\u001b[0m: name 'Tree' is not defined"
     ]
    }
   ],
   "source": [
    "import random\n",
    "import numpy as np\n",
    "from graph import Node\n",
    "from state import State, NimState\n",
    "from mcts import *\n",
    "\n",
    "state = NimState(None, 3, 7, True)\n",
    "root_node = Node(state)\n",
    "mtcs = MCTS(NimState)\n",
    "tree = Tree(root_node)\n",
    "\n",
    "leaf_node = mtcs.get_leaf_node(tree)\n",
    "\n",
    "while not leaf_node.state.is_game_over():\n",
    "    print(f'The node we are expanding is {leaf_node}')\n",
    "    mtcs.expand_node(leaf_node)\n",
    "    leaf_node = mtcs.get_leaf_node(tree)\n",
    "\n",
    "winner = leaf_node.state.get_winner()\n",
    "print(f'Game over, the winner is player {1 if winner else 2}')"
   ]
  },
  {
   "cell_type": "code",
   "execution_count": 12,
   "id": "under-design",
   "metadata": {},
   "outputs": [
    {
     "output_type": "error",
     "ename": "TypeError",
     "evalue": "'int' object is not iterable",
     "traceback": [
      "\u001b[0;31m---------------------------------------------------------------------------\u001b[0m",
      "\u001b[0;31mTypeError\u001b[0m                                 Traceback (most recent call last)",
      "\u001b[0;32m<ipython-input-12-e5db50d4739c>\u001b[0m in \u001b[0;36m<module>\u001b[0;34m\u001b[0m\n\u001b[0;32m----> 1\u001b[0;31m \u001b[0;32mfor\u001b[0m \u001b[0mepisode\u001b[0m \u001b[0;32min\u001b[0m \u001b[0;36m10\u001b[0m\u001b[0;34m:\u001b[0m\u001b[0;34m\u001b[0m\u001b[0;34m\u001b[0m\u001b[0m\n\u001b[0m\u001b[1;32m      2\u001b[0m     \u001b[0mstate\u001b[0m \u001b[0;34m=\u001b[0m \u001b[0mNimState\u001b[0m\u001b[0;34m(\u001b[0m\u001b[0;32mNone\u001b[0m\u001b[0;34m,\u001b[0m \u001b[0;36m3\u001b[0m\u001b[0;34m,\u001b[0m \u001b[0;36m7\u001b[0m\u001b[0;34m,\u001b[0m \u001b[0;32mTrue\u001b[0m\u001b[0;34m)\u001b[0m\u001b[0;34m\u001b[0m\u001b[0;34m\u001b[0m\u001b[0m\n\u001b[1;32m      3\u001b[0m     \u001b[0mroot_node\u001b[0m \u001b[0;34m=\u001b[0m \u001b[0mNode\u001b[0m\u001b[0;34m(\u001b[0m\u001b[0mstate\u001b[0m\u001b[0;34m)\u001b[0m\u001b[0;34m\u001b[0m\u001b[0;34m\u001b[0m\u001b[0m\n\u001b[1;32m      4\u001b[0m     \u001b[0mmtcs\u001b[0m \u001b[0;34m=\u001b[0m \u001b[0mMCTS\u001b[0m\u001b[0;34m(\u001b[0m\u001b[0mNimState\u001b[0m\u001b[0;34m)\u001b[0m\u001b[0;34m\u001b[0m\u001b[0;34m\u001b[0m\u001b[0m\n\u001b[1;32m      5\u001b[0m     \u001b[0mtree\u001b[0m \u001b[0;34m=\u001b[0m \u001b[0mTree\u001b[0m\u001b[0;34m(\u001b[0m\u001b[0mroot_node\u001b[0m\u001b[0;34m)\u001b[0m\u001b[0;34m\u001b[0m\u001b[0;34m\u001b[0m\u001b[0m\n",
      "\u001b[0;31mTypeError\u001b[0m: 'int' object is not iterable"
     ]
    }
   ],
   "source": [
    "for episode in 10:\n",
    "    state = NimState(None, 3, 7, True)\n",
    "    root_node = Node(state)\n",
    "    mtcs = MCTS(NimState)\n",
    "    tree = Tree(root_node)\n",
    "    "
   ]
  },
  {
   "source": [
    "\n",
    "1. is = save interval for ANET (the actor network) parameters\n",
    "2. Clear Replay Buffer (RBUF)\n",
    "3. Randomly initialize parameters (weights and biases) of ANET \n",
    "4. For ga in number actual games:\n",
    "\n",
    "  (a) Initialize the actual game board (Ba) to an empty board.\n",
    "\n",
    "  (b) sinit ← starting board state\n",
    "\n",
    "  (c) Initialize the Monte Carlo Tree (MCT) to a single root, which represents sinit \n",
    "  \n",
    "  (d) While Ba not in a final state:\n",
    "\n",
    "    • Initialize Monte Carlo game board (Bmc) to same state as root. \n",
    "\n",
    "    • For gs in number search games:\n",
    "\n",
    "      – Use tree policy Pt to search from root to a leaf (L) of MCT. Update Bmc with each move.\n",
    "\n",
    "      – Use ANET to choose rollout actions from L to a final state (F). Update Bmc with each move. \n",
    "\n",
    "      – Perform MCTS backpropagation from F to root.\n",
    "\n",
    "    • next gs\n",
    "\n",
    "    • D = distribution of visit counts in MCT along all arcs emanating from root. \n",
    "\n",
    "    • Add case (root, D) to RBUF\n",
    "\n",
    "    • Choose actual move (a*) based on D\n",
    "\n",
    "    • Perform a* on root to produce successor state s*\n",
    "\n",
    "    • Update Ba to s*\n",
    "\n",
    "    • In MCT, retain subtree rooted at s*; discard everything else.\n",
    "\n",
    "    • root←s*\n",
    "\n",
    "  (e) Train ANET on a random minibatch of cases from RBUF \n",
    "\n",
    "  (f) if ga modulo is == 0:\n",
    "\n",
    "• Save ANET’s current parameters for later use in tournament play. 5. next ga\n"
   ],
   "cell_type": "markdown",
   "metadata": {}
  },
  {
   "cell_type": "code",
   "execution_count": 1,
   "metadata": {},
   "outputs": [],
   "source": [
    "import random\n",
    "import numpy as np\n",
    "from graph import Node\n",
    "from state import State, NimState\n",
    "from mcts import *\n",
    "from ANET import ANET\n",
    "from Simworld import visualize_state,Hex\n",
    "from tqdm import tqdm\n",
    "from IPython import display\n",
    "import time\n"
   ]
  },
  {
   "cell_type": "code",
   "execution_count": 2,
   "metadata": {},
   "outputs": [],
   "source": [
    "#Training parameters\n",
    "NUMBER_OF_GAMES = 100\n",
    "GAME = Hex\n",
    "STARTING_PLAYER_ID = 1\n",
    "SIZE = 4\n",
    "NUMBER_SEARCH_GAMES = 100\n",
    "\n",
    "\n"
   ]
  },
  {
   "cell_type": "code",
   "execution_count": 21,
   "metadata": {},
   "outputs": [],
   "source": [
    "action_space = Hex(SIZE).get_action_space()\n",
    "anet = ANET(input_size=SIZE,output_size=len(action_space))"
   ]
  },
  {
   "cell_type": "code",
   "execution_count": 22,
   "metadata": {
    "tags": []
   },
   "outputs": [
    {
     "output_type": "stream",
     "name": "stderr",
     "text": [
      "100%|██████████| 100/100 [09:00<00:00,  5.41s/it]\n"
     ]
    }
   ],
   "source": [
    "replay_buffer = []\n",
    "for game in tqdm(range(NUMBER_OF_GAMES)):\n",
    "    #Initialize environment\n",
    "    env = Hex(SIZE,STARTING_PLAYER_ID)\n",
    "    is_final = env.is_final()\n",
    "    #Initialize mcts\n",
    "    root = Node(env)\n",
    "    board_mcts = MCTS(root, anet) \n",
    "    is_final = env.is_final()\n",
    "    while not is_final:\n",
    "        board_mcts.set_root(root)\n",
    "        board_mcts.run_simulations(NUMBER_SEARCH_GAMES)\n",
    "        D,new_root = board_mcts.get_probability_distribution(board_mcts.root,action_space)\n",
    "        state = env.get_state()\n",
    "        replay_buffer.append((state,D))\n",
    "        action =action_space[np.argmax(D)]\n",
    "        #Perform the action in the actual environment\n",
    "        state,_,is_final = env.step(action)\n",
    "        #Update root of MCST to be the choosen childstate\n",
    "        root = new_root\n",
    "        board_mcts.set_root(root)\n",
    "    features = [replay[0] for replay in replay_buffer]\n",
    "    labels = [replay[1] for replay in replay_buffer]\n",
    "    anet.fit(features,labels)\n",
    "    \n",
    "\n",
    "        \n",
    "        \n",
    "        \n",
    "\n",
    "        \n",
    "        \n",
    "\n",
    "\n",
    "\n",
    "         "
   ]
  },
  {
   "cell_type": "code",
   "execution_count": 9,
   "metadata": {},
   "outputs": [
    {
     "output_type": "error",
     "ename": "NameError",
     "evalue": "name 'features' is not defined",
     "traceback": [
      "\u001b[0;31m---------------------------------------------------------------------------\u001b[0m",
      "\u001b[0;31mNameError\u001b[0m                                 Traceback (most recent call last)",
      "\u001b[0;32m<ipython-input-9-224628ecf868>\u001b[0m in \u001b[0;36m<module>\u001b[0;34m\u001b[0m\n\u001b[0;32m----> 1\u001b[0;31m \u001b[0mfeatures\u001b[0m\u001b[0;34m\u001b[0m\u001b[0;34m\u001b[0m\u001b[0m\n\u001b[0m",
      "\u001b[0;31mNameError\u001b[0m: name 'features' is not defined"
     ]
    }
   ],
   "source": [
    "features"
   ]
  },
  {
   "cell_type": "code",
   "execution_count": 18,
   "metadata": {},
   "outputs": [
    {
     "output_type": "error",
     "ename": "RuntimeError",
     "evalue": "Error(s) in loading state_dict for ANET:\n\tMissing key(s) in state_dict: \"model.7.weight\", \"model.7.bias\". \n\tsize mismatch for model.5.weight: copying a param with shape torch.Size([16, 30]) from checkpoint, the shape in current model is torch.Size([20, 30]).\n\tsize mismatch for model.5.bias: copying a param with shape torch.Size([16]) from checkpoint, the shape in current model is torch.Size([20]).",
     "traceback": [
      "\u001b[0;31m---------------------------------------------------------------------------\u001b[0m",
      "\u001b[0;31mRuntimeError\u001b[0m                              Traceback (most recent call last)",
      "\u001b[0;32m<ipython-input-18-31fc73942e66>\u001b[0m in \u001b[0;36m<module>\u001b[0;34m\u001b[0m\n\u001b[1;32m      1\u001b[0m \u001b[0maction_space\u001b[0m \u001b[0;34m=\u001b[0m \u001b[0mHex\u001b[0m\u001b[0;34m(\u001b[0m\u001b[0mSIZE\u001b[0m\u001b[0;34m,\u001b[0m\u001b[0mSTARTING_PLAYER_ID\u001b[0m\u001b[0;34m)\u001b[0m\u001b[0;34m.\u001b[0m\u001b[0mget_action_space\u001b[0m\u001b[0;34m(\u001b[0m\u001b[0;34m)\u001b[0m\u001b[0;34m\u001b[0m\u001b[0;34m\u001b[0m\u001b[0m\n\u001b[1;32m      2\u001b[0m \u001b[0manet\u001b[0m \u001b[0;34m=\u001b[0m \u001b[0mANET\u001b[0m\u001b[0;34m(\u001b[0m\u001b[0minput_size\u001b[0m\u001b[0;34m=\u001b[0m\u001b[0mSIZE\u001b[0m\u001b[0;34m,\u001b[0m\u001b[0moutput_size\u001b[0m\u001b[0;34m=\u001b[0m\u001b[0mlen\u001b[0m\u001b[0;34m(\u001b[0m\u001b[0maction_space\u001b[0m\u001b[0;34m)\u001b[0m\u001b[0;34m)\u001b[0m\u001b[0;34m\u001b[0m\u001b[0;34m\u001b[0m\u001b[0m\n\u001b[0;32m----> 3\u001b[0;31m \u001b[0manet\u001b[0m\u001b[0;34m.\u001b[0m\u001b[0mload_anet\u001b[0m\u001b[0;34m(\u001b[0m\u001b[0mSIZE\u001b[0m\u001b[0;34m,\u001b[0m\u001b[0;36m200\u001b[0m\u001b[0;34m)\u001b[0m\u001b[0;34m\u001b[0m\u001b[0;34m\u001b[0m\u001b[0m\n\u001b[0m",
      "\u001b[0;32m~/Desktop/Github repos/KI_2/ANET.py\u001b[0m in \u001b[0;36mload_anet\u001b[0;34m(self, size, level)\u001b[0m\n\u001b[1;32m    129\u001b[0m \u001b[0;34m\u001b[0m\u001b[0m\n\u001b[1;32m    130\u001b[0m     \u001b[0;32mdef\u001b[0m \u001b[0mload_anet\u001b[0m\u001b[0;34m(\u001b[0m\u001b[0mself\u001b[0m\u001b[0;34m,\u001b[0m \u001b[0msize\u001b[0m\u001b[0;34m,\u001b[0m \u001b[0mlevel\u001b[0m\u001b[0;34m)\u001b[0m\u001b[0;34m:\u001b[0m\u001b[0;34m\u001b[0m\u001b[0;34m\u001b[0m\u001b[0m\n\u001b[0;32m--> 131\u001b[0;31m         self.load_state_dict(torch.load(\n\u001b[0m\u001b[1;32m    132\u001b[0m             \"models/{}_ANET_level_{}\".format(size, level)))\n\u001b[1;32m    133\u001b[0m         \u001b[0mprint\u001b[0m\u001b[0;34m(\u001b[0m\u001b[0;34m\"Loaded model from models/{}_ANET_level_{}\"\u001b[0m\u001b[0;34m.\u001b[0m\u001b[0mformat\u001b[0m\u001b[0;34m(\u001b[0m\u001b[0msize\u001b[0m\u001b[0;34m,\u001b[0m \u001b[0mlevel\u001b[0m\u001b[0;34m)\u001b[0m\u001b[0;34m)\u001b[0m\u001b[0;34m\u001b[0m\u001b[0;34m\u001b[0m\u001b[0m\n",
      "\u001b[0;32m~/opt/anaconda3/envs/AI/lib/python3.9/site-packages/torch/nn/modules/module.py\u001b[0m in \u001b[0;36mload_state_dict\u001b[0;34m(self, state_dict, strict)\u001b[0m\n\u001b[1;32m   1221\u001b[0m \u001b[0;34m\u001b[0m\u001b[0m\n\u001b[1;32m   1222\u001b[0m         \u001b[0;32mif\u001b[0m \u001b[0mlen\u001b[0m\u001b[0;34m(\u001b[0m\u001b[0merror_msgs\u001b[0m\u001b[0;34m)\u001b[0m \u001b[0;34m>\u001b[0m \u001b[0;36m0\u001b[0m\u001b[0;34m:\u001b[0m\u001b[0;34m\u001b[0m\u001b[0;34m\u001b[0m\u001b[0m\n\u001b[0;32m-> 1223\u001b[0;31m             raise RuntimeError('Error(s) in loading state_dict for {}:\\n\\t{}'.format(\n\u001b[0m\u001b[1;32m   1224\u001b[0m                                self.__class__.__name__, \"\\n\\t\".join(error_msgs)))\n\u001b[1;32m   1225\u001b[0m         \u001b[0;32mreturn\u001b[0m \u001b[0m_IncompatibleKeys\u001b[0m\u001b[0;34m(\u001b[0m\u001b[0mmissing_keys\u001b[0m\u001b[0;34m,\u001b[0m \u001b[0munexpected_keys\u001b[0m\u001b[0;34m)\u001b[0m\u001b[0;34m\u001b[0m\u001b[0;34m\u001b[0m\u001b[0m\n",
      "\u001b[0;31mRuntimeError\u001b[0m: Error(s) in loading state_dict for ANET:\n\tMissing key(s) in state_dict: \"model.7.weight\", \"model.7.bias\". \n\tsize mismatch for model.5.weight: copying a param with shape torch.Size([16, 30]) from checkpoint, the shape in current model is torch.Size([20, 30]).\n\tsize mismatch for model.5.bias: copying a param with shape torch.Size([16]) from checkpoint, the shape in current model is torch.Size([20])."
     ]
    }
   ],
   "source": [
    "action_space = Hex(SIZE,STARTING_PLAYER_ID).get_action_space()\n",
    "anet = ANET(input_size=SIZE,output_size=len(action_space))\n",
    "anet.load_anet(SIZE,200)"
   ]
  },
  {
   "cell_type": "code",
   "execution_count": 13,
   "metadata": {
    "tags": []
   },
   "outputs": [
    {
     "output_type": "error",
     "ename": "KeyboardInterrupt",
     "evalue": "",
     "traceback": [
      "\u001b[0;31m---------------------------------------------------------------------------\u001b[0m",
      "\u001b[0;31mKeyboardInterrupt\u001b[0m                         Traceback (most recent call last)",
      "\u001b[0;32m<ipython-input-13-5abc7a3cd65f>\u001b[0m in \u001b[0;36m<module>\u001b[0;34m\u001b[0m\n\u001b[1;32m     18\u001b[0m             \u001b[0;32mif\u001b[0m \u001b[0menv\u001b[0m\u001b[0;34m.\u001b[0m\u001b[0mplayer\u001b[0m\u001b[0;34m==\u001b[0m\u001b[0;36m1\u001b[0m\u001b[0;34m:\u001b[0m\u001b[0;34m\u001b[0m\u001b[0;34m\u001b[0m\u001b[0m\n\u001b[1;32m     19\u001b[0m                 \u001b[0mstate\u001b[0m \u001b[0;34m=\u001b[0m \u001b[0menv\u001b[0m\u001b[0;34m.\u001b[0m\u001b[0mget_state\u001b[0m\u001b[0;34m(\u001b[0m\u001b[0;34m)\u001b[0m\u001b[0;34m\u001b[0m\u001b[0;34m\u001b[0m\u001b[0m\n\u001b[0;32m---> 20\u001b[0;31m                 \u001b[0m_\u001b[0m\u001b[0;34m,\u001b[0m\u001b[0maction_index\u001b[0m \u001b[0;34m=\u001b[0m \u001b[0manet\u001b[0m\u001b[0;34m.\u001b[0m\u001b[0mget_move\u001b[0m\u001b[0;34m(\u001b[0m\u001b[0mstate\u001b[0m\u001b[0;34m)\u001b[0m\u001b[0;34m\u001b[0m\u001b[0;34m\u001b[0m\u001b[0m\n\u001b[0m\u001b[1;32m     21\u001b[0m                 \u001b[0maction\u001b[0m \u001b[0;34m=\u001b[0m \u001b[0maction_space\u001b[0m\u001b[0;34m[\u001b[0m\u001b[0maction_index\u001b[0m\u001b[0;34m]\u001b[0m\u001b[0;34m\u001b[0m\u001b[0;34m\u001b[0m\u001b[0m\n\u001b[1;32m     22\u001b[0m             \u001b[0;32melse\u001b[0m\u001b[0;34m:\u001b[0m\u001b[0;34m\u001b[0m\u001b[0;34m\u001b[0m\u001b[0m\n",
      "\u001b[0;32m~/Desktop/Github repos/KI_2/ANET.py\u001b[0m in \u001b[0;36mget_move\u001b[0;34m(self, state)\u001b[0m\n\u001b[1;32m    101\u001b[0m         \"\"\"\n\u001b[1;32m    102\u001b[0m         \u001b[0mstate\u001b[0m \u001b[0;34m=\u001b[0m \u001b[0mtorch\u001b[0m\u001b[0;34m.\u001b[0m\u001b[0mFloatTensor\u001b[0m\u001b[0;34m(\u001b[0m\u001b[0mstate\u001b[0m\u001b[0;34m)\u001b[0m\u001b[0;34m\u001b[0m\u001b[0;34m\u001b[0m\u001b[0m\n\u001b[0;32m--> 103\u001b[0;31m         \u001b[0mD\u001b[0m \u001b[0;34m=\u001b[0m \u001b[0mself\u001b[0m\u001b[0;34m.\u001b[0m\u001b[0mget_action_probabilities\u001b[0m\u001b[0;34m(\u001b[0m\u001b[0mstate\u001b[0m\u001b[0;34m)\u001b[0m\u001b[0;34m\u001b[0m\u001b[0;34m\u001b[0m\u001b[0m\n\u001b[0m\u001b[1;32m    104\u001b[0m         \u001b[0maction_index\u001b[0m \u001b[0;34m=\u001b[0m \u001b[0mtorch\u001b[0m\u001b[0;34m.\u001b[0m\u001b[0margmax\u001b[0m\u001b[0;34m(\u001b[0m\u001b[0mD\u001b[0m\u001b[0;34m)\u001b[0m\u001b[0;34m.\u001b[0m\u001b[0mitem\u001b[0m\u001b[0;34m(\u001b[0m\u001b[0;34m)\u001b[0m\u001b[0;34m\u001b[0m\u001b[0;34m\u001b[0m\u001b[0m\n\u001b[1;32m    105\u001b[0m         \u001b[0;32mreturn\u001b[0m \u001b[0mD\u001b[0m\u001b[0;34m,\u001b[0m \u001b[0maction_index\u001b[0m\u001b[0;34m\u001b[0m\u001b[0;34m\u001b[0m\u001b[0m\n",
      "\u001b[0;32m~/Desktop/Github repos/KI_2/ANET.py\u001b[0m in \u001b[0;36mget_action_probabilities\u001b[0;34m(self, state)\u001b[0m\n\u001b[1;32m    112\u001b[0m         \"\"\"\n\u001b[1;32m    113\u001b[0m         \u001b[0;31m# Forward through ANET\u001b[0m\u001b[0;34m\u001b[0m\u001b[0;34m\u001b[0m\u001b[0;34m\u001b[0m\u001b[0m\n\u001b[0;32m--> 114\u001b[0;31m         \u001b[0moutput\u001b[0m \u001b[0;34m=\u001b[0m \u001b[0mself\u001b[0m\u001b[0;34m.\u001b[0m\u001b[0mforward\u001b[0m\u001b[0;34m(\u001b[0m\u001b[0mstate\u001b[0m\u001b[0;34m)\u001b[0m\u001b[0;34m\u001b[0m\u001b[0;34m\u001b[0m\u001b[0m\n\u001b[0m\u001b[1;32m    115\u001b[0m         \u001b[0;31m# Set positions that are already taken (cell filled) to zero\u001b[0m\u001b[0;34m\u001b[0m\u001b[0;34m\u001b[0m\u001b[0;34m\u001b[0m\u001b[0m\n\u001b[1;32m    116\u001b[0m         \u001b[0mstate\u001b[0m \u001b[0;34m=\u001b[0m \u001b[0mstate\u001b[0m\u001b[0;34m[\u001b[0m\u001b[0;36m1\u001b[0m\u001b[0;34m:\u001b[0m\u001b[0;34m]\u001b[0m\u001b[0;34m\u001b[0m\u001b[0;34m\u001b[0m\u001b[0m\n",
      "\u001b[0;32m~/Desktop/Github repos/KI_2/ANET.py\u001b[0m in \u001b[0;36mforward\u001b[0;34m(self, x)\u001b[0m\n\u001b[1;32m     74\u001b[0m \u001b[0;34m\u001b[0m\u001b[0m\n\u001b[1;32m     75\u001b[0m         \u001b[0;32mwith\u001b[0m \u001b[0mtorch\u001b[0m\u001b[0;34m.\u001b[0m\u001b[0mno_grad\u001b[0m\u001b[0;34m(\u001b[0m\u001b[0;34m)\u001b[0m\u001b[0;34m:\u001b[0m\u001b[0;34m\u001b[0m\u001b[0;34m\u001b[0m\u001b[0m\n\u001b[0;32m---> 76\u001b[0;31m             \u001b[0;32mreturn\u001b[0m \u001b[0mself\u001b[0m\u001b[0;34m.\u001b[0m\u001b[0mmodel\u001b[0m\u001b[0;34m(\u001b[0m\u001b[0mx\u001b[0m\u001b[0;34m)\u001b[0m\u001b[0;34m\u001b[0m\u001b[0;34m\u001b[0m\u001b[0m\n\u001b[0m\u001b[1;32m     77\u001b[0m \u001b[0;34m\u001b[0m\u001b[0m\n\u001b[1;32m     78\u001b[0m     \u001b[0;32mdef\u001b[0m \u001b[0mfit\u001b[0m\u001b[0;34m(\u001b[0m\u001b[0mself\u001b[0m\u001b[0;34m,\u001b[0m \u001b[0mstate\u001b[0m\u001b[0;34m,\u001b[0m \u001b[0mtarget\u001b[0m\u001b[0;34m)\u001b[0m\u001b[0;34m:\u001b[0m\u001b[0;34m\u001b[0m\u001b[0;34m\u001b[0m\u001b[0m\n",
      "\u001b[0;32m~/opt/anaconda3/envs/AI/lib/python3.9/site-packages/torch/nn/modules/module.py\u001b[0m in \u001b[0;36m_call_impl\u001b[0;34m(self, *input, **kwargs)\u001b[0m\n\u001b[1;32m    887\u001b[0m             \u001b[0mresult\u001b[0m \u001b[0;34m=\u001b[0m \u001b[0mself\u001b[0m\u001b[0;34m.\u001b[0m\u001b[0m_slow_forward\u001b[0m\u001b[0;34m(\u001b[0m\u001b[0;34m*\u001b[0m\u001b[0minput\u001b[0m\u001b[0;34m,\u001b[0m \u001b[0;34m**\u001b[0m\u001b[0mkwargs\u001b[0m\u001b[0;34m)\u001b[0m\u001b[0;34m\u001b[0m\u001b[0;34m\u001b[0m\u001b[0m\n\u001b[1;32m    888\u001b[0m         \u001b[0;32melse\u001b[0m\u001b[0;34m:\u001b[0m\u001b[0;34m\u001b[0m\u001b[0;34m\u001b[0m\u001b[0m\n\u001b[0;32m--> 889\u001b[0;31m             \u001b[0mresult\u001b[0m \u001b[0;34m=\u001b[0m \u001b[0mself\u001b[0m\u001b[0;34m.\u001b[0m\u001b[0mforward\u001b[0m\u001b[0;34m(\u001b[0m\u001b[0;34m*\u001b[0m\u001b[0minput\u001b[0m\u001b[0;34m,\u001b[0m \u001b[0;34m**\u001b[0m\u001b[0mkwargs\u001b[0m\u001b[0;34m)\u001b[0m\u001b[0;34m\u001b[0m\u001b[0;34m\u001b[0m\u001b[0m\n\u001b[0m\u001b[1;32m    890\u001b[0m         for hook in itertools.chain(\n\u001b[1;32m    891\u001b[0m                 \u001b[0m_global_forward_hooks\u001b[0m\u001b[0;34m.\u001b[0m\u001b[0mvalues\u001b[0m\u001b[0;34m(\u001b[0m\u001b[0;34m)\u001b[0m\u001b[0;34m,\u001b[0m\u001b[0;34m\u001b[0m\u001b[0;34m\u001b[0m\u001b[0m\n",
      "\u001b[0;32m~/opt/anaconda3/envs/AI/lib/python3.9/site-packages/torch/nn/modules/container.py\u001b[0m in \u001b[0;36mforward\u001b[0;34m(self, input)\u001b[0m\n\u001b[1;32m    117\u001b[0m     \u001b[0;32mdef\u001b[0m \u001b[0mforward\u001b[0m\u001b[0;34m(\u001b[0m\u001b[0mself\u001b[0m\u001b[0;34m,\u001b[0m \u001b[0minput\u001b[0m\u001b[0;34m)\u001b[0m\u001b[0;34m:\u001b[0m\u001b[0;34m\u001b[0m\u001b[0;34m\u001b[0m\u001b[0m\n\u001b[1;32m    118\u001b[0m         \u001b[0;32mfor\u001b[0m \u001b[0mmodule\u001b[0m \u001b[0;32min\u001b[0m \u001b[0mself\u001b[0m\u001b[0;34m:\u001b[0m\u001b[0;34m\u001b[0m\u001b[0;34m\u001b[0m\u001b[0m\n\u001b[0;32m--> 119\u001b[0;31m             \u001b[0minput\u001b[0m \u001b[0;34m=\u001b[0m \u001b[0mmodule\u001b[0m\u001b[0;34m(\u001b[0m\u001b[0minput\u001b[0m\u001b[0;34m)\u001b[0m\u001b[0;34m\u001b[0m\u001b[0;34m\u001b[0m\u001b[0m\n\u001b[0m\u001b[1;32m    120\u001b[0m         \u001b[0;32mreturn\u001b[0m \u001b[0minput\u001b[0m\u001b[0;34m\u001b[0m\u001b[0;34m\u001b[0m\u001b[0m\n\u001b[1;32m    121\u001b[0m \u001b[0;34m\u001b[0m\u001b[0m\n",
      "\u001b[0;32m~/opt/anaconda3/envs/AI/lib/python3.9/site-packages/torch/nn/modules/module.py\u001b[0m in \u001b[0;36m_call_impl\u001b[0;34m(self, *input, **kwargs)\u001b[0m\n\u001b[1;32m    887\u001b[0m             \u001b[0mresult\u001b[0m \u001b[0;34m=\u001b[0m \u001b[0mself\u001b[0m\u001b[0;34m.\u001b[0m\u001b[0m_slow_forward\u001b[0m\u001b[0;34m(\u001b[0m\u001b[0;34m*\u001b[0m\u001b[0minput\u001b[0m\u001b[0;34m,\u001b[0m \u001b[0;34m**\u001b[0m\u001b[0mkwargs\u001b[0m\u001b[0;34m)\u001b[0m\u001b[0;34m\u001b[0m\u001b[0;34m\u001b[0m\u001b[0m\n\u001b[1;32m    888\u001b[0m         \u001b[0;32melse\u001b[0m\u001b[0;34m:\u001b[0m\u001b[0;34m\u001b[0m\u001b[0;34m\u001b[0m\u001b[0m\n\u001b[0;32m--> 889\u001b[0;31m             \u001b[0mresult\u001b[0m \u001b[0;34m=\u001b[0m \u001b[0mself\u001b[0m\u001b[0;34m.\u001b[0m\u001b[0mforward\u001b[0m\u001b[0;34m(\u001b[0m\u001b[0;34m*\u001b[0m\u001b[0minput\u001b[0m\u001b[0;34m,\u001b[0m \u001b[0;34m**\u001b[0m\u001b[0mkwargs\u001b[0m\u001b[0;34m)\u001b[0m\u001b[0;34m\u001b[0m\u001b[0;34m\u001b[0m\u001b[0m\n\u001b[0m\u001b[1;32m    890\u001b[0m         for hook in itertools.chain(\n\u001b[1;32m    891\u001b[0m                 \u001b[0m_global_forward_hooks\u001b[0m\u001b[0;34m.\u001b[0m\u001b[0mvalues\u001b[0m\u001b[0;34m(\u001b[0m\u001b[0;34m)\u001b[0m\u001b[0;34m,\u001b[0m\u001b[0;34m\u001b[0m\u001b[0;34m\u001b[0m\u001b[0m\n",
      "\u001b[0;32m~/opt/anaconda3/envs/AI/lib/python3.9/site-packages/torch/nn/modules/activation.py\u001b[0m in \u001b[0;36mforward\u001b[0;34m(self, input)\u001b[0m\n\u001b[1;32m   1198\u001b[0m \u001b[0;34m\u001b[0m\u001b[0m\n\u001b[1;32m   1199\u001b[0m     \u001b[0;32mdef\u001b[0m \u001b[0mforward\u001b[0m\u001b[0;34m(\u001b[0m\u001b[0mself\u001b[0m\u001b[0;34m,\u001b[0m \u001b[0minput\u001b[0m\u001b[0;34m:\u001b[0m \u001b[0mTensor\u001b[0m\u001b[0;34m)\u001b[0m \u001b[0;34m->\u001b[0m \u001b[0mTensor\u001b[0m\u001b[0;34m:\u001b[0m\u001b[0;34m\u001b[0m\u001b[0;34m\u001b[0m\u001b[0m\n\u001b[0;32m-> 1200\u001b[0;31m         \u001b[0;32mreturn\u001b[0m \u001b[0mF\u001b[0m\u001b[0;34m.\u001b[0m\u001b[0msoftmax\u001b[0m\u001b[0;34m(\u001b[0m\u001b[0minput\u001b[0m\u001b[0;34m,\u001b[0m \u001b[0mself\u001b[0m\u001b[0;34m.\u001b[0m\u001b[0mdim\u001b[0m\u001b[0;34m,\u001b[0m \u001b[0m_stacklevel\u001b[0m\u001b[0;34m=\u001b[0m\u001b[0;36m5\u001b[0m\u001b[0;34m)\u001b[0m\u001b[0;34m\u001b[0m\u001b[0;34m\u001b[0m\u001b[0m\n\u001b[0m\u001b[1;32m   1201\u001b[0m \u001b[0;34m\u001b[0m\u001b[0m\n\u001b[1;32m   1202\u001b[0m     \u001b[0;32mdef\u001b[0m \u001b[0mextra_repr\u001b[0m\u001b[0;34m(\u001b[0m\u001b[0mself\u001b[0m\u001b[0;34m)\u001b[0m \u001b[0;34m->\u001b[0m \u001b[0mstr\u001b[0m\u001b[0;34m:\u001b[0m\u001b[0;34m\u001b[0m\u001b[0;34m\u001b[0m\u001b[0m\n",
      "\u001b[0;32m~/opt/anaconda3/envs/AI/lib/python3.9/site-packages/torch/nn/functional.py\u001b[0m in \u001b[0;36msoftmax\u001b[0;34m(input, dim, _stacklevel, dtype)\u001b[0m\n\u001b[1;32m   1581\u001b[0m         \u001b[0mdim\u001b[0m \u001b[0;34m=\u001b[0m \u001b[0m_get_softmax_dim\u001b[0m\u001b[0;34m(\u001b[0m\u001b[0;34m\"softmax\"\u001b[0m\u001b[0;34m,\u001b[0m \u001b[0minput\u001b[0m\u001b[0;34m.\u001b[0m\u001b[0mdim\u001b[0m\u001b[0;34m(\u001b[0m\u001b[0;34m)\u001b[0m\u001b[0;34m,\u001b[0m \u001b[0m_stacklevel\u001b[0m\u001b[0;34m)\u001b[0m\u001b[0;34m\u001b[0m\u001b[0;34m\u001b[0m\u001b[0m\n\u001b[1;32m   1582\u001b[0m     \u001b[0;32mif\u001b[0m \u001b[0mdtype\u001b[0m \u001b[0;32mis\u001b[0m \u001b[0;32mNone\u001b[0m\u001b[0;34m:\u001b[0m\u001b[0;34m\u001b[0m\u001b[0;34m\u001b[0m\u001b[0m\n\u001b[0;32m-> 1583\u001b[0;31m         \u001b[0mret\u001b[0m \u001b[0;34m=\u001b[0m \u001b[0minput\u001b[0m\u001b[0;34m.\u001b[0m\u001b[0msoftmax\u001b[0m\u001b[0;34m(\u001b[0m\u001b[0mdim\u001b[0m\u001b[0;34m)\u001b[0m\u001b[0;34m\u001b[0m\u001b[0;34m\u001b[0m\u001b[0m\n\u001b[0m\u001b[1;32m   1584\u001b[0m     \u001b[0;32melse\u001b[0m\u001b[0;34m:\u001b[0m\u001b[0;34m\u001b[0m\u001b[0;34m\u001b[0m\u001b[0m\n\u001b[1;32m   1585\u001b[0m         \u001b[0mret\u001b[0m \u001b[0;34m=\u001b[0m \u001b[0minput\u001b[0m\u001b[0;34m.\u001b[0m\u001b[0msoftmax\u001b[0m\u001b[0;34m(\u001b[0m\u001b[0mdim\u001b[0m\u001b[0;34m,\u001b[0m \u001b[0mdtype\u001b[0m\u001b[0;34m=\u001b[0m\u001b[0mdtype\u001b[0m\u001b[0;34m)\u001b[0m\u001b[0;34m\u001b[0m\u001b[0;34m\u001b[0m\u001b[0m\n",
      "\u001b[0;31mKeyboardInterrupt\u001b[0m: "
     ]
    }
   ],
   "source": [
    "test_games = 100000\n",
    "visualize = False\n",
    "winner = []\n",
    "\n",
    "for game in range(test_games):\n",
    "    #if game==test_games-1:\n",
    "     #   visualize=True\n",
    "    \n",
    "    env = Hex(SIZE,1)\n",
    "    is_final = env.is_final()\n",
    "    while not is_final:\n",
    "            if visualize:\n",
    "                frame = visualize_state(env)\n",
    "                display.clear_output(wait=True)\n",
    "                display.display(frame)\n",
    "                time.sleep(1)\n",
    "            action_list = env.legal_actions()\n",
    "            if env.player==1:\n",
    "                state = env.get_state()\n",
    "                _,action_index = anet.get_move(state)\n",
    "                action = action_space[action_index]\n",
    "            else:\n",
    "                action = random.sample(action_list,1)[0]\n",
    "            next_state,reward,is_final = env.step(action)\n",
    "            state = next_state\n",
    "    if visualize:\n",
    "        display.clear_output(wait=True)\n",
    "        frame = visualize_state(env)\n",
    "        display.display(frame)\n",
    "    winner.append(env.player)\n",
    "\n"
   ]
  },
  {
   "cell_type": "code",
   "execution_count": null,
   "metadata": {},
   "outputs": [],
   "source": []
  },
  {
   "cell_type": "code",
   "execution_count": null,
   "metadata": {},
   "outputs": [],
   "source": [
    "import pandas as pd"
   ]
  },
  {
   "cell_type": "code",
   "execution_count": null,
   "metadata": {},
   "outputs": [],
   "source": [
    "df = pd.DataFrame(winner)\n",
    "df.value_counts(normalize=True).plot.bar()\n",
    "\n"
   ]
  },
  {
   "cell_type": "code",
   "execution_count": 47,
   "metadata": {},
   "outputs": [
    {
     "output_type": "stream",
     "name": "stdout",
     "text": [
      "Model has been saved to models/4_ANET_level_200\n"
     ]
    }
   ],
   "source": [
    "anet.save_anet(SIZE,NUMBER_OF_GAMES)"
   ]
  },
  {
   "cell_type": "code",
   "execution_count": 6,
   "metadata": {},
   "outputs": [],
   "source": [
    "board_state = s_init.board\n",
    "player = s_init.player\n",
    "state = np.insert(board_state,0,player)\n"
   ]
  },
  {
   "cell_type": "code",
   "execution_count": 21,
   "metadata": {},
   "outputs": [
    {
     "output_type": "stream",
     "name": "stdout",
     "text": [
      "Loaded model from models/4_ANET_level_10\n"
     ]
    }
   ],
   "source": [
    "anet2 = ANET(input_size=SIZE,output_size=len(action_space))\n",
    "anet2.load_anet(SIZE,10)"
   ]
  },
  {
   "cell_type": "code",
   "execution_count": 12,
   "metadata": {},
   "outputs": [
    {
     "output_type": "error",
     "ename": "RuntimeError",
     "evalue": "mat1 and mat2 shapes cannot be multiplied (1x0 and 2x60)",
     "traceback": [
      "\u001b[0;31m---------------------------------------------------------------------------\u001b[0m",
      "\u001b[0;31mRuntimeError\u001b[0m                              Traceback (most recent call last)",
      "\u001b[0;32m<ipython-input-12-d5a2cd2c4b49>\u001b[0m in \u001b[0;36m<module>\u001b[0;34m\u001b[0m\n\u001b[0;32m----> 1\u001b[0;31m \u001b[0manet\u001b[0m\u001b[0;34m.\u001b[0m\u001b[0mget_move\u001b[0m\u001b[0;34m(\u001b[0m\u001b[0mstate\u001b[0m\u001b[0;34m)\u001b[0m\u001b[0;34m\u001b[0m\u001b[0;34m\u001b[0m\u001b[0m\n\u001b[0m",
      "\u001b[0;32m~/Desktop/Github repos/KI_2/ANET.py\u001b[0m in \u001b[0;36mget_move\u001b[0;34m(self, state)\u001b[0m\n\u001b[1;32m    103\u001b[0m         \"\"\"\n\u001b[1;32m    104\u001b[0m         \u001b[0mstate\u001b[0m \u001b[0;34m=\u001b[0m \u001b[0mtorch\u001b[0m\u001b[0;34m.\u001b[0m\u001b[0mFloatTensor\u001b[0m\u001b[0;34m(\u001b[0m\u001b[0mstate\u001b[0m\u001b[0;34m)\u001b[0m\u001b[0;34m\u001b[0m\u001b[0;34m\u001b[0m\u001b[0m\n\u001b[0;32m--> 105\u001b[0;31m         \u001b[0mD\u001b[0m \u001b[0;34m=\u001b[0m \u001b[0mself\u001b[0m\u001b[0;34m.\u001b[0m\u001b[0mget_action_probabilities\u001b[0m\u001b[0;34m(\u001b[0m\u001b[0mstate\u001b[0m\u001b[0;34m)\u001b[0m\u001b[0;34m\u001b[0m\u001b[0;34m\u001b[0m\u001b[0m\n\u001b[0m\u001b[1;32m    106\u001b[0m         \u001b[0maction_index\u001b[0m \u001b[0;34m=\u001b[0m \u001b[0mtorch\u001b[0m\u001b[0;34m.\u001b[0m\u001b[0margmax\u001b[0m\u001b[0;34m(\u001b[0m\u001b[0mD\u001b[0m\u001b[0;34m)\u001b[0m\u001b[0;34m.\u001b[0m\u001b[0mitem\u001b[0m\u001b[0;34m(\u001b[0m\u001b[0;34m)\u001b[0m\u001b[0;34m\u001b[0m\u001b[0;34m\u001b[0m\u001b[0m\n\u001b[1;32m    107\u001b[0m         \u001b[0;32mreturn\u001b[0m \u001b[0mD\u001b[0m\u001b[0;34m,\u001b[0m \u001b[0maction_index\u001b[0m\u001b[0;34m\u001b[0m\u001b[0;34m\u001b[0m\u001b[0m\n",
      "\u001b[0;32m~/Desktop/Github repos/KI_2/ANET.py\u001b[0m in \u001b[0;36mget_action_probabilities\u001b[0;34m(self, state)\u001b[0m\n\u001b[1;32m    114\u001b[0m         \"\"\"\n\u001b[1;32m    115\u001b[0m         \u001b[0;31m# Forward through ANET\u001b[0m\u001b[0;34m\u001b[0m\u001b[0;34m\u001b[0m\u001b[0;34m\u001b[0m\u001b[0m\n\u001b[0;32m--> 116\u001b[0;31m         \u001b[0moutput\u001b[0m \u001b[0;34m=\u001b[0m \u001b[0mself\u001b[0m\u001b[0;34m.\u001b[0m\u001b[0mforward\u001b[0m\u001b[0;34m(\u001b[0m\u001b[0mstate\u001b[0m\u001b[0;34m)\u001b[0m\u001b[0;34m\u001b[0m\u001b[0;34m\u001b[0m\u001b[0m\n\u001b[0m\u001b[1;32m    117\u001b[0m         \u001b[0;31m# Set positions that are already taken (cell filled) to zero\u001b[0m\u001b[0;34m\u001b[0m\u001b[0;34m\u001b[0m\u001b[0;34m\u001b[0m\u001b[0m\n\u001b[1;32m    118\u001b[0m         \u001b[0;31m# state = state[1:]\u001b[0m\u001b[0;34m\u001b[0m\u001b[0;34m\u001b[0m\u001b[0;34m\u001b[0m\u001b[0m\n",
      "\u001b[0;32m~/Desktop/Github repos/KI_2/ANET.py\u001b[0m in \u001b[0;36mforward\u001b[0;34m(self, x)\u001b[0m\n\u001b[1;32m     74\u001b[0m         \"\"\"\n\u001b[1;32m     75\u001b[0m         \u001b[0;32mwith\u001b[0m \u001b[0mtorch\u001b[0m\u001b[0;34m.\u001b[0m\u001b[0mno_grad\u001b[0m\u001b[0;34m(\u001b[0m\u001b[0;34m)\u001b[0m\u001b[0;34m:\u001b[0m\u001b[0;34m\u001b[0m\u001b[0;34m\u001b[0m\u001b[0m\n\u001b[0;32m---> 76\u001b[0;31m             \u001b[0;32mreturn\u001b[0m \u001b[0mself\u001b[0m\u001b[0;34m.\u001b[0m\u001b[0mmodel\u001b[0m\u001b[0;34m(\u001b[0m\u001b[0mx\u001b[0m\u001b[0;34m)\u001b[0m\u001b[0;34m\u001b[0m\u001b[0;34m\u001b[0m\u001b[0m\n\u001b[0m\u001b[1;32m     77\u001b[0m \u001b[0;34m\u001b[0m\u001b[0m\n\u001b[1;32m     78\u001b[0m     \u001b[0;32mdef\u001b[0m \u001b[0mfit\u001b[0m\u001b[0;34m(\u001b[0m\u001b[0mself\u001b[0m\u001b[0;34m,\u001b[0m \u001b[0mstate\u001b[0m\u001b[0;34m,\u001b[0m \u001b[0mtarget\u001b[0m\u001b[0;34m)\u001b[0m\u001b[0;34m:\u001b[0m\u001b[0;34m\u001b[0m\u001b[0;34m\u001b[0m\u001b[0m\n",
      "\u001b[0;32m~/opt/anaconda3/envs/AI/lib/python3.9/site-packages/torch/nn/modules/module.py\u001b[0m in \u001b[0;36m_call_impl\u001b[0;34m(self, *input, **kwargs)\u001b[0m\n\u001b[1;32m    887\u001b[0m             \u001b[0mresult\u001b[0m \u001b[0;34m=\u001b[0m \u001b[0mself\u001b[0m\u001b[0;34m.\u001b[0m\u001b[0m_slow_forward\u001b[0m\u001b[0;34m(\u001b[0m\u001b[0;34m*\u001b[0m\u001b[0minput\u001b[0m\u001b[0;34m,\u001b[0m \u001b[0;34m**\u001b[0m\u001b[0mkwargs\u001b[0m\u001b[0;34m)\u001b[0m\u001b[0;34m\u001b[0m\u001b[0;34m\u001b[0m\u001b[0m\n\u001b[1;32m    888\u001b[0m         \u001b[0;32melse\u001b[0m\u001b[0;34m:\u001b[0m\u001b[0;34m\u001b[0m\u001b[0;34m\u001b[0m\u001b[0m\n\u001b[0;32m--> 889\u001b[0;31m             \u001b[0mresult\u001b[0m \u001b[0;34m=\u001b[0m \u001b[0mself\u001b[0m\u001b[0;34m.\u001b[0m\u001b[0mforward\u001b[0m\u001b[0;34m(\u001b[0m\u001b[0;34m*\u001b[0m\u001b[0minput\u001b[0m\u001b[0;34m,\u001b[0m \u001b[0;34m**\u001b[0m\u001b[0mkwargs\u001b[0m\u001b[0;34m)\u001b[0m\u001b[0;34m\u001b[0m\u001b[0;34m\u001b[0m\u001b[0m\n\u001b[0m\u001b[1;32m    890\u001b[0m         for hook in itertools.chain(\n\u001b[1;32m    891\u001b[0m                 \u001b[0m_global_forward_hooks\u001b[0m\u001b[0;34m.\u001b[0m\u001b[0mvalues\u001b[0m\u001b[0;34m(\u001b[0m\u001b[0;34m)\u001b[0m\u001b[0;34m,\u001b[0m\u001b[0;34m\u001b[0m\u001b[0;34m\u001b[0m\u001b[0m\n",
      "\u001b[0;32m~/opt/anaconda3/envs/AI/lib/python3.9/site-packages/torch/nn/modules/container.py\u001b[0m in \u001b[0;36mforward\u001b[0;34m(self, input)\u001b[0m\n\u001b[1;32m    117\u001b[0m     \u001b[0;32mdef\u001b[0m \u001b[0mforward\u001b[0m\u001b[0;34m(\u001b[0m\u001b[0mself\u001b[0m\u001b[0;34m,\u001b[0m \u001b[0minput\u001b[0m\u001b[0;34m)\u001b[0m\u001b[0;34m:\u001b[0m\u001b[0;34m\u001b[0m\u001b[0;34m\u001b[0m\u001b[0m\n\u001b[1;32m    118\u001b[0m         \u001b[0;32mfor\u001b[0m \u001b[0mmodule\u001b[0m \u001b[0;32min\u001b[0m \u001b[0mself\u001b[0m\u001b[0;34m:\u001b[0m\u001b[0;34m\u001b[0m\u001b[0;34m\u001b[0m\u001b[0m\n\u001b[0;32m--> 119\u001b[0;31m             \u001b[0minput\u001b[0m \u001b[0;34m=\u001b[0m \u001b[0mmodule\u001b[0m\u001b[0;34m(\u001b[0m\u001b[0minput\u001b[0m\u001b[0;34m)\u001b[0m\u001b[0;34m\u001b[0m\u001b[0;34m\u001b[0m\u001b[0m\n\u001b[0m\u001b[1;32m    120\u001b[0m         \u001b[0;32mreturn\u001b[0m \u001b[0minput\u001b[0m\u001b[0;34m\u001b[0m\u001b[0;34m\u001b[0m\u001b[0m\n\u001b[1;32m    121\u001b[0m \u001b[0;34m\u001b[0m\u001b[0m\n",
      "\u001b[0;32m~/opt/anaconda3/envs/AI/lib/python3.9/site-packages/torch/nn/modules/module.py\u001b[0m in \u001b[0;36m_call_impl\u001b[0;34m(self, *input, **kwargs)\u001b[0m\n\u001b[1;32m    887\u001b[0m             \u001b[0mresult\u001b[0m \u001b[0;34m=\u001b[0m \u001b[0mself\u001b[0m\u001b[0;34m.\u001b[0m\u001b[0m_slow_forward\u001b[0m\u001b[0;34m(\u001b[0m\u001b[0;34m*\u001b[0m\u001b[0minput\u001b[0m\u001b[0;34m,\u001b[0m \u001b[0;34m**\u001b[0m\u001b[0mkwargs\u001b[0m\u001b[0;34m)\u001b[0m\u001b[0;34m\u001b[0m\u001b[0;34m\u001b[0m\u001b[0m\n\u001b[1;32m    888\u001b[0m         \u001b[0;32melse\u001b[0m\u001b[0;34m:\u001b[0m\u001b[0;34m\u001b[0m\u001b[0;34m\u001b[0m\u001b[0m\n\u001b[0;32m--> 889\u001b[0;31m             \u001b[0mresult\u001b[0m \u001b[0;34m=\u001b[0m \u001b[0mself\u001b[0m\u001b[0;34m.\u001b[0m\u001b[0mforward\u001b[0m\u001b[0;34m(\u001b[0m\u001b[0;34m*\u001b[0m\u001b[0minput\u001b[0m\u001b[0;34m,\u001b[0m \u001b[0;34m**\u001b[0m\u001b[0mkwargs\u001b[0m\u001b[0;34m)\u001b[0m\u001b[0;34m\u001b[0m\u001b[0;34m\u001b[0m\u001b[0m\n\u001b[0m\u001b[1;32m    890\u001b[0m         for hook in itertools.chain(\n\u001b[1;32m    891\u001b[0m                 \u001b[0m_global_forward_hooks\u001b[0m\u001b[0;34m.\u001b[0m\u001b[0mvalues\u001b[0m\u001b[0;34m(\u001b[0m\u001b[0;34m)\u001b[0m\u001b[0;34m,\u001b[0m\u001b[0;34m\u001b[0m\u001b[0;34m\u001b[0m\u001b[0m\n",
      "\u001b[0;32m~/opt/anaconda3/envs/AI/lib/python3.9/site-packages/torch/nn/modules/linear.py\u001b[0m in \u001b[0;36mforward\u001b[0;34m(self, input)\u001b[0m\n\u001b[1;32m     92\u001b[0m \u001b[0;34m\u001b[0m\u001b[0m\n\u001b[1;32m     93\u001b[0m     \u001b[0;32mdef\u001b[0m \u001b[0mforward\u001b[0m\u001b[0;34m(\u001b[0m\u001b[0mself\u001b[0m\u001b[0;34m,\u001b[0m \u001b[0minput\u001b[0m\u001b[0;34m:\u001b[0m \u001b[0mTensor\u001b[0m\u001b[0;34m)\u001b[0m \u001b[0;34m->\u001b[0m \u001b[0mTensor\u001b[0m\u001b[0;34m:\u001b[0m\u001b[0;34m\u001b[0m\u001b[0;34m\u001b[0m\u001b[0m\n\u001b[0;32m---> 94\u001b[0;31m         \u001b[0;32mreturn\u001b[0m \u001b[0mF\u001b[0m\u001b[0;34m.\u001b[0m\u001b[0mlinear\u001b[0m\u001b[0;34m(\u001b[0m\u001b[0minput\u001b[0m\u001b[0;34m,\u001b[0m \u001b[0mself\u001b[0m\u001b[0;34m.\u001b[0m\u001b[0mweight\u001b[0m\u001b[0;34m,\u001b[0m \u001b[0mself\u001b[0m\u001b[0;34m.\u001b[0m\u001b[0mbias\u001b[0m\u001b[0;34m)\u001b[0m\u001b[0;34m\u001b[0m\u001b[0;34m\u001b[0m\u001b[0m\n\u001b[0m\u001b[1;32m     95\u001b[0m \u001b[0;34m\u001b[0m\u001b[0m\n\u001b[1;32m     96\u001b[0m     \u001b[0;32mdef\u001b[0m \u001b[0mextra_repr\u001b[0m\u001b[0;34m(\u001b[0m\u001b[0mself\u001b[0m\u001b[0;34m)\u001b[0m \u001b[0;34m->\u001b[0m \u001b[0mstr\u001b[0m\u001b[0;34m:\u001b[0m\u001b[0;34m\u001b[0m\u001b[0;34m\u001b[0m\u001b[0m\n",
      "\u001b[0;32m~/opt/anaconda3/envs/AI/lib/python3.9/site-packages/torch/nn/functional.py\u001b[0m in \u001b[0;36mlinear\u001b[0;34m(input, weight, bias)\u001b[0m\n\u001b[1;32m   1751\u001b[0m     \u001b[0;32mif\u001b[0m \u001b[0mhas_torch_function_variadic\u001b[0m\u001b[0;34m(\u001b[0m\u001b[0minput\u001b[0m\u001b[0;34m,\u001b[0m \u001b[0mweight\u001b[0m\u001b[0;34m)\u001b[0m\u001b[0;34m:\u001b[0m\u001b[0;34m\u001b[0m\u001b[0;34m\u001b[0m\u001b[0m\n\u001b[1;32m   1752\u001b[0m         \u001b[0;32mreturn\u001b[0m \u001b[0mhandle_torch_function\u001b[0m\u001b[0;34m(\u001b[0m\u001b[0mlinear\u001b[0m\u001b[0;34m,\u001b[0m \u001b[0;34m(\u001b[0m\u001b[0minput\u001b[0m\u001b[0;34m,\u001b[0m \u001b[0mweight\u001b[0m\u001b[0;34m)\u001b[0m\u001b[0;34m,\u001b[0m \u001b[0minput\u001b[0m\u001b[0;34m,\u001b[0m \u001b[0mweight\u001b[0m\u001b[0;34m,\u001b[0m \u001b[0mbias\u001b[0m\u001b[0;34m=\u001b[0m\u001b[0mbias\u001b[0m\u001b[0;34m)\u001b[0m\u001b[0;34m\u001b[0m\u001b[0;34m\u001b[0m\u001b[0m\n\u001b[0;32m-> 1753\u001b[0;31m     \u001b[0;32mreturn\u001b[0m \u001b[0mtorch\u001b[0m\u001b[0;34m.\u001b[0m\u001b[0m_C\u001b[0m\u001b[0;34m.\u001b[0m\u001b[0m_nn\u001b[0m\u001b[0;34m.\u001b[0m\u001b[0mlinear\u001b[0m\u001b[0;34m(\u001b[0m\u001b[0minput\u001b[0m\u001b[0;34m,\u001b[0m \u001b[0mweight\u001b[0m\u001b[0;34m,\u001b[0m \u001b[0mbias\u001b[0m\u001b[0;34m)\u001b[0m\u001b[0;34m\u001b[0m\u001b[0;34m\u001b[0m\u001b[0m\n\u001b[0m\u001b[1;32m   1754\u001b[0m \u001b[0;34m\u001b[0m\u001b[0m\n\u001b[1;32m   1755\u001b[0m \u001b[0;34m\u001b[0m\u001b[0m\n",
      "\u001b[0;31mRuntimeError\u001b[0m: mat1 and mat2 shapes cannot be multiplied (1x0 and 2x60)"
     ]
    }
   ],
   "source": [
    "anet.get_move(state)"
   ]
  },
  {
   "cell_type": "code",
   "execution_count": 16,
   "metadata": {},
   "outputs": [],
   "source": [
    "import torch\n"
   ]
  },
  {
   "cell_type": "code",
   "execution_count": 17,
   "metadata": {},
   "outputs": [
    {
     "output_type": "execute_result",
     "data": {
      "text/plain": [
       "tensor([1., 9.])"
      ]
     },
     "metadata": {},
     "execution_count": 17
    }
   ],
   "source": []
  },
  {
   "cell_type": "code",
   "execution_count": 4,
   "metadata": {},
   "outputs": [],
   "source": []
  },
  {
   "cell_type": "code",
   "execution_count": 5,
   "metadata": {},
   "outputs": [
    {
     "output_type": "execute_result",
     "data": {
      "text/plain": [
       "{0: 1, 1: 2, 2: 3, 3: 4}"
      ]
     },
     "metadata": {},
     "execution_count": 5
    }
   ],
   "source": []
  },
  {
   "cell_type": "code",
   "execution_count": 9,
   "metadata": {},
   "outputs": [],
   "source": [
    "D = np.zeros(len(action_space))"
   ]
  },
  {
   "cell_type": "code",
   "execution_count": 2,
   "metadata": {},
   "outputs": [],
   "source": [
    "env = Hex(4)"
   ]
  },
  {
   "cell_type": "code",
   "execution_count": 1,
   "metadata": {},
   "outputs": [
    {
     "output_type": "error",
     "ename": "NameError",
     "evalue": "name 'env' is not defined",
     "traceback": [
      "\u001b[0;31m---------------------------------------------------------------------------\u001b[0m",
      "\u001b[0;31mNameError\u001b[0m                                 Traceback (most recent call last)",
      "\u001b[0;32m<ipython-input-1-3f3159fc7e50>\u001b[0m in \u001b[0;36m<module>\u001b[0;34m\u001b[0m\n\u001b[0;32m----> 1\u001b[0;31m \u001b[0menv\u001b[0m\u001b[0;34m.\u001b[0m\u001b[0mget_action_space\u001b[0m\u001b[0;34m(\u001b[0m\u001b[0;34m)\u001b[0m\u001b[0;34m\u001b[0m\u001b[0;34m\u001b[0m\u001b[0m\n\u001b[0m",
      "\u001b[0;31mNameError\u001b[0m: name 'env' is not defined"
     ]
    }
   ],
   "source": [
    "env.get_action_space()"
   ]
  },
  {
   "cell_type": "code",
   "execution_count": null,
   "metadata": {},
   "outputs": [],
   "source": []
  }
 ],
 "metadata": {
  "kernelspec": {
   "name": "python392jvsc74a57bd0ce81be6a77568207c8653446c9329bd2af5244ede336bb4195c92db9c1e0543c",
   "display_name": "Python 3.9.2 64-bit ('AI': conda)"
  },
  "language_info": {
   "codemirror_mode": {
    "name": "ipython",
    "version": 3
   },
   "file_extension": ".py",
   "mimetype": "text/x-python",
   "name": "python",
   "nbconvert_exporter": "python",
   "pygments_lexer": "ipython3",
   "version": "3.9.2-final"
  }
 },
 "nbformat": 4,
 "nbformat_minor": 5
}