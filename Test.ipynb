{
 "cells": [
  {
   "cell_type": "code",
   "execution_count": 2,
   "id": "insured-pitch",
   "metadata": {},
   "outputs": [],
   "source": [
    "from Simworld import visualize_state,Hex\n",
    "import numpy as np\n",
    "import random\n",
    "from IPython import display\n",
    "import time"
   ]
  },
  {
   "cell_type": "code",
   "execution_count": 5,
   "id": "atmospheric-prior",
   "metadata": {},
   "outputs": [
    {
     "output_type": "execute_result",
     "data": {
      "text/plain": [
       "(((1, 0, 0, 0), (0, 0, 0, 0), (0, 0, 0, 0), (0, 0, 0, 0)), 0, False)"
      ]
     },
     "metadata": {},
     "execution_count": 5
    }
   ],
   "source": [
    "env = Hex(4)"
   ]
  },
  {
   "cell_type": "code",
   "execution_count": 8,
   "id": "unknown-transportation",
   "metadata": {},
   "outputs": [
    {
     "output_type": "execute_result",
     "data": {
      "text/plain": [
       "((0, 0),\n",
       " (1, 0),\n",
       " (2, 0),\n",
       " (3, 0),\n",
       " (0, 1),\n",
       " (1, 1),\n",
       " (2, 1),\n",
       " (3, 1),\n",
       " (0, 2),\n",
       " (1, 2),\n",
       " (2, 2),\n",
       " (3, 2),\n",
       " (0, 3),\n",
       " (1, 3),\n",
       " (2, 3),\n",
       " (3, 3))"
      ]
     },
     "metadata": {},
     "execution_count": 8
    }
   ],
   "source": []
  },
  {
   "cell_type": "code",
   "execution_count": 4,
   "id": "interstate-consequence",
   "metadata": {},
   "outputs": [
    {
     "output_type": "stream",
     "name": "stdout",
     "text": [
      "Blue player won the game\n"
     ]
    },
    {
     "output_type": "display_data",
     "data": {
      "text/plain": "<Figure size 432x288 with 1 Axes>",
      "image/svg+xml": "<?xml version=\"1.0\" encoding=\"utf-8\" standalone=\"no\"?>\n<!DOCTYPE svg PUBLIC \"-//W3C//DTD SVG 1.1//EN\"\n  \"http://www.w3.org/Graphics/SVG/1.1/DTD/svg11.dtd\">\n<svg height=\"231.84pt\" version=\"1.1\" viewBox=\"0 0 356.379375 231.84\" width=\"356.379375pt\" xmlns=\"http://www.w3.org/2000/svg\" xmlns:xlink=\"http://www.w3.org/1999/xlink\">\n <metadata>\n  <rdf:RDF xmlns:cc=\"http://creativecommons.org/ns#\" xmlns:dc=\"http://purl.org/dc/elements/1.1/\" xmlns:rdf=\"http://www.w3.org/1999/02/22-rdf-syntax-ns#\">\n   <cc:Work>\n    <dc:type rdf:resource=\"http://purl.org/dc/dcmitype/StillImage\"/>\n    <dc:date>2021-04-05T22:25:28.339955</dc:date>\n    <dc:format>image/svg+xml</dc:format>\n    <dc:creator>\n     <cc:Agent>\n      <dc:title>Matplotlib v3.4.1, https://matplotlib.org/</dc:title>\n     </cc:Agent>\n    </dc:creator>\n   </cc:Work>\n  </rdf:RDF>\n </metadata>\n <defs>\n  <style type=\"text/css\">*{stroke-linecap:butt;stroke-linejoin:round;}</style>\n </defs>\n <g id=\"figure_1\">\n  <g id=\"patch_1\">\n   <path d=\"M 0 231.84 \nL 356.379375 231.84 \nL 356.379375 0 \nL 0 0 \nz\n\" style=\"fill:#ffffff;\"/>\n  </g>\n  <g id=\"axes_1\">\n   <g id=\"LineCollection_1\">\n    <path clip-path=\"url(#p669342f543)\" d=\"M 181.779375 17.083636 \nL 131.052102 50.029091 \n\" style=\"fill:none;stroke:#000000;\"/>\n    <path clip-path=\"url(#p669342f543)\" d=\"M 181.779375 17.083636 \nL 232.506648 50.029091 \n\" style=\"fill:none;stroke:#000000;\"/>\n    <path clip-path=\"url(#p669342f543)\" d=\"M 131.052102 50.029091 \nL 80.32483 82.974545 \n\" style=\"fill:none;stroke:#000000;\"/>\n    <path clip-path=\"url(#p669342f543)\" d=\"M 131.052102 50.029091 \nL 181.779375 82.974545 \n\" style=\"fill:none;stroke:#000000;\"/>\n    <path clip-path=\"url(#p669342f543)\" d=\"M 131.052102 50.029091 \nL 232.506648 50.029091 \n\" style=\"fill:none;stroke:#000000;\"/>\n    <path clip-path=\"url(#p669342f543)\" d=\"M 80.32483 82.974545 \nL 29.597557 115.92 \n\" style=\"fill:none;stroke:#000000;\"/>\n    <path clip-path=\"url(#p669342f543)\" d=\"M 80.32483 82.974545 \nL 131.052102 115.92 \n\" style=\"fill:none;stroke:#000000;\"/>\n    <path clip-path=\"url(#p669342f543)\" d=\"M 80.32483 82.974545 \nL 181.779375 82.974545 \n\" style=\"fill:none;stroke:#000000;\"/>\n    <path clip-path=\"url(#p669342f543)\" d=\"M 29.597557 115.92 \nL 80.32483 148.865455 \n\" style=\"fill:none;stroke:#000000;\"/>\n    <path clip-path=\"url(#p669342f543)\" d=\"M 29.597557 115.92 \nL 131.052102 115.92 \n\" style=\"fill:none;stroke:#000000;\"/>\n    <path clip-path=\"url(#p669342f543)\" d=\"M 232.506648 50.029091 \nL 181.779375 82.974545 \n\" style=\"fill:none;stroke:#000000;\"/>\n    <path clip-path=\"url(#p669342f543)\" d=\"M 232.506648 50.029091 \nL 283.23392 82.974545 \n\" style=\"fill:none;stroke:#000000;\"/>\n    <path clip-path=\"url(#p669342f543)\" d=\"M 181.779375 82.974545 \nL 131.052102 115.92 \n\" style=\"fill:none;stroke:#000000;\"/>\n    <path clip-path=\"url(#p669342f543)\" d=\"M 181.779375 82.974545 \nL 232.506648 115.92 \n\" style=\"fill:none;stroke:#000000;\"/>\n    <path clip-path=\"url(#p669342f543)\" d=\"M 181.779375 82.974545 \nL 283.23392 82.974545 \n\" style=\"fill:none;stroke:#000000;\"/>\n    <path clip-path=\"url(#p669342f543)\" d=\"M 131.052102 115.92 \nL 80.32483 148.865455 \n\" style=\"fill:none;stroke:#000000;\"/>\n    <path clip-path=\"url(#p669342f543)\" d=\"M 131.052102 115.92 \nL 181.779375 148.865455 \n\" style=\"fill:none;stroke:#000000;\"/>\n    <path clip-path=\"url(#p669342f543)\" d=\"M 131.052102 115.92 \nL 232.506648 115.92 \n\" style=\"fill:none;stroke:#000000;\"/>\n    <path clip-path=\"url(#p669342f543)\" d=\"M 80.32483 148.865455 \nL 131.052102 181.810909 \n\" style=\"fill:none;stroke:#000000;\"/>\n    <path clip-path=\"url(#p669342f543)\" d=\"M 80.32483 148.865455 \nL 181.779375 148.865455 \n\" style=\"fill:none;stroke:#000000;\"/>\n    <path clip-path=\"url(#p669342f543)\" d=\"M 283.23392 82.974545 \nL 232.506648 115.92 \n\" style=\"fill:none;stroke:#000000;\"/>\n    <path clip-path=\"url(#p669342f543)\" d=\"M 283.23392 82.974545 \nL 333.961193 115.92 \n\" style=\"fill:none;stroke:#000000;\"/>\n    <path clip-path=\"url(#p669342f543)\" d=\"M 232.506648 115.92 \nL 181.779375 148.865455 \n\" style=\"fill:none;stroke:#000000;\"/>\n    <path clip-path=\"url(#p669342f543)\" d=\"M 232.506648 115.92 \nL 283.23392 148.865455 \n\" style=\"fill:none;stroke:#000000;\"/>\n    <path clip-path=\"url(#p669342f543)\" d=\"M 232.506648 115.92 \nL 333.961193 115.92 \n\" style=\"fill:none;stroke:#000000;\"/>\n    <path clip-path=\"url(#p669342f543)\" d=\"M 181.779375 148.865455 \nL 131.052102 181.810909 \n\" style=\"fill:none;stroke:#000000;\"/>\n    <path clip-path=\"url(#p669342f543)\" d=\"M 181.779375 148.865455 \nL 232.506648 181.810909 \n\" style=\"fill:none;stroke:#000000;\"/>\n    <path clip-path=\"url(#p669342f543)\" d=\"M 181.779375 148.865455 \nL 283.23392 148.865455 \n\" style=\"fill:none;stroke:#000000;\"/>\n    <path clip-path=\"url(#p669342f543)\" d=\"M 131.052102 181.810909 \nL 181.779375 214.756364 \n\" style=\"fill:none;stroke:#000000;\"/>\n    <path clip-path=\"url(#p669342f543)\" d=\"M 131.052102 181.810909 \nL 232.506648 181.810909 \n\" style=\"fill:none;stroke:#000000;\"/>\n    <path clip-path=\"url(#p669342f543)\" d=\"M 333.961193 115.92 \nL 283.23392 148.865455 \n\" style=\"fill:none;stroke:#000000;\"/>\n    <path clip-path=\"url(#p669342f543)\" d=\"M 283.23392 148.865455 \nL 232.506648 181.810909 \n\" style=\"fill:none;stroke:#000000;\"/>\n    <path clip-path=\"url(#p669342f543)\" d=\"M 232.506648 181.810909 \nL 181.779375 214.756364 \n\" style=\"fill:none;stroke:#000000;\"/>\n   </g>\n   <g id=\"PathCollection_1\">\n    <defs>\n     <path d=\"M 0 8.660254 \nC 2.296726 8.660254 4.499694 7.747755 6.123724 6.123724 \nC 7.747755 4.499694 8.660254 2.296726 8.660254 -0 \nC 8.660254 -2.296726 7.747755 -4.499694 6.123724 -6.123724 \nC 4.499694 -7.747755 2.296726 -8.660254 0 -8.660254 \nC -2.296726 -8.660254 -4.499694 -7.747755 -6.123724 -6.123724 \nC -7.747755 -4.499694 -8.660254 -2.296726 -8.660254 0 \nC -8.660254 2.296726 -7.747755 4.499694 -6.123724 6.123724 \nC -4.499694 7.747755 -2.296726 8.660254 0 8.660254 \nz\n\" id=\"C0_0_d1eb4f1b67\"/>\n    </defs>\n    <g clip-path=\"url(#p669342f543)\">\n     <use style=\"fill:#ff0000;stroke:#ff0000;\" x=\"181.779375\" xlink:href=\"#C0_0_d1eb4f1b67\" y=\"17.083636\"/>\n    </g>\n    <g clip-path=\"url(#p669342f543)\">\n     <use style=\"fill:#ffffff;stroke:#ffffff;\" x=\"131.052102\" xlink:href=\"#C0_0_d1eb4f1b67\" y=\"50.029091\"/>\n    </g>\n    <g clip-path=\"url(#p669342f543)\">\n     <use style=\"fill:#ff0000;stroke:#ff0000;\" x=\"80.32483\" xlink:href=\"#C0_0_d1eb4f1b67\" y=\"82.974545\"/>\n    </g>\n    <g clip-path=\"url(#p669342f543)\">\n     <use style=\"fill:#0000ff;stroke:#0000ff;\" x=\"29.597557\" xlink:href=\"#C0_0_d1eb4f1b67\" y=\"115.92\"/>\n    </g>\n    <g clip-path=\"url(#p669342f543)\">\n     <use style=\"fill:#ff0000;stroke:#ff0000;\" x=\"232.506648\" xlink:href=\"#C0_0_d1eb4f1b67\" y=\"50.029091\"/>\n    </g>\n    <g clip-path=\"url(#p669342f543)\">\n     <use style=\"fill:#0000ff;stroke:#0000ff;\" x=\"181.779375\" xlink:href=\"#C0_0_d1eb4f1b67\" y=\"82.974545\"/>\n    </g>\n    <g clip-path=\"url(#p669342f543)\">\n     <use style=\"fill:#ff0000;stroke:#ff0000;\" x=\"131.052102\" xlink:href=\"#C0_0_d1eb4f1b67\" y=\"115.92\"/>\n    </g>\n    <g clip-path=\"url(#p669342f543)\">\n     <use style=\"fill:#ff0000;stroke:#ff0000;\" x=\"80.32483\" xlink:href=\"#C0_0_d1eb4f1b67\" y=\"148.865455\"/>\n    </g>\n    <g clip-path=\"url(#p669342f543)\">\n     <use style=\"fill:#0000ff;stroke:#0000ff;\" x=\"283.23392\" xlink:href=\"#C0_0_d1eb4f1b67\" y=\"82.974545\"/>\n    </g>\n    <g clip-path=\"url(#p669342f543)\">\n     <use style=\"fill:#0000ff;stroke:#0000ff;\" x=\"232.506648\" xlink:href=\"#C0_0_d1eb4f1b67\" y=\"115.92\"/>\n    </g>\n    <g clip-path=\"url(#p669342f543)\">\n     <use style=\"fill:#ff0000;stroke:#ff0000;\" x=\"181.779375\" xlink:href=\"#C0_0_d1eb4f1b67\" y=\"148.865455\"/>\n    </g>\n    <g clip-path=\"url(#p669342f543)\">\n     <use style=\"fill:#ff0000;stroke:#ff0000;\" x=\"131.052102\" xlink:href=\"#C0_0_d1eb4f1b67\" y=\"181.810909\"/>\n    </g>\n    <g clip-path=\"url(#p669342f543)\">\n     <use style=\"fill:#0000ff;stroke:#0000ff;\" x=\"333.961193\" xlink:href=\"#C0_0_d1eb4f1b67\" y=\"115.92\"/>\n    </g>\n    <g clip-path=\"url(#p669342f543)\">\n     <use style=\"fill:#0000ff;stroke:#0000ff;\" x=\"283.23392\" xlink:href=\"#C0_0_d1eb4f1b67\" y=\"148.865455\"/>\n    </g>\n    <g clip-path=\"url(#p669342f543)\">\n     <use style=\"fill:#0000ff;stroke:#0000ff;\" x=\"232.506648\" xlink:href=\"#C0_0_d1eb4f1b67\" y=\"181.810909\"/>\n    </g>\n    <g clip-path=\"url(#p669342f543)\">\n     <use style=\"fill:#0000ff;stroke:#0000ff;\" x=\"181.779375\" xlink:href=\"#C0_0_d1eb4f1b67\" y=\"214.756364\"/>\n    </g>\n   </g>\n   <g id=\"patch_2\">\n    <path d=\"M 56.414126 22.99015 \nQ 72.049425 34.762471 87.684724 46.534792 \nL 90.090716 43.339295 \nQ 93.080681 49.34582 96.070646 55.352346 \nQ 89.471692 54.139066 82.872739 52.925785 \nL 85.278731 49.730288 \nQ 69.643433 37.957968 54.008134 26.185647 \nL 56.414126 22.99015 \nz\n\" style=\"fill:#ff0000;stroke:#000000;stroke-linecap:round;\"/>\n   </g>\n   <g id=\"text_1\">\n    <!-- Player 2 -->\n    <g transform=\"translate(7.2 16.972837)scale(0.1 -0.1)\">\n     <defs>\n      <path d=\"M 1259 4147 \nL 1259 2394 \nL 2053 2394 \nQ 2494 2394 2734 2622 \nQ 2975 2850 2975 3272 \nQ 2975 3691 2734 3919 \nQ 2494 4147 2053 4147 \nL 1259 4147 \nz\nM 628 4666 \nL 2053 4666 \nQ 2838 4666 3239 4311 \nQ 3641 3956 3641 3272 \nQ 3641 2581 3239 2228 \nQ 2838 1875 2053 1875 \nL 1259 1875 \nL 1259 0 \nL 628 0 \nL 628 4666 \nz\n\" id=\"DejaVuSans-50\" transform=\"scale(0.015625)\"/>\n      <path d=\"M 603 4863 \nL 1178 4863 \nL 1178 0 \nL 603 0 \nL 603 4863 \nz\n\" id=\"DejaVuSans-6c\" transform=\"scale(0.015625)\"/>\n      <path d=\"M 2194 1759 \nQ 1497 1759 1228 1600 \nQ 959 1441 959 1056 \nQ 959 750 1161 570 \nQ 1363 391 1709 391 \nQ 2188 391 2477 730 \nQ 2766 1069 2766 1631 \nL 2766 1759 \nL 2194 1759 \nz\nM 3341 1997 \nL 3341 0 \nL 2766 0 \nL 2766 531 \nQ 2569 213 2275 61 \nQ 1981 -91 1556 -91 \nQ 1019 -91 701 211 \nQ 384 513 384 1019 \nQ 384 1609 779 1909 \nQ 1175 2209 1959 2209 \nL 2766 2209 \nL 2766 2266 \nQ 2766 2663 2505 2880 \nQ 2244 3097 1772 3097 \nQ 1472 3097 1187 3025 \nQ 903 2953 641 2809 \nL 641 3341 \nQ 956 3463 1253 3523 \nQ 1550 3584 1831 3584 \nQ 2591 3584 2966 3190 \nQ 3341 2797 3341 1997 \nz\n\" id=\"DejaVuSans-61\" transform=\"scale(0.015625)\"/>\n      <path d=\"M 2059 -325 \nQ 1816 -950 1584 -1140 \nQ 1353 -1331 966 -1331 \nL 506 -1331 \nL 506 -850 \nL 844 -850 \nQ 1081 -850 1212 -737 \nQ 1344 -625 1503 -206 \nL 1606 56 \nL 191 3500 \nL 800 3500 \nL 1894 763 \nL 2988 3500 \nL 3597 3500 \nL 2059 -325 \nz\n\" id=\"DejaVuSans-79\" transform=\"scale(0.015625)\"/>\n      <path d=\"M 3597 1894 \nL 3597 1613 \nL 953 1613 \nQ 991 1019 1311 708 \nQ 1631 397 2203 397 \nQ 2534 397 2845 478 \nQ 3156 559 3463 722 \nL 3463 178 \nQ 3153 47 2828 -22 \nQ 2503 -91 2169 -91 \nQ 1331 -91 842 396 \nQ 353 884 353 1716 \nQ 353 2575 817 3079 \nQ 1281 3584 2069 3584 \nQ 2775 3584 3186 3129 \nQ 3597 2675 3597 1894 \nz\nM 3022 2063 \nQ 3016 2534 2758 2815 \nQ 2500 3097 2075 3097 \nQ 1594 3097 1305 2825 \nQ 1016 2553 972 2059 \nL 3022 2063 \nz\n\" id=\"DejaVuSans-65\" transform=\"scale(0.015625)\"/>\n      <path d=\"M 2631 2963 \nQ 2534 3019 2420 3045 \nQ 2306 3072 2169 3072 \nQ 1681 3072 1420 2755 \nQ 1159 2438 1159 1844 \nL 1159 0 \nL 581 0 \nL 581 3500 \nL 1159 3500 \nL 1159 2956 \nQ 1341 3275 1631 3429 \nQ 1922 3584 2338 3584 \nQ 2397 3584 2469 3576 \nQ 2541 3569 2628 3553 \nL 2631 2963 \nz\n\" id=\"DejaVuSans-72\" transform=\"scale(0.015625)\"/>\n      <path id=\"DejaVuSans-20\" transform=\"scale(0.015625)\"/>\n      <path d=\"M 1228 531 \nL 3431 531 \nL 3431 0 \nL 469 0 \nL 469 531 \nQ 828 903 1448 1529 \nQ 2069 2156 2228 2338 \nQ 2531 2678 2651 2914 \nQ 2772 3150 2772 3378 \nQ 2772 3750 2511 3984 \nQ 2250 4219 1831 4219 \nQ 1534 4219 1204 4116 \nQ 875 4013 500 3803 \nL 500 4441 \nQ 881 4594 1212 4672 \nQ 1544 4750 1819 4750 \nQ 2544 4750 2975 4387 \nQ 3406 4025 3406 3419 \nQ 3406 3131 3298 2873 \nQ 3191 2616 2906 2266 \nQ 2828 2175 2409 1742 \nQ 1991 1309 1228 531 \nz\n\" id=\"DejaVuSans-32\" transform=\"scale(0.015625)\"/>\n     </defs>\n     <use xlink:href=\"#DejaVuSans-50\"/>\n     <use x=\"60.302734\" xlink:href=\"#DejaVuSans-6c\"/>\n     <use x=\"88.085938\" xlink:href=\"#DejaVuSans-61\"/>\n     <use x=\"149.365234\" xlink:href=\"#DejaVuSans-79\"/>\n     <use x=\"208.544922\" xlink:href=\"#DejaVuSans-65\"/>\n     <use x=\"270.068359\" xlink:href=\"#DejaVuSans-72\"/>\n     <use x=\"311.181641\" xlink:href=\"#DejaVuSans-20\"/>\n     <use x=\"342.96875\" xlink:href=\"#DejaVuSans-32\"/>\n    </g>\n   </g>\n   <g id=\"patch_3\">\n    <path d=\"M 299.841722 26.337245 \nQ 286.817572 37.661228 273.793422 48.985211 \nL 276.417957 52.00379 \nQ 269.921047 53.677215 263.424137 55.350641 \nQ 265.984245 49.149347 268.544353 42.948054 \nL 271.168887 45.966633 \nQ 284.193037 34.64265 297.217187 23.318666 \nL 299.841722 26.337245 \nz\n\" style=\"fill:#0000ff;stroke:#000000;stroke-linecap:round;\"/>\n   </g>\n   <g id=\"text_2\">\n    <!-- Player 1 -->\n    <g transform=\"translate(305.172 16.972837)scale(0.1 -0.1)\">\n     <defs>\n      <path d=\"M 794 531 \nL 1825 531 \nL 1825 4091 \nL 703 3866 \nL 703 4441 \nL 1819 4666 \nL 2450 4666 \nL 2450 531 \nL 3481 531 \nL 3481 0 \nL 794 0 \nL 794 531 \nz\n\" id=\"DejaVuSans-31\" transform=\"scale(0.015625)\"/>\n     </defs>\n     <use xlink:href=\"#DejaVuSans-50\"/>\n     <use x=\"60.302734\" xlink:href=\"#DejaVuSans-6c\"/>\n     <use x=\"88.085938\" xlink:href=\"#DejaVuSans-61\"/>\n     <use x=\"149.365234\" xlink:href=\"#DejaVuSans-79\"/>\n     <use x=\"208.544922\" xlink:href=\"#DejaVuSans-65\"/>\n     <use x=\"270.068359\" xlink:href=\"#DejaVuSans-72\"/>\n     <use x=\"311.181641\" xlink:href=\"#DejaVuSans-20\"/>\n     <use x=\"342.96875\" xlink:href=\"#DejaVuSans-31\"/>\n    </g>\n   </g>\n  </g>\n </g>\n <defs>\n  <clipPath id=\"p669342f543\">\n   <rect height=\"217.44\" width=\"334.8\" x=\"14.379375\" y=\"7.2\"/>\n  </clipPath>\n </defs>\n</svg>\n",
      "image/png": "[encoded data removed]"
     },
     "metadata": {}
    }
   ],
   "source": [
    "while not is_final:\n",
    "        frame = visualize_state(env)\n",
    "        display.clear_output(wait=True)\n",
    "        display.display(frame)\n",
    "        time.sleep(1)\n",
    "        #Add SAP in case there are new states\n",
    "        \n",
    "        action = random.sample(action_list,1)[0]\n",
    "        next_state,reward,is_final = env.step(action)\n",
    "        state = next_state\n",
    "display.clear_output(wait=True)\n",
    "frame = visualize_state(env)\n",
    "display.display(frame)\n"
   ]
  },
  {
   "cell_type": "code",
   "execution_count": 5,
   "id": "proved-paraguay",
   "metadata": {},
   "outputs": [
    {
     "output_type": "stream",
     "name": "stdout",
     "text": [
      "Blue player won the game\n"
     ]
    },
    {
     "output_type": "execute_result",
     "data": {
      "text/plain": [
       "<Figure size 432x288 with 1 Axes>"
      ],
      "image/svg+xml": "<?xml version=\"1.0\" encoding=\"utf-8\" standalone=\"no\"?>\n<!DOCTYPE svg PUBLIC \"-//W3C//DTD SVG 1.1//EN\"\n  \"http://www.w3.org/Graphics/SVG/1.1/DTD/svg11.dtd\">\n<svg height=\"231.84pt\" version=\"1.1\" viewBox=\"0 0 356.379375 231.84\" width=\"356.379375pt\" xmlns=\"http://www.w3.org/2000/svg\" xmlns:xlink=\"http://www.w3.org/1999/xlink\">\n <metadata>\n  <rdf:RDF xmlns:cc=\"http://creativecommons.org/ns#\" xmlns:dc=\"http://purl.org/dc/elements/1.1/\" xmlns:rdf=\"http://www.w3.org/1999/02/22-rdf-syntax-ns#\">\n   <cc:Work>\n    <dc:type rdf:resource=\"http://purl.org/dc/dcmitype/StillImage\"/>\n    <dc:date>2021-04-05T22:25:28.754839</dc:date>\n    <dc:format>image/svg+xml</dc:format>\n    <dc:creator>\n     <cc:Agent>\n      <dc:title>Matplotlib v3.4.1, https://matplotlib.org/</dc:title>\n     </cc:Agent>\n    </dc:creator>\n   </cc:Work>\n  </rdf:RDF>\n </metadata>\n <defs>\n  <style type=\"text/css\">*{stroke-linecap:butt;stroke-linejoin:round;}</style>\n </defs>\n <g id=\"figure_1\">\n  <g id=\"patch_1\">\n   <path d=\"M 0 231.84 \nL 356.379375 231.84 \nL 356.379375 0 \nL 0 0 \nz\n\" style=\"fill:#ffffff;\"/>\n  </g>\n  <g id=\"axes_1\">\n   <g id=\"LineCollection_1\">\n    <path clip-path=\"url(#p0f824d0ac7)\" d=\"M 181.779375 17.083636 \nL 131.052102 50.029091 \n\" style=\"fill:none;stroke:#000000;\"/>\n    <path clip-path=\"url(#p0f824d0ac7)\" d=\"M 181.779375 17.083636 \nL 232.506648 50.029091 \n\" style=\"fill:none;stroke:#000000;\"/>\n    <path clip-path=\"url(#p0f824d0ac7)\" d=\"M 131.052102 50.029091 \nL 80.32483 82.974545 \n\" style=\"fill:none;stroke:#000000;\"/>\n    <path clip-path=\"url(#p0f824d0ac7)\" d=\"M 131.052102 50.029091 \nL 181.779375 82.974545 \n\" style=\"fill:none;stroke:#000000;\"/>\n    <path clip-path=\"url(#p0f824d0ac7)\" d=\"M 131.052102 50.029091 \nL 232.506648 50.029091 \n\" style=\"fill:none;stroke:#000000;\"/>\n    <path clip-path=\"url(#p0f824d0ac7)\" d=\"M 80.32483 82.974545 \nL 29.597557 115.92 \n\" style=\"fill:none;stroke:#000000;\"/>\n    <path clip-path=\"url(#p0f824d0ac7)\" d=\"M 80.32483 82.974545 \nL 131.052102 115.92 \n\" style=\"fill:none;stroke:#000000;\"/>\n    <path clip-path=\"url(#p0f824d0ac7)\" d=\"M 80.32483 82.974545 \nL 181.779375 82.974545 \n\" style=\"fill:none;stroke:#000000;\"/>\n    <path clip-path=\"url(#p0f824d0ac7)\" d=\"M 29.597557 115.92 \nL 80.32483 148.865455 \n\" style=\"fill:none;stroke:#000000;\"/>\n    <path clip-path=\"url(#p0f824d0ac7)\" d=\"M 29.597557 115.92 \nL 131.052102 115.92 \n\" style=\"fill:none;stroke:#000000;\"/>\n    <path clip-path=\"url(#p0f824d0ac7)\" d=\"M 232.506648 50.029091 \nL 181.779375 82.974545 \n\" style=\"fill:none;stroke:#000000;\"/>\n    <path clip-path=\"url(#p0f824d0ac7)\" d=\"M 232.506648 50.029091 \nL 283.23392 82.974545 \n\" style=\"fill:none;stroke:#000000;\"/>\n    <path clip-path=\"url(#p0f824d0ac7)\" d=\"M 181.779375 82.974545 \nL 131.052102 115.92 \n\" style=\"fill:none;stroke:#000000;\"/>\n    <path clip-path=\"url(#p0f824d0ac7)\" d=\"M 181.779375 82.974545 \nL 232.506648 115.92 \n\" style=\"fill:none;stroke:#000000;\"/>\n    <path clip-path=\"url(#p0f824d0ac7)\" d=\"M 181.779375 82.974545 \nL 283.23392 82.974545 \n\" style=\"fill:none;stroke:#000000;\"/>\n    <path clip-path=\"url(#p0f824d0ac7)\" d=\"M 131.052102 115.92 \nL 80.32483 148.865455 \n\" style=\"fill:none;stroke:#000000;\"/>\n    <path clip-path=\"url(#p0f824d0ac7)\" d=\"M 131.052102 115.92 \nL 181.779375 148.865455 \n\" style=\"fill:none;stroke:#000000;\"/>\n    <path clip-path=\"url(#p0f824d0ac7)\" d=\"M 131.052102 115.92 \nL 232.506648 115.92 \n\" style=\"fill:none;stroke:#000000;\"/>\n    <path clip-path=\"url(#p0f824d0ac7)\" d=\"M 80.32483 148.865455 \nL 131.052102 181.810909 \n\" style=\"fill:none;stroke:#000000;\"/>\n    <path clip-path=\"url(#p0f824d0ac7)\" d=\"M 80.32483 148.865455 \nL 181.779375 148.865455 \n\" style=\"fill:none;stroke:#000000;\"/>\n    <path clip-path=\"url(#p0f824d0ac7)\" d=\"M 283.23392 82.974545 \nL 232.506648 115.92 \n\" style=\"fill:none;stroke:#000000;\"/>\n    <path clip-path=\"url(#p0f824d0ac7)\" d=\"M 283.23392 82.974545 \nL 333.961193 115.92 \n\" style=\"fill:none;stroke:#000000;\"/>\n    <path clip-path=\"url(#p0f824d0ac7)\" d=\"M 232.506648 115.92 \nL 181.779375 148.865455 \n\" style=\"fill:none;stroke:#000000;\"/>\n    <path clip-path=\"url(#p0f824d0ac7)\" d=\"M 232.506648 115.92 \nL 283.23392 148.865455 \n\" style=\"fill:none;stroke:#000000;\"/>\n    <path clip-path=\"url(#p0f824d0ac7)\" d=\"M 232.506648 115.92 \nL 333.961193 115.92 \n\" style=\"fill:none;stroke:#000000;\"/>\n    <path clip-path=\"url(#p0f824d0ac7)\" d=\"M 181.779375 148.865455 \nL 131.052102 181.810909 \n\" style=\"fill:none;stroke:#000000;\"/>\n    <path clip-path=\"url(#p0f824d0ac7)\" d=\"M 181.779375 148.865455 \nL 232.506648 181.810909 \n\" style=\"fill:none;stroke:#000000;\"/>\n    <path clip-path=\"url(#p0f824d0ac7)\" d=\"M 181.779375 148.865455 \nL 283.23392 148.865455 \n\" style=\"fill:none;stroke:#000000;\"/>\n    <path clip-path=\"url(#p0f824d0ac7)\" d=\"M 131.052102 181.810909 \nL 181.779375 214.756364 \n\" style=\"fill:none;stroke:#000000;\"/>\n    <path clip-path=\"url(#p0f824d0ac7)\" d=\"M 131.052102 181.810909 \nL 232.506648 181.810909 \n\" style=\"fill:none;stroke:#000000;\"/>\n    <path clip-path=\"url(#p0f824d0ac7)\" d=\"M 333.961193 115.92 \nL 283.23392 148.865455 \n\" style=\"fill:none;stroke:#000000;\"/>\n    <path clip-path=\"url(#p0f824d0ac7)\" d=\"M 283.23392 148.865455 \nL 232.506648 181.810909 \n\" style=\"fill:none;stroke:#000000;\"/>\n    <path clip-path=\"url(#p0f824d0ac7)\" d=\"M 232.506648 181.810909 \nL 181.779375 214.756364 \n\" style=\"fill:none;stroke:#000000;\"/>\n   </g>\n   <g id=\"PathCollection_1\">\n    <defs>\n     <path d=\"M 0 8.660254 \nC 2.296726 8.660254 4.499694 7.747755 6.123724 6.123724 \nC 7.747755 4.499694 8.660254 2.296726 8.660254 -0 \nC 8.660254 -2.296726 7.747755 -4.499694 6.123724 -6.123724 \nC 4.499694 -7.747755 2.296726 -8.660254 0 -8.660254 \nC -2.296726 -8.660254 -4.499694 -7.747755 -6.123724 -6.123724 \nC -7.747755 -4.499694 -8.660254 -2.296726 -8.660254 0 \nC -8.660254 2.296726 -7.747755 4.499694 -6.123724 6.123724 \nC -4.499694 7.747755 -2.296726 8.660254 0 8.660254 \nz\n\" id=\"C0_0_23f999e9b7\"/>\n    </defs>\n    <g clip-path=\"url(#p0f824d0ac7)\">\n     <use style=\"fill:#ff0000;stroke:#ff0000;\" x=\"181.779375\" xlink:href=\"#C0_0_23f999e9b7\" y=\"17.083636\"/>\n    </g>\n    <g clip-path=\"url(#p0f824d0ac7)\">\n     <use style=\"fill:#ffffff;stroke:#ffffff;\" x=\"131.052102\" xlink:href=\"#C0_0_23f999e9b7\" y=\"50.029091\"/>\n    </g>\n    <g clip-path=\"url(#p0f824d0ac7)\">\n     <use style=\"fill:#ff0000;stroke:#ff0000;\" x=\"80.32483\" xlink:href=\"#C0_0_23f999e9b7\" y=\"82.974545\"/>\n    </g>\n    <g clip-path=\"url(#p0f824d0ac7)\">\n     <use style=\"fill:#0000ff;stroke:#0000ff;\" x=\"29.597557\" xlink:href=\"#C0_0_23f999e9b7\" y=\"115.92\"/>\n    </g>\n    <g clip-path=\"url(#p0f824d0ac7)\">\n     <use style=\"fill:#ff0000;stroke:#ff0000;\" x=\"232.506648\" xlink:href=\"#C0_0_23f999e9b7\" y=\"50.029091\"/>\n    </g>\n    <g clip-path=\"url(#p0f824d0ac7)\">\n     <use style=\"fill:#0000ff;stroke:#0000ff;\" x=\"181.779375\" xlink:href=\"#C0_0_23f999e9b7\" y=\"82.974545\"/>\n    </g>\n    <g clip-path=\"url(#p0f824d0ac7)\">\n     <use style=\"fill:#ff0000;stroke:#ff0000;\" x=\"131.052102\" xlink:href=\"#C0_0_23f999e9b7\" y=\"115.92\"/>\n    </g>\n    <g clip-path=\"url(#p0f824d0ac7)\">\n     <use style=\"fill:#ff0000;stroke:#ff0000;\" x=\"80.32483\" xlink:href=\"#C0_0_23f999e9b7\" y=\"148.865455\"/>\n    </g>\n    <g clip-path=\"url(#p0f824d0ac7)\">\n     <use style=\"fill:#0000ff;stroke:#0000ff;\" x=\"283.23392\" xlink:href=\"#C0_0_23f999e9b7\" y=\"82.974545\"/>\n    </g>\n    <g clip-path=\"url(#p0f824d0ac7)\">\n     <use style=\"fill:#0000ff;stroke:#0000ff;\" x=\"232.506648\" xlink:href=\"#C0_0_23f999e9b7\" y=\"115.92\"/>\n    </g>\n    <g clip-path=\"url(#p0f824d0ac7)\">\n     <use style=\"fill:#ff0000;stroke:#ff0000;\" x=\"181.779375\" xlink:href=\"#C0_0_23f999e9b7\" y=\"148.865455\"/>\n    </g>\n    <g clip-path=\"url(#p0f824d0ac7)\">\n     <use style=\"fill:#ff0000;stroke:#ff0000;\" x=\"131.052102\" xlink:href=\"#C0_0_23f999e9b7\" y=\"181.810909\"/>\n    </g>\n    <g clip-path=\"url(#p0f824d0ac7)\">\n     <use style=\"fill:#0000ff;stroke:#0000ff;\" x=\"333.961193\" xlink:href=\"#C0_0_23f999e9b7\" y=\"115.92\"/>\n    </g>\n    <g clip-path=\"url(#p0f824d0ac7)\">\n     <use style=\"fill:#0000ff;stroke:#0000ff;\" x=\"283.23392\" xlink:href=\"#C0_0_23f999e9b7\" y=\"148.865455\"/>\n    </g>\n    <g clip-path=\"url(#p0f824d0ac7)\">\n     <use style=\"fill:#0000ff;stroke:#0000ff;\" x=\"232.506648\" xlink:href=\"#C0_0_23f999e9b7\" y=\"181.810909\"/>\n    </g>\n    <g clip-path=\"url(#p0f824d0ac7)\">\n     <use style=\"fill:#0000ff;stroke:#0000ff;\" x=\"181.779375\" xlink:href=\"#C0_0_23f999e9b7\" y=\"214.756364\"/>\n    </g>\n   </g>\n   <g id=\"patch_2\">\n    <path d=\"M 56.414126 22.99015 \nQ 72.049425 34.762471 87.684724 46.534792 \nL 90.090716 43.339295 \nQ 93.080681 49.34582 96.070646 55.352346 \nQ 89.471692 54.139066 82.872739 52.925785 \nL 85.278731 49.730288 \nQ 69.643433 37.957968 54.008134 26.185647 \nL 56.414126 22.99015 \nz\n\" style=\"fill:#ff0000;stroke:#000000;stroke-linecap:round;\"/>\n   </g>\n   <g id=\"text_1\">\n    <!-- Player 2 -->\n    <g transform=\"translate(7.2 16.972837)scale(0.1 -0.1)\">\n     <defs>\n      <path d=\"M 1259 4147 \nL 1259 2394 \nL 2053 2394 \nQ 2494 2394 2734 2622 \nQ 2975 2850 2975 3272 \nQ 2975 3691 2734 3919 \nQ 2494 4147 2053 4147 \nL 1259 4147 \nz\nM 628 4666 \nL 2053 4666 \nQ 2838 4666 3239 4311 \nQ 3641 3956 3641 3272 \nQ 3641 2581 3239 2228 \nQ 2838 1875 2053 1875 \nL 1259 1875 \nL 1259 0 \nL 628 0 \nL 628 4666 \nz\n\" id=\"DejaVuSans-50\" transform=\"scale(0.015625)\"/>\n      <path d=\"M 603 4863 \nL 1178 4863 \nL 1178 0 \nL 603 0 \nL 603 4863 \nz\n\" id=\"DejaVuSans-6c\" transform=\"scale(0.015625)\"/>\n      <path d=\"M 2194 1759 \nQ 1497 1759 1228 1600 \nQ 959 1441 959 1056 \nQ 959 750 1161 570 \nQ 1363 391 1709 391 \nQ 2188 391 2477 730 \nQ 2766 1069 2766 1631 \nL 2766 1759 \nL 2194 1759 \nz\nM 3341 1997 \nL 3341 0 \nL 2766 0 \nL 2766 531 \nQ 2569 213 2275 61 \nQ 1981 -91 1556 -91 \nQ 1019 -91 701 211 \nQ 384 513 384 1019 \nQ 384 1609 779 1909 \nQ 1175 2209 1959 2209 \nL 2766 2209 \nL 2766 2266 \nQ 2766 2663 2505 2880 \nQ 2244 3097 1772 3097 \nQ 1472 3097 1187 3025 \nQ 903 2953 641 2809 \nL 641 3341 \nQ 956 3463 1253 3523 \nQ 1550 3584 1831 3584 \nQ 2591 3584 2966 3190 \nQ 3341 2797 3341 1997 \nz\n\" id=\"DejaVuSans-61\" transform=\"scale(0.015625)\"/>\n      <path d=\"M 2059 -325 \nQ 1816 -950 1584 -1140 \nQ 1353 -1331 966 -1331 \nL 506 -1331 \nL 506 -850 \nL 844 -850 \nQ 1081 -850 1212 -737 \nQ 1344 -625 1503 -206 \nL 1606 56 \nL 191 3500 \nL 800 3500 \nL 1894 763 \nL 2988 3500 \nL 3597 3500 \nL 2059 -325 \nz\n\" id=\"DejaVuSans-79\" transform=\"scale(0.015625)\"/>\n      <path d=\"M 3597 1894 \nL 3597 1613 \nL 953 1613 \nQ 991 1019 1311 708 \nQ 1631 397 2203 397 \nQ 2534 397 2845 478 \nQ 3156 559 3463 722 \nL 3463 178 \nQ 3153 47 2828 -22 \nQ 2503 -91 2169 -91 \nQ 1331 -91 842 396 \nQ 353 884 353 1716 \nQ 353 2575 817 3079 \nQ 1281 3584 2069 3584 \nQ 2775 3584 3186 3129 \nQ 3597 2675 3597 1894 \nz\nM 3022 2063 \nQ 3016 2534 2758 2815 \nQ 2500 3097 2075 3097 \nQ 1594 3097 1305 2825 \nQ 1016 2553 972 2059 \nL 3022 2063 \nz\n\" id=\"DejaVuSans-65\" transform=\"scale(0.015625)\"/>\n      <path d=\"M 2631 2963 \nQ 2534 3019 2420 3045 \nQ 2306 3072 2169 3072 \nQ 1681 3072 1420 2755 \nQ 1159 2438 1159 1844 \nL 1159 0 \nL 581 0 \nL 581 3500 \nL 1159 3500 \nL 1159 2956 \nQ 1341 3275 1631 3429 \nQ 1922 3584 2338 3584 \nQ 2397 3584 2469 3576 \nQ 2541 3569 2628 3553 \nL 2631 2963 \nz\n\" id=\"DejaVuSans-72\" transform=\"scale(0.015625)\"/>\n      <path id=\"DejaVuSans-20\" transform=\"scale(0.015625)\"/>\n      <path d=\"M 1228 531 \nL 3431 531 \nL 3431 0 \nL 469 0 \nL 469 531 \nQ 828 903 1448 1529 \nQ 2069 2156 2228 2338 \nQ 2531 2678 2651 2914 \nQ 2772 3150 2772 3378 \nQ 2772 3750 2511 3984 \nQ 2250 4219 1831 4219 \nQ 1534 4219 1204 4116 \nQ 875 4013 500 3803 \nL 500 4441 \nQ 881 4594 1212 4672 \nQ 1544 4750 1819 4750 \nQ 2544 4750 2975 4387 \nQ 3406 4025 3406 3419 \nQ 3406 3131 3298 2873 \nQ 3191 2616 2906 2266 \nQ 2828 2175 2409 1742 \nQ 1991 1309 1228 531 \nz\n\" id=\"DejaVuSans-32\" transform=\"scale(0.015625)\"/>\n     </defs>\n     <use xlink:href=\"#DejaVuSans-50\"/>\n     <use x=\"60.302734\" xlink:href=\"#DejaVuSans-6c\"/>\n     <use x=\"88.085938\" xlink:href=\"#DejaVuSans-61\"/>\n     <use x=\"149.365234\" xlink:href=\"#DejaVuSans-79\"/>\n     <use x=\"208.544922\" xlink:href=\"#DejaVuSans-65\"/>\n     <use x=\"270.068359\" xlink:href=\"#DejaVuSans-72\"/>\n     <use x=\"311.181641\" xlink:href=\"#DejaVuSans-20\"/>\n     <use x=\"342.96875\" xlink:href=\"#DejaVuSans-32\"/>\n    </g>\n   </g>\n   <g id=\"patch_3\">\n    <path d=\"M 299.841722 26.337245 \nQ 286.817572 37.661228 273.793422 48.985211 \nL 276.417957 52.00379 \nQ 269.921047 53.677215 263.424137 55.350641 \nQ 265.984245 49.149347 268.544353 42.948054 \nL 271.168887 45.966633 \nQ 284.193037 34.64265 297.217187 23.318666 \nL 299.841722 26.337245 \nz\n\" style=\"fill:#0000ff;stroke:#000000;stroke-linecap:round;\"/>\n   </g>\n   <g id=\"text_2\">\n    <!-- Player 1 -->\n    <g transform=\"translate(305.172 16.972837)scale(0.1 -0.1)\">\n     <defs>\n      <path d=\"M 794 531 \nL 1825 531 \nL 1825 4091 \nL 703 3866 \nL 703 4441 \nL 1819 4666 \nL 2450 4666 \nL 2450 531 \nL 3481 531 \nL 3481 0 \nL 794 0 \nL 794 531 \nz\n\" id=\"DejaVuSans-31\" transform=\"scale(0.015625)\"/>\n     </defs>\n     <use xlink:href=\"#DejaVuSans-50\"/>\n     <use x=\"60.302734\" xlink:href=\"#DejaVuSans-6c\"/>\n     <use x=\"88.085938\" xlink:href=\"#DejaVuSans-61\"/>\n     <use x=\"149.365234\" xlink:href=\"#DejaVuSans-79\"/>\n     <use x=\"208.544922\" xlink:href=\"#DejaVuSans-65\"/>\n     <use x=\"270.068359\" xlink:href=\"#DejaVuSans-72\"/>\n     <use x=\"311.181641\" xlink:href=\"#DejaVuSans-20\"/>\n     <use x=\"342.96875\" xlink:href=\"#DejaVuSans-31\"/>\n    </g>\n   </g>\n  </g>\n </g>\n <defs>\n  <clipPath id=\"p0f824d0ac7\">\n   <rect height=\"217.44\" width=\"334.8\" x=\"14.379375\" y=\"7.2\"/>\n  </clipPath>\n </defs>\n</svg>\n",
      "image/png": "[encoded data removed]"
     },
     "metadata": {},
     "execution_count": 5
    }
   ],
   "source": [
    "visualize_state(env)"
   ]
  },
  {
   "cell_type": "code",
   "execution_count": 6,
   "id": "victorian-architecture",
   "metadata": {},
   "outputs": [],
   "source": [
    "env.board.cells[0][1].state = (1,0)"
   ]
  },
  {
   "cell_type": "code",
   "execution_count": 7,
   "id": "premium-bullet",
   "metadata": {},
   "outputs": [],
   "source": [
    "import copy\n",
    "env2 = copy.deepcopy(env)"
   ]
  },
  {
   "cell_type": "code",
   "execution_count": 8,
   "id": "beginning-jurisdiction",
   "metadata": {},
   "outputs": [],
   "source": [
    "env.board.cells[0][2].state = (1,0)"
   ]
  },
  {
   "cell_type": "code",
   "execution_count": 9,
   "id": "supposed-representative",
   "metadata": {},
   "outputs": [
    {
     "output_type": "error",
     "ename": "SyntaxError",
     "evalue": "cannot assign to function call (<ipython-input-9-e8521bb021ab>, line 2)",
     "traceback": [
      "\u001b[0;36m  File \u001b[0;32m\"<ipython-input-9-e8521bb021ab>\"\u001b[0;36m, line \u001b[0;32m2\u001b[0m\n\u001b[0;31m    [neig for cell.neighboars.values() if neig.state == self.player]\u001b[0m\n\u001b[0m              ^\u001b[0m\n\u001b[0;31mSyntaxError\u001b[0m\u001b[0;31m:\u001b[0m cannot assign to function call\n"
     ]
    }
   ],
   "source": [
    "cell = cells[0][0]\n",
    "[neig for cell.neighboars.values() if neig.state == self.player]"
   ]
  },
  {
   "cell_type": "code",
   "execution_count": null,
   "id": "selected-anthony",
   "metadata": {},
   "outputs": [],
   "source": [
    "visualize_state(env2)"
   ]
  },
  {
   "cell_type": "code",
   "execution_count": 11,
   "id": "severe-japan",
   "metadata": {},
   "outputs": [
    {
     "output_type": "error",
     "ename": "NameError",
     "evalue": "name 'Tree' is not defined",
     "traceback": [
      "\u001b[0;31m---------------------------------------------------------------------------\u001b[0m",
      "\u001b[0;31mNameError\u001b[0m                                 Traceback (most recent call last)",
      "\u001b[0;32m<ipython-input-11-9921855f9960>\u001b[0m in \u001b[0;36m<module>\u001b[0;34m\u001b[0m\n\u001b[1;32m      8\u001b[0m \u001b[0mroot_node\u001b[0m \u001b[0;34m=\u001b[0m \u001b[0mNode\u001b[0m\u001b[0;34m(\u001b[0m\u001b[0mstate\u001b[0m\u001b[0;34m)\u001b[0m\u001b[0;34m\u001b[0m\u001b[0;34m\u001b[0m\u001b[0m\n\u001b[1;32m      9\u001b[0m \u001b[0mmtcs\u001b[0m \u001b[0;34m=\u001b[0m \u001b[0mMCTS\u001b[0m\u001b[0;34m(\u001b[0m\u001b[0mNimState\u001b[0m\u001b[0;34m)\u001b[0m\u001b[0;34m\u001b[0m\u001b[0;34m\u001b[0m\u001b[0m\n\u001b[0;32m---> 10\u001b[0;31m \u001b[0mtree\u001b[0m \u001b[0;34m=\u001b[0m \u001b[0mTree\u001b[0m\u001b[0;34m(\u001b[0m\u001b[0mroot_node\u001b[0m\u001b[0;34m)\u001b[0m\u001b[0;34m\u001b[0m\u001b[0;34m\u001b[0m\u001b[0m\n\u001b[0m\u001b[1;32m     11\u001b[0m \u001b[0;34m\u001b[0m\u001b[0m\n\u001b[1;32m     12\u001b[0m \u001b[0mleaf_node\u001b[0m \u001b[0;34m=\u001b[0m \u001b[0mmtcs\u001b[0m\u001b[0;34m.\u001b[0m\u001b[0mget_leaf_node\u001b[0m\u001b[0;34m(\u001b[0m\u001b[0mtree\u001b[0m\u001b[0;34m)\u001b[0m\u001b[0;34m\u001b[0m\u001b[0;34m\u001b[0m\u001b[0m\n",
      "\u001b[0;31mNameError\u001b[0m: name 'Tree' is not defined"
     ]
    }
   ],
   "source": [
    "import random\n",
    "import numpy as np\n",
    "from graph import Node\n",
    "from state import State, NimState\n",
    "from mcts import *\n",
    "\n",
    "state = NimState(None, 3, 7, True)\n",
    "root_node = Node(state)\n",
    "mtcs = MCTS(NimState)\n",
    "tree = Tree(root_node)\n",
    "\n",
    "leaf_node = mtcs.get_leaf_node(tree)\n",
    "\n",
    "while not leaf_node.state.is_game_over():\n",
    "    print(f'The node we are expanding is {leaf_node}')\n",
    "    mtcs.expand_node(leaf_node)\n",
    "    leaf_node = mtcs.get_leaf_node(tree)\n",
    "\n",
    "winner = leaf_node.state.get_winner()\n",
    "print(f'Game over, the winner is player {1 if winner else 2}')"
   ]
  },
  {
   "cell_type": "code",
   "execution_count": 12,
   "id": "under-design",
   "metadata": {},
   "outputs": [
    {
     "output_type": "error",
     "ename": "TypeError",
     "evalue": "'int' object is not iterable",
     "traceback": [
      "\u001b[0;31m---------------------------------------------------------------------------\u001b[0m",
      "\u001b[0;31mTypeError\u001b[0m                                 Traceback (most recent call last)",
      "\u001b[0;32m<ipython-input-12-e5db50d4739c>\u001b[0m in \u001b[0;36m<module>\u001b[0;34m\u001b[0m\n\u001b[0;32m----> 1\u001b[0;31m \u001b[0;32mfor\u001b[0m \u001b[0mepisode\u001b[0m \u001b[0;32min\u001b[0m \u001b[0;36m10\u001b[0m\u001b[0;34m:\u001b[0m\u001b[0;34m\u001b[0m\u001b[0;34m\u001b[0m\u001b[0m\n\u001b[0m\u001b[1;32m      2\u001b[0m     \u001b[0mstate\u001b[0m \u001b[0;34m=\u001b[0m \u001b[0mNimState\u001b[0m\u001b[0;34m(\u001b[0m\u001b[0;32mNone\u001b[0m\u001b[0;34m,\u001b[0m \u001b[0;36m3\u001b[0m\u001b[0;34m,\u001b[0m \u001b[0;36m7\u001b[0m\u001b[0;34m,\u001b[0m \u001b[0;32mTrue\u001b[0m\u001b[0;34m)\u001b[0m\u001b[0;34m\u001b[0m\u001b[0;34m\u001b[0m\u001b[0m\n\u001b[1;32m      3\u001b[0m     \u001b[0mroot_node\u001b[0m \u001b[0;34m=\u001b[0m \u001b[0mNode\u001b[0m\u001b[0;34m(\u001b[0m\u001b[0mstate\u001b[0m\u001b[0;34m)\u001b[0m\u001b[0;34m\u001b[0m\u001b[0;34m\u001b[0m\u001b[0m\n\u001b[1;32m      4\u001b[0m     \u001b[0mmtcs\u001b[0m \u001b[0;34m=\u001b[0m \u001b[0mMCTS\u001b[0m\u001b[0;34m(\u001b[0m\u001b[0mNimState\u001b[0m\u001b[0;34m)\u001b[0m\u001b[0;34m\u001b[0m\u001b[0;34m\u001b[0m\u001b[0m\n\u001b[1;32m      5\u001b[0m     \u001b[0mtree\u001b[0m \u001b[0;34m=\u001b[0m \u001b[0mTree\u001b[0m\u001b[0;34m(\u001b[0m\u001b[0mroot_node\u001b[0m\u001b[0;34m)\u001b[0m\u001b[0;34m\u001b[0m\u001b[0;34m\u001b[0m\u001b[0m\n",
      "\u001b[0;31mTypeError\u001b[0m: 'int' object is not iterable"
     ]
    }
   ],
   "source": [
    "for episode in 10:\n",
    "    state = NimState(None, 3, 7, True)\n",
    "    root_node = Node(state)\n",
    "    mtcs = MCTS(NimState)\n",
    "    tree = Tree(root_node)\n",
    "    "
   ]
  },
  {
   "source": [
    "\n",
    "1. is = save interval for ANET (the actor network) parameters\n",
    "2. Clear Replay Buffer (RBUF)\n",
    "3. Randomly initialize parameters (weights and biases) of ANET \n",
    "4. For ga in number actual games:\n",
    "\n",
    "  (a) Initialize the actual game board (Ba) to an empty board.\n",
    "\n",
    "  (b) sinit ← starting board state\n",
    "\n",
    "  (c) Initialize the Monte Carlo Tree (MCT) to a single root, which represents sinit \n",
    "  \n",
    "  (d) While Ba not in a final state:\n",
    "\n",
    "    • Initialize Monte Carlo game board (Bmc) to same state as root. \n",
    "\n",
    "    • For gs in number search games:\n",
    "\n",
    "      – Use tree policy Pt to search from root to a leaf (L) of MCT. Update Bmc with each move.\n",
    "\n",
    "      – Use ANET to choose rollout actions from L to a final state (F). Update Bmc with each move. \n",
    "\n",
    "      – Perform MCTS backpropagation from F to root.\n",
    "\n",
    "    • next gs\n",
    "\n",
    "    • D = distribution of visit counts in MCT along all arcs emanating from root. \n",
    "\n",
    "    • Add case (root, D) to RBUF\n",
    "\n",
    "    • Choose actual move (a*) based on D\n",
    "\n",
    "    • Perform a* on root to produce successor state s*\n",
    "\n",
    "    • Update Ba to s*\n",
    "\n",
    "    • In MCT, retain subtree rooted at s*; discard everything else.\n",
    "\n",
    "    • root←s*\n",
    "\n",
    "  (e) Train ANET on a random minibatch of cases from RBUF \n",
    "\n",
    "  (f) if ga modulo is == 0:\n",
    "\n",
    "• Save ANET’s current parameters for later use in tournament play. 5. next ga\n"
   ],
   "cell_type": "markdown",
   "metadata": {}
  },
  {
   "cell_type": "code",
   "execution_count": 43,
   "metadata": {},
   "outputs": [],
   "source": [
    "import random\n",
    "import numpy as np\n",
    "from graph import Node\n",
    "from state import State, NimState\n",
    "from mcts import *\n",
    "from ANET import ANET\n",
    "from Simworld import visualize_state,Hex\n",
    "from tqdm import tqdm\n",
    "from IPython import display\n",
    "import time\n",
    "import math\n"
   ]
  },
  {
   "cell_type": "code",
   "execution_count": 44,
   "metadata": {},
   "outputs": [],
   "source": [
    "#Training parameters\n",
    "NUMBER_OF_GAMES = 100\n",
    "GAME = Hex\n",
    "STARTING_PLAYER_ID = 1\n",
    "SIZE = 4\n",
    "NUMBER_SEARCH_GAMES = 100\n",
    "NUM_AGENTS = 3\n",
    "BATCH_SIZE = 40"
   ]
  },
  {
   "cell_type": "code",
   "execution_count": 63,
   "metadata": {},
   "outputs": [],
   "source": [
    "def select_batch(replay_buffer,batch_size,upper_percent=0.8,upper_fraq = 3/4):\n",
    "    middle = math.ceil(len(replay_buffer)*upper_fraq)\n",
    "    lower = replay_buffer[:middle]\n",
    "    upper = replay_buffer[middle:]\n",
    "    while batch_size*upper_percent>len(upper):\n",
    "        batch_size=batch_size//2\n",
    "    print(len(upper))\n",
    "    print(batch_size*upper_percent)\n",
    "    num_upper_batch = math.floor(batch_size*upper_percent)\n",
    "    num_lower_batch = batch_size-num_upper_batch\n",
    "    upper_batch = random.sample(upper,num_upper_batch)\n",
    "    lower_batch = random.sample(lower,num_lower_batch)\n",
    "    return lower_batch+upper_batch\n"
   ]
  },
  {
   "cell_type": "code",
   "execution_count": 64,
   "metadata": {},
   "outputs": [],
   "source": [
    "action_space = Hex(SIZE).get_action_space()\n",
    "anet = ANET(input_size=SIZE,output_size=len(action_space))"
   ]
  },
  {
   "cell_type": "code",
   "execution_count": 65,
   "metadata": {
    "tags": []
   },
   "outputs": [
    {
     "output_type": "stream",
     "name": "stderr",
     "text": [
      "  1%|          | 1/101 [00:06<10:17,  6.17s/it]7\n",
      "4.0\n",
      "Model has been saved to models/4_ANET_level_0\n",
      "  2%|▏         | 2/101 [00:09<07:28,  4.53s/it]10\n",
      "8.0\n",
      "  3%|▎         | 3/101 [00:13<07:13,  4.42s/it]14\n",
      "8.0\n",
      "  4%|▍         | 4/101 [00:18<07:25,  4.59s/it]19\n",
      "16.0\n",
      "  5%|▍         | 5/101 [00:26<09:00,  5.64s/it]25\n",
      "16.0\n",
      "  6%|▌         | 6/101 [00:32<09:31,  6.02s/it]30\n",
      "16.0\n",
      "  7%|▋         | 7/101 [00:39<09:48,  6.26s/it]35\n",
      "32.0\n",
      "  8%|▊         | 8/101 [00:43<08:41,  5.60s/it]39\n",
      "32.0\n",
      "  9%|▉         | 9/101 [00:47<07:50,  5.12s/it]44\n",
      "32.0\n",
      " 10%|▉         | 10/101 [00:52<07:34,  5.00s/it]49\n",
      "32.0\n",
      " 11%|█         | 11/101 [00:57<07:22,  4.91s/it]54\n",
      "32.0\n",
      " 12%|█▏        | 12/101 [01:01<07:04,  4.77s/it]58\n",
      "32.0\n",
      " 13%|█▎        | 13/101 [01:05<06:27,  4.40s/it]61\n",
      "32.0\n",
      " 14%|█▍        | 14/101 [01:08<05:53,  4.06s/it]66\n",
      "32.0\n",
      " 15%|█▍        | 15/101 [01:13<06:03,  4.23s/it]70\n",
      "32.0\n",
      " 16%|█▌        | 16/101 [01:16<05:42,  4.03s/it]74\n",
      "32.0\n",
      " 17%|█▋        | 17/101 [01:21<05:58,  4.26s/it]79\n",
      "32.0\n",
      " 18%|█▊        | 18/101 [01:27<06:36,  4.77s/it]85\n",
      "32.0\n",
      " 19%|█▉        | 19/101 [01:31<06:20,  4.64s/it]89\n",
      "32.0\n",
      " 20%|█▉        | 20/101 [01:35<05:57,  4.41s/it]94\n",
      "32.0\n",
      " 21%|██        | 21/101 [01:40<05:51,  4.39s/it]98\n",
      "32.0\n",
      " 22%|██▏       | 22/101 [01:44<05:40,  4.31s/it]102\n",
      "32.0\n",
      " 23%|██▎       | 23/101 [01:49<05:48,  4.47s/it]107\n",
      "32.0\n",
      " 24%|██▍       | 24/101 [01:53<05:42,  4.45s/it]111\n",
      "32.0\n",
      " 25%|██▍       | 25/101 [01:59<06:04,  4.80s/it]118\n",
      "32.0\n",
      " 26%|██▌       | 26/101 [02:02<05:16,  4.21s/it]122\n",
      "32.0\n",
      " 27%|██▋       | 27/101 [02:06<05:19,  4.32s/it]126\n",
      "32.0\n",
      " 28%|██▊       | 28/101 [02:11<05:25,  4.46s/it]133\n",
      "32.0\n",
      " 29%|██▊       | 29/101 [02:16<05:37,  4.68s/it]139\n",
      "32.0\n",
      " 30%|██▉       | 30/101 [02:20<05:07,  4.34s/it]143\n",
      "32.0\n",
      " 31%|███       | 31/101 [02:24<05:13,  4.48s/it]149\n",
      "32.0\n",
      " 32%|███▏      | 32/101 [02:30<05:27,  4.75s/it]154\n",
      "32.0\n",
      " 33%|███▎      | 33/101 [02:35<05:36,  4.95s/it]160\n",
      "32.0\n",
      " 34%|███▎      | 34/101 [02:40<05:25,  4.86s/it]165\n",
      "32.0\n",
      " 35%|███▍      | 35/101 [02:43<04:51,  4.41s/it]169\n",
      "32.0\n",
      " 36%|███▌      | 36/101 [02:48<04:45,  4.39s/it]173\n",
      "32.0\n",
      " 37%|███▋      | 37/101 [02:52<04:40,  4.39s/it]178\n",
      "32.0\n",
      " 38%|███▊      | 38/101 [02:56<04:31,  4.31s/it]182\n",
      "32.0\n",
      " 39%|███▊      | 39/101 [02:59<04:04,  3.94s/it]185\n",
      "32.0\n",
      " 40%|███▉      | 40/101 [03:04<04:19,  4.25s/it]191\n",
      "32.0\n",
      " 41%|████      | 41/101 [03:08<04:09,  4.15s/it]195\n",
      "32.0\n",
      " 42%|████▏     | 42/101 [03:13<04:20,  4.41s/it]202\n",
      "32.0\n",
      " 43%|████▎     | 43/101 [03:18<04:24,  4.57s/it]209\n",
      "32.0\n",
      " 44%|████▎     | 44/101 [03:23<04:32,  4.77s/it]214\n",
      "32.0\n",
      " 45%|████▍     | 45/101 [03:28<04:20,  4.66s/it]219\n",
      "32.0\n",
      " 46%|████▌     | 46/101 [03:34<04:36,  5.02s/it]223\n",
      "32.0\n",
      " 47%|████▋     | 47/101 [03:38<04:27,  4.95s/it]228\n",
      "32.0\n",
      " 48%|████▊     | 48/101 [03:43<04:10,  4.72s/it]232\n",
      "32.0\n",
      " 49%|████▊     | 49/101 [03:49<04:28,  5.17s/it]237\n",
      "32.0\n",
      " 50%|████▉     | 50/101 [03:55<04:34,  5.37s/it]241\n",
      "32.0\n",
      " 50%|█████     | 51/101 [04:00<04:29,  5.39s/it]246\n",
      "32.0\n",
      "Model has been saved to models/4_ANET_level_50\n",
      " 51%|█████▏    | 52/101 [04:08<05:01,  6.15s/it]252\n",
      "32.0\n",
      " 52%|█████▏    | 53/101 [04:13<04:45,  5.95s/it]257\n",
      "32.0\n",
      " 53%|█████▎    | 54/101 [04:19<04:39,  5.94s/it]264\n",
      "32.0\n",
      " 54%|█████▍    | 55/101 [04:24<04:14,  5.52s/it]268\n",
      "32.0\n",
      " 55%|█████▌    | 56/101 [04:29<04:00,  5.33s/it]272\n",
      "32.0\n",
      " 56%|█████▋    | 57/101 [04:36<04:19,  5.90s/it]277\n",
      "32.0\n",
      " 57%|█████▋    | 58/101 [04:41<04:06,  5.72s/it]282\n",
      "32.0\n",
      " 58%|█████▊    | 59/101 [04:46<03:42,  5.29s/it]286\n",
      "32.0\n",
      " 59%|█████▉    | 60/101 [04:50<03:31,  5.16s/it]290\n",
      "32.0\n",
      " 60%|██████    | 61/101 [04:57<03:42,  5.57s/it]296\n",
      "32.0\n",
      " 61%|██████▏   | 62/101 [05:02<03:31,  5.41s/it]300\n",
      "32.0\n",
      " 62%|██████▏   | 63/101 [05:08<03:27,  5.46s/it]306\n",
      "32.0\n",
      " 63%|██████▎   | 64/101 [05:11<03:01,  4.91s/it]310\n",
      "32.0\n",
      " 64%|██████▍   | 65/101 [05:16<02:57,  4.94s/it]315\n",
      "32.0\n",
      " 65%|██████▌   | 66/101 [05:21<02:48,  4.81s/it]319\n",
      "32.0\n",
      " 66%|██████▋   | 67/101 [05:26<02:50,  5.00s/it]323\n",
      "32.0\n",
      " 67%|██████▋   | 68/101 [05:32<02:52,  5.23s/it]330\n",
      "32.0\n",
      " 68%|██████▊   | 69/101 [05:37<02:41,  5.05s/it]335\n",
      "32.0\n",
      " 69%|██████▉   | 70/101 [05:41<02:34,  5.00s/it]340\n",
      "32.0\n",
      " 70%|███████   | 71/101 [05:46<02:22,  4.74s/it]345\n",
      "32.0\n",
      " 71%|███████▏  | 72/101 [05:50<02:11,  4.52s/it]348\n",
      "32.0\n",
      " 72%|███████▏  | 73/101 [05:56<02:20,  5.01s/it]356\n",
      "32.0\n",
      " 73%|███████▎  | 74/101 [06:01<02:15,  5.00s/it]361\n",
      "32.0\n",
      " 74%|███████▍  | 75/101 [06:06<02:12,  5.08s/it]367\n",
      "32.0\n",
      " 75%|███████▌  | 76/101 [06:11<02:09,  5.19s/it]373\n",
      "32.0\n",
      " 76%|███████▌  | 77/101 [06:16<01:58,  4.95s/it]377\n",
      "32.0\n",
      " 77%|███████▋  | 78/101 [06:20<01:51,  4.86s/it]382\n",
      "32.0\n",
      " 78%|███████▊  | 79/101 [06:25<01:47,  4.88s/it]386\n",
      "32.0\n",
      " 79%|███████▉  | 80/101 [06:30<01:41,  4.85s/it]390\n",
      "32.0\n",
      " 80%|████████  | 81/101 [06:34<01:30,  4.51s/it]394\n",
      "32.0\n",
      " 81%|████████  | 82/101 [06:38<01:22,  4.36s/it]397\n",
      "32.0\n",
      " 82%|████████▏ | 83/101 [06:42<01:16,  4.28s/it]401\n",
      "32.0\n",
      " 83%|████████▎ | 84/101 [06:47<01:16,  4.48s/it]405\n",
      "32.0\n",
      " 84%|████████▍ | 85/101 [06:51<01:10,  4.41s/it]409\n",
      "32.0\n",
      " 85%|████████▌ | 86/101 [06:57<01:10,  4.71s/it]415\n",
      "32.0\n",
      " 86%|████████▌ | 87/101 [07:00<01:01,  4.38s/it]419\n",
      "32.0\n",
      " 87%|████████▋ | 88/101 [07:05<00:58,  4.50s/it]423\n",
      "32.0\n",
      " 88%|████████▊ | 89/101 [07:09<00:51,  4.28s/it]427\n",
      "32.0\n",
      " 89%|████████▉ | 90/101 [07:14<00:48,  4.43s/it]431\n",
      "32.0\n",
      " 90%|█████████ | 91/101 [07:19<00:46,  4.66s/it]436\n",
      "32.0\n",
      " 91%|█████████ | 92/101 [07:23<00:41,  4.63s/it]440\n",
      "32.0\n",
      " 92%|█████████▏| 93/101 [07:29<00:40,  5.00s/it]448\n",
      "32.0\n",
      " 93%|█████████▎| 94/101 [07:34<00:34,  4.95s/it]453\n",
      "32.0\n",
      " 94%|█████████▍| 95/101 [07:38<00:28,  4.74s/it]456\n",
      "32.0\n",
      " 95%|█████████▌| 96/101 [07:43<00:23,  4.67s/it]460\n",
      "32.0\n",
      " 96%|█████████▌| 97/101 [07:48<00:19,  4.77s/it]465\n",
      "32.0\n",
      " 97%|█████████▋| 98/101 [07:53<00:15,  5.00s/it]470\n",
      "32.0\n",
      " 98%|█████████▊| 99/101 [07:57<00:09,  4.58s/it]474\n",
      "32.0\n",
      " 99%|█████████▉| 100/101 [08:01<00:04,  4.39s/it]477\n",
      "32.0\n",
      "100%|██████████| 101/101 [08:06<00:00,  4.82s/it]483\n",
      "32.0\n",
      "Model has been saved to models/4_ANET_level_100\n",
      "\n"
     ]
    }
   ],
   "source": [
    "replay_buffer = []\n",
    "for game in tqdm(range(NUMBER_OF_GAMES+1)):\n",
    "    #Initialize environment\n",
    "    env = Hex(SIZE,STARTING_PLAYER_ID)\n",
    "    is_final = env.is_final()\n",
    "    #Initialize mcts\n",
    "    root = Node(env)\n",
    "    board_mcts = MCTS(root, anet) \n",
    "    is_final = env.is_final()\n",
    "    while not is_final:\n",
    "        board_mcts.set_root(root)\n",
    "        board_mcts.run_simulations(NUMBER_SEARCH_GAMES)\n",
    "        D,new_root = board_mcts.get_probability_distribution(board_mcts.root,action_space)\n",
    "        state = env.get_state()\n",
    "        replay_buffer.append((state,D))\n",
    "        action =action_space[np.argmax(D)]\n",
    "        #Perform the action in the actual environment\n",
    "        state,_,is_final = env.step(action)\n",
    "        #Update root of MCST to be the choosen childstate\n",
    "        root = new_root\n",
    "        board_mcts.set_root(root)\n",
    "    batch = select_batch(replay_buffer,BATCH_SIZE,)\n",
    "    features = [replay[0] for replay in replay_buffer]\n",
    "    labels = [replay[1] for replay in replay_buffer]\n",
    "    anet.fit(features,labels)\n",
    "\n",
    "    if game%(NUMBER_OF_GAMES//(NUM_AGENTS-1))==0:\n",
    "        anet.save_anet(SIZE,game)\n",
    "    \n",
    "\n",
    "        \n",
    "        \n",
    "        \n",
    "\n",
    "        \n",
    "        \n",
    "\n",
    "\n",
    "\n",
    "         "
   ]
  },
  {
   "cell_type": "code",
   "execution_count": 66,
   "metadata": {},
   "outputs": [],
   "source": [
    "from TOPP import TOPP"
   ]
  },
  {
   "cell_type": "code",
   "execution_count": 67,
   "metadata": {},
   "outputs": [
    {
     "output_type": "stream",
     "name": "stdout",
     "text": [
      "Loaded model from models/4_ANET_level_0\nLoaded model from models/4_ANET_level_50\nLoaded model from models/4_ANET_level_100\n[ANET(\n  (activation_func): ReLU()\n  (model): Sequential(\n    (0): Linear(in_features=17, out_features=60, bias=True)\n    (1): Dropout(p=0.2, inplace=False)\n    (2): ReLU()\n    (3): Linear(in_features=60, out_features=30, bias=True)\n    (4): ReLU()\n    (5): Linear(in_features=30, out_features=20, bias=True)\n    (6): ReLU()\n    (7): Linear(in_features=20, out_features=16, bias=True)\n    (8): Softmax(dim=-1)\n  )\n  (loss_function): BCELoss()\n), ANET(\n  (activation_func): ReLU()\n  (model): Sequential(\n    (0): Linear(in_features=17, out_features=60, bias=True)\n    (1): Dropout(p=0.2, inplace=False)\n    (2): ReLU()\n    (3): Linear(in_features=60, out_features=30, bias=True)\n    (4): ReLU()\n    (5): Linear(in_features=30, out_features=20, bias=True)\n    (6): ReLU()\n    (7): Linear(in_features=20, out_features=16, bias=True)\n    (8): Softmax(dim=-1)\n  )\n  (loss_function): BCELoss()\n), ANET(\n  (activation_func): ReLU()\n  (model): Sequential(\n    (0): Linear(in_features=17, out_features=60, bias=True)\n    (1): Dropout(p=0.2, inplace=False)\n    (2): ReLU()\n    (3): Linear(in_features=60, out_features=30, bias=True)\n    (4): ReLU()\n    (5): Linear(in_features=30, out_features=20, bias=True)\n    (6): ReLU()\n    (7): Linear(in_features=20, out_features=16, bias=True)\n    (8): Softmax(dim=-1)\n  )\n  (loss_function): BCELoss()\n)]\n"
     ]
    }
   ],
   "source": [
    "top = TOPP( SIZE, Hex, 1000, 100, 3)\n",
    "wins = top.run_tournament()"
   ]
  },
  {
   "cell_type": "code",
   "execution_count": 68,
   "metadata": {},
   "outputs": [
    {
     "output_type": "execute_result",
     "data": {
      "text/plain": [
       "<AxesSubplot:>"
      ]
     },
     "metadata": {},
     "execution_count": 68
    },
    {
     "output_type": "display_data",
     "data": {
      "text/plain": "<Figure size 432x288 with 1 Axes>",
      "image/svg+xml": "<?xml version=\"1.0\" encoding=\"utf-8\" standalone=\"no\"?>\n<!DOCTYPE svg PUBLIC \"-//W3C//DTD SVG 1.1//EN\"\n  \"http://www.w3.org/Graphics/SVG/1.1/DTD/svg11.dtd\">\n<svg height=\"245.2025pt\" version=\"1.1\" viewBox=\"0 0 378.465625 245.2025\" width=\"378.465625pt\" xmlns=\"http://www.w3.org/2000/svg\" xmlns:xlink=\"http://www.w3.org/1999/xlink\">\n <metadata>\n  <rdf:RDF xmlns:cc=\"http://creativecommons.org/ns#\" xmlns:dc=\"http://purl.org/dc/elements/1.1/\" xmlns:rdf=\"http://www.w3.org/1999/02/22-rdf-syntax-ns#\">\n   <cc:Work>\n    <dc:type rdf:resource=\"http://purl.org/dc/dcmitype/StillImage\"/>\n    <dc:date>2021-04-07T19:18:57.781014</dc:date>\n    <dc:format>image/svg+xml</dc:format>\n    <dc:creator>\n     <cc:Agent>\n      <dc:title>Matplotlib v3.4.1, https://matplotlib.org/</dc:title>\n     </cc:Agent>\n    </dc:creator>\n   </cc:Work>\n  </rdf:RDF>\n </metadata>\n <defs>\n  <style type=\"text/css\">*{stroke-linecap:butt;stroke-linejoin:round;}</style>\n </defs>\n <g id=\"figure_1\">\n  <g id=\"patch_1\">\n   <path d=\"M 0 245.2025 \nL 378.465625 245.2025 \nL 378.465625 0 \nL 0 0 \nz\n\" style=\"fill:none;\"/>\n  </g>\n  <g id=\"axes_1\">\n   <g id=\"patch_2\">\n    <path d=\"M 36.465625 224.64 \nL 371.265625 224.64 \nL 371.265625 7.2 \nL 36.465625 7.2 \nz\n\" style=\"fill:#ffffff;\"/>\n   </g>\n   <g id=\"patch_3\">\n    <path clip-path=\"url(#p128455127b)\" d=\"M 64.365625 224.64 \nL 120.165625 224.64 \nL 120.165625 89.670397 \nL 64.365625 89.670397 \nz\n\" style=\"fill:#1f77b4;\"/>\n   </g>\n   <g id=\"patch_4\">\n    <path clip-path=\"url(#p128455127b)\" d=\"M 175.965625 224.64 \nL 231.765625 224.64 \nL 231.765625 70.483542 \nL 175.965625 70.483542 \nz\n\" style=\"fill:#1f77b4;\"/>\n   </g>\n   <g id=\"patch_5\">\n    <path clip-path=\"url(#p128455127b)\" d=\"M 287.565625 224.64 \nL 343.365625 224.64 \nL 343.365625 17.554286 \nL 287.565625 17.554286 \nz\n\" style=\"fill:#1f77b4;\"/>\n   </g>\n   <g id=\"matplotlib.axis_1\">\n    <g id=\"xtick_1\">\n     <g id=\"line2d_1\">\n      <defs>\n       <path d=\"M 0 0 \nL 0 3.5 \n\" id=\"m804f5bb3f5\" style=\"stroke:#000000;stroke-width:0.8;\"/>\n      </defs>\n      <g>\n       <use style=\"stroke:#000000;stroke-width:0.8;\" x=\"92.265625\" xlink:href=\"#m804f5bb3f5\" y=\"224.64\"/>\n      </g>\n     </g>\n     <g id=\"text_1\">\n      <!-- 0 -->\n      <g transform=\"translate(95.025 238.0025)rotate(-90)scale(0.1 -0.1)\">\n       <defs>\n        <path d=\"M 2034 4250 \nQ 1547 4250 1301 3770 \nQ 1056 3291 1056 2328 \nQ 1056 1369 1301 889 \nQ 1547 409 2034 409 \nQ 2525 409 2770 889 \nQ 3016 1369 3016 2328 \nQ 3016 3291 2770 3770 \nQ 2525 4250 2034 4250 \nz\nM 2034 4750 \nQ 2819 4750 3233 4129 \nQ 3647 3509 3647 2328 \nQ 3647 1150 3233 529 \nQ 2819 -91 2034 -91 \nQ 1250 -91 836 529 \nQ 422 1150 422 2328 \nQ 422 3509 836 4129 \nQ 1250 4750 2034 4750 \nz\n\" id=\"DejaVuSans-30\" transform=\"scale(0.015625)\"/>\n       </defs>\n       <use xlink:href=\"#DejaVuSans-30\"/>\n      </g>\n     </g>\n    </g>\n    <g id=\"xtick_2\">\n     <g id=\"line2d_2\">\n      <g>\n       <use style=\"stroke:#000000;stroke-width:0.8;\" x=\"203.865625\" xlink:href=\"#m804f5bb3f5\" y=\"224.64\"/>\n      </g>\n     </g>\n     <g id=\"text_2\">\n      <!-- 1 -->\n      <g transform=\"translate(206.625 238.0025)rotate(-90)scale(0.1 -0.1)\">\n       <defs>\n        <path d=\"M 794 531 \nL 1825 531 \nL 1825 4091 \nL 703 3866 \nL 703 4441 \nL 1819 4666 \nL 2450 4666 \nL 2450 531 \nL 3481 531 \nL 3481 0 \nL 794 0 \nL 794 531 \nz\n\" id=\"DejaVuSans-31\" transform=\"scale(0.015625)\"/>\n       </defs>\n       <use xlink:href=\"#DejaVuSans-31\"/>\n      </g>\n     </g>\n    </g>\n    <g id=\"xtick_3\">\n     <g id=\"line2d_3\">\n      <g>\n       <use style=\"stroke:#000000;stroke-width:0.8;\" x=\"315.465625\" xlink:href=\"#m804f5bb3f5\" y=\"224.64\"/>\n      </g>\n     </g>\n     <g id=\"text_3\">\n      <!-- 2 -->\n      <g transform=\"translate(318.225 238.0025)rotate(-90)scale(0.1 -0.1)\">\n       <defs>\n        <path d=\"M 1228 531 \nL 3431 531 \nL 3431 0 \nL 469 0 \nL 469 531 \nQ 828 903 1448 1529 \nQ 2069 2156 2228 2338 \nQ 2531 2678 2651 2914 \nQ 2772 3150 2772 3378 \nQ 2772 3750 2511 3984 \nQ 2250 4219 1831 4219 \nQ 1534 4219 1204 4116 \nQ 875 4013 500 3803 \nL 500 4441 \nQ 881 4594 1212 4672 \nQ 1544 4750 1819 4750 \nQ 2544 4750 2975 4387 \nQ 3406 4025 3406 3419 \nQ 3406 3131 3298 2873 \nQ 3191 2616 2906 2266 \nQ 2828 2175 2409 1742 \nQ 1991 1309 1228 531 \nz\n\" id=\"DejaVuSans-32\" transform=\"scale(0.015625)\"/>\n       </defs>\n       <use xlink:href=\"#DejaVuSans-32\"/>\n      </g>\n     </g>\n    </g>\n   </g>\n   <g id=\"matplotlib.axis_2\">\n    <g id=\"ytick_1\">\n     <g id=\"line2d_4\">\n      <defs>\n       <path d=\"M 0 0 \nL -3.5 0 \n\" id=\"m3c7bacea47\" style=\"stroke:#000000;stroke-width:0.8;\"/>\n      </defs>\n      <g>\n       <use style=\"stroke:#000000;stroke-width:0.8;\" x=\"36.465625\" xlink:href=\"#m3c7bacea47\" y=\"224.64\"/>\n      </g>\n     </g>\n     <g id=\"text_4\">\n      <!-- 0.00 -->\n      <g transform=\"translate(7.2 228.439219)scale(0.1 -0.1)\">\n       <defs>\n        <path d=\"M 684 794 \nL 1344 794 \nL 1344 0 \nL 684 0 \nL 684 794 \nz\n\" id=\"DejaVuSans-2e\" transform=\"scale(0.015625)\"/>\n       </defs>\n       <use xlink:href=\"#DejaVuSans-30\"/>\n       <use x=\"63.623047\" xlink:href=\"#DejaVuSans-2e\"/>\n       <use x=\"95.410156\" xlink:href=\"#DejaVuSans-30\"/>\n       <use x=\"159.033203\" xlink:href=\"#DejaVuSans-30\"/>\n      </g>\n     </g>\n    </g>\n    <g id=\"ytick_2\">\n     <g id=\"line2d_5\">\n      <g>\n       <use style=\"stroke:#000000;stroke-width:0.8;\" x=\"36.465625\" xlink:href=\"#m3c7bacea47\" y=\"199.829411\"/>\n      </g>\n     </g>\n     <g id=\"text_5\">\n      <!-- 0.05 -->\n      <g transform=\"translate(7.2 203.62863)scale(0.1 -0.1)\">\n       <defs>\n        <path d=\"M 691 4666 \nL 3169 4666 \nL 3169 4134 \nL 1269 4134 \nL 1269 2991 \nQ 1406 3038 1543 3061 \nQ 1681 3084 1819 3084 \nQ 2600 3084 3056 2656 \nQ 3513 2228 3513 1497 \nQ 3513 744 3044 326 \nQ 2575 -91 1722 -91 \nQ 1428 -91 1123 -41 \nQ 819 9 494 109 \nL 494 744 \nQ 775 591 1075 516 \nQ 1375 441 1709 441 \nQ 2250 441 2565 725 \nQ 2881 1009 2881 1497 \nQ 2881 1984 2565 2268 \nQ 2250 2553 1709 2553 \nQ 1456 2553 1204 2497 \nQ 953 2441 691 2322 \nL 691 4666 \nz\n\" id=\"DejaVuSans-35\" transform=\"scale(0.015625)\"/>\n       </defs>\n       <use xlink:href=\"#DejaVuSans-30\"/>\n       <use x=\"63.623047\" xlink:href=\"#DejaVuSans-2e\"/>\n       <use x=\"95.410156\" xlink:href=\"#DejaVuSans-30\"/>\n       <use x=\"159.033203\" xlink:href=\"#DejaVuSans-35\"/>\n      </g>\n     </g>\n    </g>\n    <g id=\"ytick_3\">\n     <g id=\"line2d_6\">\n      <g>\n       <use style=\"stroke:#000000;stroke-width:0.8;\" x=\"36.465625\" xlink:href=\"#m3c7bacea47\" y=\"175.018822\"/>\n      </g>\n     </g>\n     <g id=\"text_6\">\n      <!-- 0.10 -->\n      <g transform=\"translate(7.2 178.818041)scale(0.1 -0.1)\">\n       <use xlink:href=\"#DejaVuSans-30\"/>\n       <use x=\"63.623047\" xlink:href=\"#DejaVuSans-2e\"/>\n       <use x=\"95.410156\" xlink:href=\"#DejaVuSans-31\"/>\n       <use x=\"159.033203\" xlink:href=\"#DejaVuSans-30\"/>\n      </g>\n     </g>\n    </g>\n    <g id=\"ytick_4\">\n     <g id=\"line2d_7\">\n      <g>\n       <use style=\"stroke:#000000;stroke-width:0.8;\" x=\"36.465625\" xlink:href=\"#m3c7bacea47\" y=\"150.208234\"/>\n      </g>\n     </g>\n     <g id=\"text_7\">\n      <!-- 0.15 -->\n      <g transform=\"translate(7.2 154.007452)scale(0.1 -0.1)\">\n       <use xlink:href=\"#DejaVuSans-30\"/>\n       <use x=\"63.623047\" xlink:href=\"#DejaVuSans-2e\"/>\n       <use x=\"95.410156\" xlink:href=\"#DejaVuSans-31\"/>\n       <use x=\"159.033203\" xlink:href=\"#DejaVuSans-35\"/>\n      </g>\n     </g>\n    </g>\n    <g id=\"ytick_5\">\n     <g id=\"line2d_8\">\n      <g>\n       <use style=\"stroke:#000000;stroke-width:0.8;\" x=\"36.465625\" xlink:href=\"#m3c7bacea47\" y=\"125.397645\"/>\n      </g>\n     </g>\n     <g id=\"text_8\">\n      <!-- 0.20 -->\n      <g transform=\"translate(7.2 129.196864)scale(0.1 -0.1)\">\n       <use xlink:href=\"#DejaVuSans-30\"/>\n       <use x=\"63.623047\" xlink:href=\"#DejaVuSans-2e\"/>\n       <use x=\"95.410156\" xlink:href=\"#DejaVuSans-32\"/>\n       <use x=\"159.033203\" xlink:href=\"#DejaVuSans-30\"/>\n      </g>\n     </g>\n    </g>\n    <g id=\"ytick_6\">\n     <g id=\"line2d_9\">\n      <g>\n       <use style=\"stroke:#000000;stroke-width:0.8;\" x=\"36.465625\" xlink:href=\"#m3c7bacea47\" y=\"100.587056\"/>\n      </g>\n     </g>\n     <g id=\"text_9\">\n      <!-- 0.25 -->\n      <g transform=\"translate(7.2 104.386275)scale(0.1 -0.1)\">\n       <use xlink:href=\"#DejaVuSans-30\"/>\n       <use x=\"63.623047\" xlink:href=\"#DejaVuSans-2e\"/>\n       <use x=\"95.410156\" xlink:href=\"#DejaVuSans-32\"/>\n       <use x=\"159.033203\" xlink:href=\"#DejaVuSans-35\"/>\n      </g>\n     </g>\n    </g>\n    <g id=\"ytick_7\">\n     <g id=\"line2d_10\">\n      <g>\n       <use style=\"stroke:#000000;stroke-width:0.8;\" x=\"36.465625\" xlink:href=\"#m3c7bacea47\" y=\"75.776467\"/>\n      </g>\n     </g>\n     <g id=\"text_10\">\n      <!-- 0.30 -->\n      <g transform=\"translate(7.2 79.575686)scale(0.1 -0.1)\">\n       <defs>\n        <path d=\"M 2597 2516 \nQ 3050 2419 3304 2112 \nQ 3559 1806 3559 1356 \nQ 3559 666 3084 287 \nQ 2609 -91 1734 -91 \nQ 1441 -91 1130 -33 \nQ 819 25 488 141 \nL 488 750 \nQ 750 597 1062 519 \nQ 1375 441 1716 441 \nQ 2309 441 2620 675 \nQ 2931 909 2931 1356 \nQ 2931 1769 2642 2001 \nQ 2353 2234 1838 2234 \nL 1294 2234 \nL 1294 2753 \nL 1863 2753 \nQ 2328 2753 2575 2939 \nQ 2822 3125 2822 3475 \nQ 2822 3834 2567 4026 \nQ 2313 4219 1838 4219 \nQ 1578 4219 1281 4162 \nQ 984 4106 628 3988 \nL 628 4550 \nQ 988 4650 1302 4700 \nQ 1616 4750 1894 4750 \nQ 2613 4750 3031 4423 \nQ 3450 4097 3450 3541 \nQ 3450 3153 3228 2886 \nQ 3006 2619 2597 2516 \nz\n\" id=\"DejaVuSans-33\" transform=\"scale(0.015625)\"/>\n       </defs>\n       <use xlink:href=\"#DejaVuSans-30\"/>\n       <use x=\"63.623047\" xlink:href=\"#DejaVuSans-2e\"/>\n       <use x=\"95.410156\" xlink:href=\"#DejaVuSans-33\"/>\n       <use x=\"159.033203\" xlink:href=\"#DejaVuSans-30\"/>\n      </g>\n     </g>\n    </g>\n    <g id=\"ytick_8\">\n     <g id=\"line2d_11\">\n      <g>\n       <use style=\"stroke:#000000;stroke-width:0.8;\" x=\"36.465625\" xlink:href=\"#m3c7bacea47\" y=\"50.965879\"/>\n      </g>\n     </g>\n     <g id=\"text_11\">\n      <!-- 0.35 -->\n      <g transform=\"translate(7.2 54.765097)scale(0.1 -0.1)\">\n       <use xlink:href=\"#DejaVuSans-30\"/>\n       <use x=\"63.623047\" xlink:href=\"#DejaVuSans-2e\"/>\n       <use x=\"95.410156\" xlink:href=\"#DejaVuSans-33\"/>\n       <use x=\"159.033203\" xlink:href=\"#DejaVuSans-35\"/>\n      </g>\n     </g>\n    </g>\n    <g id=\"ytick_9\">\n     <g id=\"line2d_12\">\n      <g>\n       <use style=\"stroke:#000000;stroke-width:0.8;\" x=\"36.465625\" xlink:href=\"#m3c7bacea47\" y=\"26.15529\"/>\n      </g>\n     </g>\n     <g id=\"text_12\">\n      <!-- 0.40 -->\n      <g transform=\"translate(7.2 29.954509)scale(0.1 -0.1)\">\n       <defs>\n        <path d=\"M 2419 4116 \nL 825 1625 \nL 2419 1625 \nL 2419 4116 \nz\nM 2253 4666 \nL 3047 4666 \nL 3047 1625 \nL 3713 1625 \nL 3713 1100 \nL 3047 1100 \nL 3047 0 \nL 2419 0 \nL 2419 1100 \nL 313 1100 \nL 313 1709 \nL 2253 4666 \nz\n\" id=\"DejaVuSans-34\" transform=\"scale(0.015625)\"/>\n       </defs>\n       <use xlink:href=\"#DejaVuSans-30\"/>\n       <use x=\"63.623047\" xlink:href=\"#DejaVuSans-2e\"/>\n       <use x=\"95.410156\" xlink:href=\"#DejaVuSans-34\"/>\n       <use x=\"159.033203\" xlink:href=\"#DejaVuSans-30\"/>\n      </g>\n     </g>\n    </g>\n   </g>\n   <g id=\"patch_6\">\n    <path d=\"M 36.465625 224.64 \nL 36.465625 7.2 \n\" style=\"fill:none;stroke:#000000;stroke-linecap:square;stroke-linejoin:miter;stroke-width:0.8;\"/>\n   </g>\n   <g id=\"patch_7\">\n    <path d=\"M 371.265625 224.64 \nL 371.265625 7.2 \n\" style=\"fill:none;stroke:#000000;stroke-linecap:square;stroke-linejoin:miter;stroke-width:0.8;\"/>\n   </g>\n   <g id=\"patch_8\">\n    <path d=\"M 36.465625 224.64 \nL 371.265625 224.64 \n\" style=\"fill:none;stroke:#000000;stroke-linecap:square;stroke-linejoin:miter;stroke-width:0.8;\"/>\n   </g>\n   <g id=\"patch_9\">\n    <path d=\"M 36.465625 7.2 \nL 371.265625 7.2 \n\" style=\"fill:none;stroke:#000000;stroke-linecap:square;stroke-linejoin:miter;stroke-width:0.8;\"/>\n   </g>\n   <g id=\"legend_1\">\n    <g id=\"patch_10\">\n     <path d=\"M 43.465625 29.878125 \nL 81.828125 29.878125 \nQ 83.828125 29.878125 83.828125 27.878125 \nL 83.828125 14.2 \nQ 83.828125 12.2 81.828125 12.2 \nL 43.465625 12.2 \nQ 41.465625 12.2 41.465625 14.2 \nL 41.465625 27.878125 \nQ 41.465625 29.878125 43.465625 29.878125 \nz\n\" style=\"fill:#ffffff;opacity:0.8;stroke:#cccccc;stroke-linejoin:miter;\"/>\n    </g>\n    <g id=\"patch_11\">\n     <path d=\"M 45.465625 23.798437 \nL 65.465625 23.798437 \nL 65.465625 16.798437 \nL 45.465625 16.798437 \nz\n\" style=\"fill:#1f77b4;\"/>\n    </g>\n    <g id=\"text_13\">\n     <!-- 0 -->\n     <g transform=\"translate(73.465625 23.798437)scale(0.1 -0.1)\">\n      <use xlink:href=\"#DejaVuSans-30\"/>\n     </g>\n    </g>\n   </g>\n  </g>\n </g>\n <defs>\n  <clipPath id=\"p128455127b\">\n   <rect height=\"217.44\" width=\"334.8\" x=\"36.465625\" y=\"7.2\"/>\n  </clipPath>\n </defs>\n</svg>\n",
      "image/png": "[encoded data removed]"
     },
     "metadata": {
      "needs_background": "light"
     }
    }
   ],
   "source": [
    "import pandas as pd\n",
    "df = pd.DataFrame(wins)\n",
    "norm = df/df[0].sum()\n",
    "norm.plot.bar()"
   ]
  },
  {
   "cell_type": "code",
   "execution_count": 18,
   "metadata": {},
   "outputs": [
    {
     "output_type": "error",
     "ename": "RuntimeError",
     "evalue": "Error(s) in loading state_dict for ANET:\n\tMissing key(s) in state_dict: \"model.7.weight\", \"model.7.bias\". \n\tsize mismatch for model.5.weight: copying a param with shape torch.Size([16, 30]) from checkpoint, the shape in current model is torch.Size([20, 30]).\n\tsize mismatch for model.5.bias: copying a param with shape torch.Size([16]) from checkpoint, the shape in current model is torch.Size([20]).",
     "traceback": [
      "\u001b[0;31m---------------------------------------------------------------------------\u001b[0m",
      "\u001b[0;31mRuntimeError\u001b[0m                              Traceback (most recent call last)",
      "\u001b[0;32m<ipython-input-18-31fc73942e66>\u001b[0m in \u001b[0;36m<module>\u001b[0;34m\u001b[0m\n\u001b[1;32m      1\u001b[0m \u001b[0maction_space\u001b[0m \u001b[0;34m=\u001b[0m \u001b[0mHex\u001b[0m\u001b[0;34m(\u001b[0m\u001b[0mSIZE\u001b[0m\u001b[0;34m,\u001b[0m\u001b[0mSTARTING_PLAYER_ID\u001b[0m\u001b[0;34m)\u001b[0m\u001b[0;34m.\u001b[0m\u001b[0mget_action_space\u001b[0m\u001b[0;34m(\u001b[0m\u001b[0;34m)\u001b[0m\u001b[0;34m\u001b[0m\u001b[0;34m\u001b[0m\u001b[0m\n\u001b[1;32m      2\u001b[0m \u001b[0manet\u001b[0m \u001b[0;34m=\u001b[0m \u001b[0mANET\u001b[0m\u001b[0;34m(\u001b[0m\u001b[0minput_size\u001b[0m\u001b[0;34m=\u001b[0m\u001b[0mSIZE\u001b[0m\u001b[0;34m,\u001b[0m\u001b[0moutput_size\u001b[0m\u001b[0;34m=\u001b[0m\u001b[0mlen\u001b[0m\u001b[0;34m(\u001b[0m\u001b[0maction_space\u001b[0m\u001b[0;34m)\u001b[0m\u001b[0;34m)\u001b[0m\u001b[0;34m\u001b[0m\u001b[0;34m\u001b[0m\u001b[0m\n\u001b[0;32m----> 3\u001b[0;31m \u001b[0manet\u001b[0m\u001b[0;34m.\u001b[0m\u001b[0mload_anet\u001b[0m\u001b[0;34m(\u001b[0m\u001b[0mSIZE\u001b[0m\u001b[0;34m,\u001b[0m\u001b[0;36m200\u001b[0m\u001b[0;34m)\u001b[0m\u001b[0;34m\u001b[0m\u001b[0;34m\u001b[0m\u001b[0m\n\u001b[0m",
      "\u001b[0;32m~/Desktop/Github repos/KI_2/ANET.py\u001b[0m in \u001b[0;36mload_anet\u001b[0;34m(self, size, level)\u001b[0m\n\u001b[1;32m    129\u001b[0m \u001b[0;34m\u001b[0m\u001b[0m\n\u001b[1;32m    130\u001b[0m     \u001b[0;32mdef\u001b[0m \u001b[0mload_anet\u001b[0m\u001b[0;34m(\u001b[0m\u001b[0mself\u001b[0m\u001b[0;34m,\u001b[0m \u001b[0msize\u001b[0m\u001b[0;34m,\u001b[0m \u001b[0mlevel\u001b[0m\u001b[0;34m)\u001b[0m\u001b[0;34m:\u001b[0m\u001b[0;34m\u001b[0m\u001b[0;34m\u001b[0m\u001b[0m\n\u001b[0;32m--> 131\u001b[0;31m         self.load_state_dict(torch.load(\n\u001b[0m\u001b[1;32m    132\u001b[0m             \"models/{}_ANET_level_{}\".format(size, level)))\n\u001b[1;32m    133\u001b[0m         \u001b[0mprint\u001b[0m\u001b[0;34m(\u001b[0m\u001b[0;34m\"Loaded model from models/{}_ANET_level_{}\"\u001b[0m\u001b[0;34m.\u001b[0m\u001b[0mformat\u001b[0m\u001b[0;34m(\u001b[0m\u001b[0msize\u001b[0m\u001b[0;34m,\u001b[0m \u001b[0mlevel\u001b[0m\u001b[0;34m)\u001b[0m\u001b[0;34m)\u001b[0m\u001b[0;34m\u001b[0m\u001b[0;34m\u001b[0m\u001b[0m\n",
      "\u001b[0;32m~/opt/anaconda3/envs/AI/lib/python3.9/site-packages/torch/nn/modules/module.py\u001b[0m in \u001b[0;36mload_state_dict\u001b[0;34m(self, state_dict, strict)\u001b[0m\n\u001b[1;32m   1221\u001b[0m \u001b[0;34m\u001b[0m\u001b[0m\n\u001b[1;32m   1222\u001b[0m         \u001b[0;32mif\u001b[0m \u001b[0mlen\u001b[0m\u001b[0;34m(\u001b[0m\u001b[0merror_msgs\u001b[0m\u001b[0;34m)\u001b[0m \u001b[0;34m>\u001b[0m \u001b[0;36m0\u001b[0m\u001b[0;34m:\u001b[0m\u001b[0;34m\u001b[0m\u001b[0;34m\u001b[0m\u001b[0m\n\u001b[0;32m-> 1223\u001b[0;31m             raise RuntimeError('Error(s) in loading state_dict for {}:\\n\\t{}'.format(\n\u001b[0m\u001b[1;32m   1224\u001b[0m                                self.__class__.__name__, \"\\n\\t\".join(error_msgs)))\n\u001b[1;32m   1225\u001b[0m         \u001b[0;32mreturn\u001b[0m \u001b[0m_IncompatibleKeys\u001b[0m\u001b[0;34m(\u001b[0m\u001b[0mmissing_keys\u001b[0m\u001b[0;34m,\u001b[0m \u001b[0munexpected_keys\u001b[0m\u001b[0;34m)\u001b[0m\u001b[0;34m\u001b[0m\u001b[0;34m\u001b[0m\u001b[0m\n",
      "\u001b[0;31mRuntimeError\u001b[0m: Error(s) in loading state_dict for ANET:\n\tMissing key(s) in state_dict: \"model.7.weight\", \"model.7.bias\". \n\tsize mismatch for model.5.weight: copying a param with shape torch.Size([16, 30]) from checkpoint, the shape in current model is torch.Size([20, 30]).\n\tsize mismatch for model.5.bias: copying a param with shape torch.Size([16]) from checkpoint, the shape in current model is torch.Size([20])."
     ]
    }
   ],
   "source": [
    "action_space = Hex(SIZE,STARTING_PLAYER_ID).get_action_space()\n",
    "anet = ANET(input_size=SIZE,output_size=len(action_space))\n",
    "anet.load_anet(SIZE,200)"
   ]
  },
  {
   "cell_type": "code",
   "execution_count": 13,
   "metadata": {
    "tags": []
   },
   "outputs": [
    {
     "output_type": "error",
     "ename": "KeyboardInterrupt",
     "evalue": "",
     "traceback": [
      "\u001b[0;31m---------------------------------------------------------------------------\u001b[0m",
      "\u001b[0;31mKeyboardInterrupt\u001b[0m                         Traceback (most recent call last)",
      "\u001b[0;32m<ipython-input-13-5abc7a3cd65f>\u001b[0m in \u001b[0;36m<module>\u001b[0;34m\u001b[0m\n\u001b[1;32m     18\u001b[0m             \u001b[0;32mif\u001b[0m \u001b[0menv\u001b[0m\u001b[0;34m.\u001b[0m\u001b[0mplayer\u001b[0m\u001b[0;34m==\u001b[0m\u001b[0;36m1\u001b[0m\u001b[0;34m:\u001b[0m\u001b[0;34m\u001b[0m\u001b[0;34m\u001b[0m\u001b[0m\n\u001b[1;32m     19\u001b[0m                 \u001b[0mstate\u001b[0m \u001b[0;34m=\u001b[0m \u001b[0menv\u001b[0m\u001b[0;34m.\u001b[0m\u001b[0mget_state\u001b[0m\u001b[0;34m(\u001b[0m\u001b[0;34m)\u001b[0m\u001b[0;34m\u001b[0m\u001b[0;34m\u001b[0m\u001b[0m\n\u001b[0;32m---> 20\u001b[0;31m                 \u001b[0m_\u001b[0m\u001b[0;34m,\u001b[0m\u001b[0maction_index\u001b[0m \u001b[0;34m=\u001b[0m \u001b[0manet\u001b[0m\u001b[0;34m.\u001b[0m\u001b[0mget_move\u001b[0m\u001b[0;34m(\u001b[0m\u001b[0mstate\u001b[0m\u001b[0;34m)\u001b[0m\u001b[0;34m\u001b[0m\u001b[0;34m\u001b[0m\u001b[0m\n\u001b[0m\u001b[1;32m     21\u001b[0m                 \u001b[0maction\u001b[0m \u001b[0;34m=\u001b[0m \u001b[0maction_space\u001b[0m\u001b[0;34m[\u001b[0m\u001b[0maction_index\u001b[0m\u001b[0;34m]\u001b[0m\u001b[0;34m\u001b[0m\u001b[0;34m\u001b[0m\u001b[0m\n\u001b[1;32m     22\u001b[0m             \u001b[0;32melse\u001b[0m\u001b[0;34m:\u001b[0m\u001b[0;34m\u001b[0m\u001b[0;34m\u001b[0m\u001b[0m\n",
      "\u001b[0;32m~/Desktop/Github repos/KI_2/ANET.py\u001b[0m in \u001b[0;36mget_move\u001b[0;34m(self, state)\u001b[0m\n\u001b[1;32m    101\u001b[0m         \"\"\"\n\u001b[1;32m    102\u001b[0m         \u001b[0mstate\u001b[0m \u001b[0;34m=\u001b[0m \u001b[0mtorch\u001b[0m\u001b[0;34m.\u001b[0m\u001b[0mFloatTensor\u001b[0m\u001b[0;34m(\u001b[0m\u001b[0mstate\u001b[0m\u001b[0;34m)\u001b[0m\u001b[0;34m\u001b[0m\u001b[0;34m\u001b[0m\u001b[0m\n\u001b[0;32m--> 103\u001b[0;31m         \u001b[0mD\u001b[0m \u001b[0;34m=\u001b[0m \u001b[0mself\u001b[0m\u001b[0;34m.\u001b[0m\u001b[0mget_action_probabilities\u001b[0m\u001b[0;34m(\u001b[0m\u001b[0mstate\u001b[0m\u001b[0;34m)\u001b[0m\u001b[0;34m\u001b[0m\u001b[0;34m\u001b[0m\u001b[0m\n\u001b[0m\u001b[1;32m    104\u001b[0m         \u001b[0maction_index\u001b[0m \u001b[0;34m=\u001b[0m \u001b[0mtorch\u001b[0m\u001b[0;34m.\u001b[0m\u001b[0margmax\u001b[0m\u001b[0;34m(\u001b[0m\u001b[0mD\u001b[0m\u001b[0;34m)\u001b[0m\u001b[0;34m.\u001b[0m\u001b[0mitem\u001b[0m\u001b[0;34m(\u001b[0m\u001b[0;34m)\u001b[0m\u001b[0;34m\u001b[0m\u001b[0;34m\u001b[0m\u001b[0m\n\u001b[1;32m    105\u001b[0m         \u001b[0;32mreturn\u001b[0m \u001b[0mD\u001b[0m\u001b[0;34m,\u001b[0m \u001b[0maction_index\u001b[0m\u001b[0;34m\u001b[0m\u001b[0;34m\u001b[0m\u001b[0m\n",
      "\u001b[0;32m~/Desktop/Github repos/KI_2/ANET.py\u001b[0m in \u001b[0;36mget_action_probabilities\u001b[0;34m(self, state)\u001b[0m\n\u001b[1;32m    112\u001b[0m         \"\"\"\n\u001b[1;32m    113\u001b[0m         \u001b[0;31m# Forward through ANET\u001b[0m\u001b[0;34m\u001b[0m\u001b[0;34m\u001b[0m\u001b[0;34m\u001b[0m\u001b[0m\n\u001b[0;32m--> 114\u001b[0;31m         \u001b[0moutput\u001b[0m \u001b[0;34m=\u001b[0m \u001b[0mself\u001b[0m\u001b[0;34m.\u001b[0m\u001b[0mforward\u001b[0m\u001b[0;34m(\u001b[0m\u001b[0mstate\u001b[0m\u001b[0;34m)\u001b[0m\u001b[0;34m\u001b[0m\u001b[0;34m\u001b[0m\u001b[0m\n\u001b[0m\u001b[1;32m    115\u001b[0m         \u001b[0;31m# Set positions that are already taken (cell filled) to zero\u001b[0m\u001b[0;34m\u001b[0m\u001b[0;34m\u001b[0m\u001b[0;34m\u001b[0m\u001b[0m\n\u001b[1;32m    116\u001b[0m         \u001b[0mstate\u001b[0m \u001b[0;34m=\u001b[0m \u001b[0mstate\u001b[0m\u001b[0;34m[\u001b[0m\u001b[0;36m1\u001b[0m\u001b[0;34m:\u001b[0m\u001b[0;34m]\u001b[0m\u001b[0;34m\u001b[0m\u001b[0;34m\u001b[0m\u001b[0m\n",
      "\u001b[0;32m~/Desktop/Github repos/KI_2/ANET.py\u001b[0m in \u001b[0;36mforward\u001b[0;34m(self, x)\u001b[0m\n\u001b[1;32m     74\u001b[0m \u001b[0;34m\u001b[0m\u001b[0m\n\u001b[1;32m     75\u001b[0m         \u001b[0;32mwith\u001b[0m \u001b[0mtorch\u001b[0m\u001b[0;34m.\u001b[0m\u001b[0mno_grad\u001b[0m\u001b[0;34m(\u001b[0m\u001b[0;34m)\u001b[0m\u001b[0;34m:\u001b[0m\u001b[0;34m\u001b[0m\u001b[0;34m\u001b[0m\u001b[0m\n\u001b[0;32m---> 76\u001b[0;31m             \u001b[0;32mreturn\u001b[0m \u001b[0mself\u001b[0m\u001b[0;34m.\u001b[0m\u001b[0mmodel\u001b[0m\u001b[0;34m(\u001b[0m\u001b[0mx\u001b[0m\u001b[0;34m)\u001b[0m\u001b[0;34m\u001b[0m\u001b[0;34m\u001b[0m\u001b[0m\n\u001b[0m\u001b[1;32m     77\u001b[0m \u001b[0;34m\u001b[0m\u001b[0m\n\u001b[1;32m     78\u001b[0m     \u001b[0;32mdef\u001b[0m \u001b[0mfit\u001b[0m\u001b[0;34m(\u001b[0m\u001b[0mself\u001b[0m\u001b[0;34m,\u001b[0m \u001b[0mstate\u001b[0m\u001b[0;34m,\u001b[0m \u001b[0mtarget\u001b[0m\u001b[0;34m)\u001b[0m\u001b[0;34m:\u001b[0m\u001b[0;34m\u001b[0m\u001b[0;34m\u001b[0m\u001b[0m\n",
      "\u001b[0;32m~/opt/anaconda3/envs/AI/lib/python3.9/site-packages/torch/nn/modules/module.py\u001b[0m in \u001b[0;36m_call_impl\u001b[0;34m(self, *input, **kwargs)\u001b[0m\n\u001b[1;32m    887\u001b[0m             \u001b[0mresult\u001b[0m \u001b[0;34m=\u001b[0m \u001b[0mself\u001b[0m\u001b[0;34m.\u001b[0m\u001b[0m_slow_forward\u001b[0m\u001b[0;34m(\u001b[0m\u001b[0;34m*\u001b[0m\u001b[0minput\u001b[0m\u001b[0;34m,\u001b[0m \u001b[0;34m**\u001b[0m\u001b[0mkwargs\u001b[0m\u001b[0;34m)\u001b[0m\u001b[0;34m\u001b[0m\u001b[0;34m\u001b[0m\u001b[0m\n\u001b[1;32m    888\u001b[0m         \u001b[0;32melse\u001b[0m\u001b[0;34m:\u001b[0m\u001b[0;34m\u001b[0m\u001b[0;34m\u001b[0m\u001b[0m\n\u001b[0;32m--> 889\u001b[0;31m             \u001b[0mresult\u001b[0m \u001b[0;34m=\u001b[0m \u001b[0mself\u001b[0m\u001b[0;34m.\u001b[0m\u001b[0mforward\u001b[0m\u001b[0;34m(\u001b[0m\u001b[0;34m*\u001b[0m\u001b[0minput\u001b[0m\u001b[0;34m,\u001b[0m \u001b[0;34m**\u001b[0m\u001b[0mkwargs\u001b[0m\u001b[0;34m)\u001b[0m\u001b[0;34m\u001b[0m\u001b[0;34m\u001b[0m\u001b[0m\n\u001b[0m\u001b[1;32m    890\u001b[0m         for hook in itertools.chain(\n\u001b[1;32m    891\u001b[0m                 \u001b[0m_global_forward_hooks\u001b[0m\u001b[0;34m.\u001b[0m\u001b[0mvalues\u001b[0m\u001b[0;34m(\u001b[0m\u001b[0;34m)\u001b[0m\u001b[0;34m,\u001b[0m\u001b[0;34m\u001b[0m\u001b[0;34m\u001b[0m\u001b[0m\n",
      "\u001b[0;32m~/opt/anaconda3/envs/AI/lib/python3.9/site-packages/torch/nn/modules/container.py\u001b[0m in \u001b[0;36mforward\u001b[0;34m(self, input)\u001b[0m\n\u001b[1;32m    117\u001b[0m     \u001b[0;32mdef\u001b[0m \u001b[0mforward\u001b[0m\u001b[0;34m(\u001b[0m\u001b[0mself\u001b[0m\u001b[0;34m,\u001b[0m \u001b[0minput\u001b[0m\u001b[0;34m)\u001b[0m\u001b[0;34m:\u001b[0m\u001b[0;34m\u001b[0m\u001b[0;34m\u001b[0m\u001b[0m\n\u001b[1;32m    118\u001b[0m         \u001b[0;32mfor\u001b[0m \u001b[0mmodule\u001b[0m \u001b[0;32min\u001b[0m \u001b[0mself\u001b[0m\u001b[0;34m:\u001b[0m\u001b[0;34m\u001b[0m\u001b[0;34m\u001b[0m\u001b[0m\n\u001b[0;32m--> 119\u001b[0;31m             \u001b[0minput\u001b[0m \u001b[0;34m=\u001b[0m \u001b[0mmodule\u001b[0m\u001b[0;34m(\u001b[0m\u001b[0minput\u001b[0m\u001b[0;34m)\u001b[0m\u001b[0;34m\u001b[0m\u001b[0;34m\u001b[0m\u001b[0m\n\u001b[0m\u001b[1;32m    120\u001b[0m         \u001b[0;32mreturn\u001b[0m \u001b[0minput\u001b[0m\u001b[0;34m\u001b[0m\u001b[0;34m\u001b[0m\u001b[0m\n\u001b[1;32m    121\u001b[0m \u001b[0;34m\u001b[0m\u001b[0m\n",
      "\u001b[0;32m~/opt/anaconda3/envs/AI/lib/python3.9/site-packages/torch/nn/modules/module.py\u001b[0m in \u001b[0;36m_call_impl\u001b[0;34m(self, *input, **kwargs)\u001b[0m\n\u001b[1;32m    887\u001b[0m             \u001b[0mresult\u001b[0m \u001b[0;34m=\u001b[0m \u001b[0mself\u001b[0m\u001b[0;34m.\u001b[0m\u001b[0m_slow_forward\u001b[0m\u001b[0;34m(\u001b[0m\u001b[0;34m*\u001b[0m\u001b[0minput\u001b[0m\u001b[0;34m,\u001b[0m \u001b[0;34m**\u001b[0m\u001b[0mkwargs\u001b[0m\u001b[0;34m)\u001b[0m\u001b[0;34m\u001b[0m\u001b[0;34m\u001b[0m\u001b[0m\n\u001b[1;32m    888\u001b[0m         \u001b[0;32melse\u001b[0m\u001b[0;34m:\u001b[0m\u001b[0;34m\u001b[0m\u001b[0;34m\u001b[0m\u001b[0m\n\u001b[0;32m--> 889\u001b[0;31m             \u001b[0mresult\u001b[0m \u001b[0;34m=\u001b[0m \u001b[0mself\u001b[0m\u001b[0;34m.\u001b[0m\u001b[0mforward\u001b[0m\u001b[0;34m(\u001b[0m\u001b[0;34m*\u001b[0m\u001b[0minput\u001b[0m\u001b[0;34m,\u001b[0m \u001b[0;34m**\u001b[0m\u001b[0mkwargs\u001b[0m\u001b[0;34m)\u001b[0m\u001b[0;34m\u001b[0m\u001b[0;34m\u001b[0m\u001b[0m\n\u001b[0m\u001b[1;32m    890\u001b[0m         for hook in itertools.chain(\n\u001b[1;32m    891\u001b[0m                 \u001b[0m_global_forward_hooks\u001b[0m\u001b[0;34m.\u001b[0m\u001b[0mvalues\u001b[0m\u001b[0;34m(\u001b[0m\u001b[0;34m)\u001b[0m\u001b[0;34m,\u001b[0m\u001b[0;34m\u001b[0m\u001b[0;34m\u001b[0m\u001b[0m\n",
      "\u001b[0;32m~/opt/anaconda3/envs/AI/lib/python3.9/site-packages/torch/nn/modules/activation.py\u001b[0m in \u001b[0;36mforward\u001b[0;34m(self, input)\u001b[0m\n\u001b[1;32m   1198\u001b[0m \u001b[0;34m\u001b[0m\u001b[0m\n\u001b[1;32m   1199\u001b[0m     \u001b[0;32mdef\u001b[0m \u001b[0mforward\u001b[0m\u001b[0;34m(\u001b[0m\u001b[0mself\u001b[0m\u001b[0;34m,\u001b[0m \u001b[0minput\u001b[0m\u001b[0;34m:\u001b[0m \u001b[0mTensor\u001b[0m\u001b[0;34m)\u001b[0m \u001b[0;34m->\u001b[0m \u001b[0mTensor\u001b[0m\u001b[0;34m:\u001b[0m\u001b[0;34m\u001b[0m\u001b[0;34m\u001b[0m\u001b[0m\n\u001b[0;32m-> 1200\u001b[0;31m         \u001b[0;32mreturn\u001b[0m \u001b[0mF\u001b[0m\u001b[0;34m.\u001b[0m\u001b[0msoftmax\u001b[0m\u001b[0;34m(\u001b[0m\u001b[0minput\u001b[0m\u001b[0;34m,\u001b[0m \u001b[0mself\u001b[0m\u001b[0;34m.\u001b[0m\u001b[0mdim\u001b[0m\u001b[0;34m,\u001b[0m \u001b[0m_stacklevel\u001b[0m\u001b[0;34m=\u001b[0m\u001b[0;36m5\u001b[0m\u001b[0;34m)\u001b[0m\u001b[0;34m\u001b[0m\u001b[0;34m\u001b[0m\u001b[0m\n\u001b[0m\u001b[1;32m   1201\u001b[0m \u001b[0;34m\u001b[0m\u001b[0m\n\u001b[1;32m   1202\u001b[0m     \u001b[0;32mdef\u001b[0m \u001b[0mextra_repr\u001b[0m\u001b[0;34m(\u001b[0m\u001b[0mself\u001b[0m\u001b[0;34m)\u001b[0m \u001b[0;34m->\u001b[0m \u001b[0mstr\u001b[0m\u001b[0;34m:\u001b[0m\u001b[0;34m\u001b[0m\u001b[0;34m\u001b[0m\u001b[0m\n",
      "\u001b[0;32m~/opt/anaconda3/envs/AI/lib/python3.9/site-packages/torch/nn/functional.py\u001b[0m in \u001b[0;36msoftmax\u001b[0;34m(input, dim, _stacklevel, dtype)\u001b[0m\n\u001b[1;32m   1581\u001b[0m         \u001b[0mdim\u001b[0m \u001b[0;34m=\u001b[0m \u001b[0m_get_softmax_dim\u001b[0m\u001b[0;34m(\u001b[0m\u001b[0;34m\"softmax\"\u001b[0m\u001b[0;34m,\u001b[0m \u001b[0minput\u001b[0m\u001b[0;34m.\u001b[0m\u001b[0mdim\u001b[0m\u001b[0;34m(\u001b[0m\u001b[0;34m)\u001b[0m\u001b[0;34m,\u001b[0m \u001b[0m_stacklevel\u001b[0m\u001b[0;34m)\u001b[0m\u001b[0;34m\u001b[0m\u001b[0;34m\u001b[0m\u001b[0m\n\u001b[1;32m   1582\u001b[0m     \u001b[0;32mif\u001b[0m \u001b[0mdtype\u001b[0m \u001b[0;32mis\u001b[0m \u001b[0;32mNone\u001b[0m\u001b[0;34m:\u001b[0m\u001b[0;34m\u001b[0m\u001b[0;34m\u001b[0m\u001b[0m\n\u001b[0;32m-> 1583\u001b[0;31m         \u001b[0mret\u001b[0m \u001b[0;34m=\u001b[0m \u001b[0minput\u001b[0m\u001b[0;34m.\u001b[0m\u001b[0msoftmax\u001b[0m\u001b[0;34m(\u001b[0m\u001b[0mdim\u001b[0m\u001b[0;34m)\u001b[0m\u001b[0;34m\u001b[0m\u001b[0;34m\u001b[0m\u001b[0m\n\u001b[0m\u001b[1;32m   1584\u001b[0m     \u001b[0;32melse\u001b[0m\u001b[0;34m:\u001b[0m\u001b[0;34m\u001b[0m\u001b[0;34m\u001b[0m\u001b[0m\n\u001b[1;32m   1585\u001b[0m         \u001b[0mret\u001b[0m \u001b[0;34m=\u001b[0m \u001b[0minput\u001b[0m\u001b[0;34m.\u001b[0m\u001b[0msoftmax\u001b[0m\u001b[0;34m(\u001b[0m\u001b[0mdim\u001b[0m\u001b[0;34m,\u001b[0m \u001b[0mdtype\u001b[0m\u001b[0;34m=\u001b[0m\u001b[0mdtype\u001b[0m\u001b[0;34m)\u001b[0m\u001b[0;34m\u001b[0m\u001b[0;34m\u001b[0m\u001b[0m\n",
      "\u001b[0;31mKeyboardInterrupt\u001b[0m: "
     ]
    }
   ],
   "source": [
    "test_games = 100000\n",
    "visualize = False\n",
    "winner = []\n",
    "\n",
    "for game in range(test_games):\n",
    "    #if game==test_games-1:\n",
    "     #   visualize=True\n",
    "    \n",
    "    env = Hex(SIZE,1)\n",
    "    is_final = env.is_final()\n",
    "    while not is_final:\n",
    "            if visualize:\n",
    "                frame = visualize_state(env)\n",
    "                display.clear_output(wait=True)\n",
    "                display.display(frame)\n",
    "                time.sleep(1)\n",
    "            action_list = env.legal_actions()\n",
    "            if env.player==1:\n",
    "                state = env.get_state()\n",
    "                _,action_index = anet.get_move(state)\n",
    "                action = action_space[action_index]\n",
    "            else:\n",
    "                action = random.sample(action_list,1)[0]\n",
    "            next_state,reward,is_final = env.step(action)\n",
    "            state = next_state\n",
    "    if visualize:\n",
    "        display.clear_output(wait=True)\n",
    "        frame = visualize_state(env)\n",
    "        display.display(frame)\n",
    "    winner.append(env.player)\n",
    "\n"
   ]
  },
  {
   "cell_type": "code",
   "execution_count": null,
   "metadata": {},
   "outputs": [],
   "source": []
  },
  {
   "cell_type": "code",
   "execution_count": null,
   "metadata": {},
   "outputs": [],
   "source": [
    "import pandas as pd"
   ]
  },
  {
   "cell_type": "code",
   "execution_count": null,
   "metadata": {},
   "outputs": [],
   "source": [
    "df = pd.DataFrame(winner)\n",
    "df.value_counts(normalize=True).plot.bar()\n",
    "\n"
   ]
  },
  {
   "cell_type": "code",
   "execution_count": 47,
   "metadata": {},
   "outputs": [
    {
     "output_type": "stream",
     "name": "stdout",
     "text": [
      "Model has been saved to models/4_ANET_level_200\n"
     ]
    }
   ],
   "source": [
    "anet.save_anet(SIZE,NUMBER_OF_GAMES)"
   ]
  },
  {
   "cell_type": "code",
   "execution_count": 6,
   "metadata": {},
   "outputs": [],
   "source": [
    "board_state = s_init.board\n",
    "player = s_init.player\n",
    "state = np.insert(board_state,0,player)\n"
   ]
  },
  {
   "cell_type": "code",
   "execution_count": 21,
   "metadata": {},
   "outputs": [
    {
     "output_type": "stream",
     "name": "stdout",
     "text": [
      "Loaded model from models/4_ANET_level_10\n"
     ]
    }
   ],
   "source": [
    "anet2 = ANET(input_size=SIZE,output_size=len(action_space))\n",
    "anet2.load_anet(SIZE,10)"
   ]
  },
  {
   "cell_type": "code",
   "execution_count": 12,
   "metadata": {},
   "outputs": [
    {
     "output_type": "error",
     "ename": "RuntimeError",
     "evalue": "mat1 and mat2 shapes cannot be multiplied (1x0 and 2x60)",
     "traceback": [
      "\u001b[0;31m---------------------------------------------------------------------------\u001b[0m",
      "\u001b[0;31mRuntimeError\u001b[0m                              Traceback (most recent call last)",
      "\u001b[0;32m<ipython-input-12-d5a2cd2c4b49>\u001b[0m in \u001b[0;36m<module>\u001b[0;34m\u001b[0m\n\u001b[0;32m----> 1\u001b[0;31m \u001b[0manet\u001b[0m\u001b[0;34m.\u001b[0m\u001b[0mget_move\u001b[0m\u001b[0;34m(\u001b[0m\u001b[0mstate\u001b[0m\u001b[0;34m)\u001b[0m\u001b[0;34m\u001b[0m\u001b[0;34m\u001b[0m\u001b[0m\n\u001b[0m",
      "\u001b[0;32m~/Desktop/Github repos/KI_2/ANET.py\u001b[0m in \u001b[0;36mget_move\u001b[0;34m(self, state)\u001b[0m\n\u001b[1;32m    103\u001b[0m         \"\"\"\n\u001b[1;32m    104\u001b[0m         \u001b[0mstate\u001b[0m \u001b[0;34m=\u001b[0m \u001b[0mtorch\u001b[0m\u001b[0;34m.\u001b[0m\u001b[0mFloatTensor\u001b[0m\u001b[0;34m(\u001b[0m\u001b[0mstate\u001b[0m\u001b[0;34m)\u001b[0m\u001b[0;34m\u001b[0m\u001b[0;34m\u001b[0m\u001b[0m\n\u001b[0;32m--> 105\u001b[0;31m         \u001b[0mD\u001b[0m \u001b[0;34m=\u001b[0m \u001b[0mself\u001b[0m\u001b[0;34m.\u001b[0m\u001b[0mget_action_probabilities\u001b[0m\u001b[0;34m(\u001b[0m\u001b[0mstate\u001b[0m\u001b[0;34m)\u001b[0m\u001b[0;34m\u001b[0m\u001b[0;34m\u001b[0m\u001b[0m\n\u001b[0m\u001b[1;32m    106\u001b[0m         \u001b[0maction_index\u001b[0m \u001b[0;34m=\u001b[0m \u001b[0mtorch\u001b[0m\u001b[0;34m.\u001b[0m\u001b[0margmax\u001b[0m\u001b[0;34m(\u001b[0m\u001b[0mD\u001b[0m\u001b[0;34m)\u001b[0m\u001b[0;34m.\u001b[0m\u001b[0mitem\u001b[0m\u001b[0;34m(\u001b[0m\u001b[0;34m)\u001b[0m\u001b[0;34m\u001b[0m\u001b[0;34m\u001b[0m\u001b[0m\n\u001b[1;32m    107\u001b[0m         \u001b[0;32mreturn\u001b[0m \u001b[0mD\u001b[0m\u001b[0;34m,\u001b[0m \u001b[0maction_index\u001b[0m\u001b[0;34m\u001b[0m\u001b[0;34m\u001b[0m\u001b[0m\n",
      "\u001b[0;32m~/Desktop/Github repos/KI_2/ANET.py\u001b[0m in \u001b[0;36mget_action_probabilities\u001b[0;34m(self, state)\u001b[0m\n\u001b[1;32m    114\u001b[0m         \"\"\"\n\u001b[1;32m    115\u001b[0m         \u001b[0;31m# Forward through ANET\u001b[0m\u001b[0;34m\u001b[0m\u001b[0;34m\u001b[0m\u001b[0;34m\u001b[0m\u001b[0m\n\u001b[0;32m--> 116\u001b[0;31m         \u001b[0moutput\u001b[0m \u001b[0;34m=\u001b[0m \u001b[0mself\u001b[0m\u001b[0;34m.\u001b[0m\u001b[0mforward\u001b[0m\u001b[0;34m(\u001b[0m\u001b[0mstate\u001b[0m\u001b[0;34m)\u001b[0m\u001b[0;34m\u001b[0m\u001b[0;34m\u001b[0m\u001b[0m\n\u001b[0m\u001b[1;32m    117\u001b[0m         \u001b[0;31m# Set positions that are already taken (cell filled) to zero\u001b[0m\u001b[0;34m\u001b[0m\u001b[0;34m\u001b[0m\u001b[0;34m\u001b[0m\u001b[0m\n\u001b[1;32m    118\u001b[0m         \u001b[0;31m# state = state[1:]\u001b[0m\u001b[0;34m\u001b[0m\u001b[0;34m\u001b[0m\u001b[0;34m\u001b[0m\u001b[0m\n",
      "\u001b[0;32m~/Desktop/Github repos/KI_2/ANET.py\u001b[0m in \u001b[0;36mforward\u001b[0;34m(self, x)\u001b[0m\n\u001b[1;32m     74\u001b[0m         \"\"\"\n\u001b[1;32m     75\u001b[0m         \u001b[0;32mwith\u001b[0m \u001b[0mtorch\u001b[0m\u001b[0;34m.\u001b[0m\u001b[0mno_grad\u001b[0m\u001b[0;34m(\u001b[0m\u001b[0;34m)\u001b[0m\u001b[0;34m:\u001b[0m\u001b[0;34m\u001b[0m\u001b[0;34m\u001b[0m\u001b[0m\n\u001b[0;32m---> 76\u001b[0;31m             \u001b[0;32mreturn\u001b[0m \u001b[0mself\u001b[0m\u001b[0;34m.\u001b[0m\u001b[0mmodel\u001b[0m\u001b[0;34m(\u001b[0m\u001b[0mx\u001b[0m\u001b[0;34m)\u001b[0m\u001b[0;34m\u001b[0m\u001b[0;34m\u001b[0m\u001b[0m\n\u001b[0m\u001b[1;32m     77\u001b[0m \u001b[0;34m\u001b[0m\u001b[0m\n\u001b[1;32m     78\u001b[0m     \u001b[0;32mdef\u001b[0m \u001b[0mfit\u001b[0m\u001b[0;34m(\u001b[0m\u001b[0mself\u001b[0m\u001b[0;34m,\u001b[0m \u001b[0mstate\u001b[0m\u001b[0;34m,\u001b[0m \u001b[0mtarget\u001b[0m\u001b[0;34m)\u001b[0m\u001b[0;34m:\u001b[0m\u001b[0;34m\u001b[0m\u001b[0;34m\u001b[0m\u001b[0m\n",
      "\u001b[0;32m~/opt/anaconda3/envs/AI/lib/python3.9/site-packages/torch/nn/modules/module.py\u001b[0m in \u001b[0;36m_call_impl\u001b[0;34m(self, *input, **kwargs)\u001b[0m\n\u001b[1;32m    887\u001b[0m             \u001b[0mresult\u001b[0m \u001b[0;34m=\u001b[0m \u001b[0mself\u001b[0m\u001b[0;34m.\u001b[0m\u001b[0m_slow_forward\u001b[0m\u001b[0;34m(\u001b[0m\u001b[0;34m*\u001b[0m\u001b[0minput\u001b[0m\u001b[0;34m,\u001b[0m \u001b[0;34m**\u001b[0m\u001b[0mkwargs\u001b[0m\u001b[0;34m)\u001b[0m\u001b[0;34m\u001b[0m\u001b[0;34m\u001b[0m\u001b[0m\n\u001b[1;32m    888\u001b[0m         \u001b[0;32melse\u001b[0m\u001b[0;34m:\u001b[0m\u001b[0;34m\u001b[0m\u001b[0;34m\u001b[0m\u001b[0m\n\u001b[0;32m--> 889\u001b[0;31m             \u001b[0mresult\u001b[0m \u001b[0;34m=\u001b[0m \u001b[0mself\u001b[0m\u001b[0;34m.\u001b[0m\u001b[0mforward\u001b[0m\u001b[0;34m(\u001b[0m\u001b[0;34m*\u001b[0m\u001b[0minput\u001b[0m\u001b[0;34m,\u001b[0m \u001b[0;34m**\u001b[0m\u001b[0mkwargs\u001b[0m\u001b[0;34m)\u001b[0m\u001b[0;34m\u001b[0m\u001b[0;34m\u001b[0m\u001b[0m\n\u001b[0m\u001b[1;32m    890\u001b[0m         for hook in itertools.chain(\n\u001b[1;32m    891\u001b[0m                 \u001b[0m_global_forward_hooks\u001b[0m\u001b[0;34m.\u001b[0m\u001b[0mvalues\u001b[0m\u001b[0;34m(\u001b[0m\u001b[0;34m)\u001b[0m\u001b[0;34m,\u001b[0m\u001b[0;34m\u001b[0m\u001b[0;34m\u001b[0m\u001b[0m\n",
      "\u001b[0;32m~/opt/anaconda3/envs/AI/lib/python3.9/site-packages/torch/nn/modules/container.py\u001b[0m in \u001b[0;36mforward\u001b[0;34m(self, input)\u001b[0m\n\u001b[1;32m    117\u001b[0m     \u001b[0;32mdef\u001b[0m \u001b[0mforward\u001b[0m\u001b[0;34m(\u001b[0m\u001b[0mself\u001b[0m\u001b[0;34m,\u001b[0m \u001b[0minput\u001b[0m\u001b[0;34m)\u001b[0m\u001b[0;34m:\u001b[0m\u001b[0;34m\u001b[0m\u001b[0;34m\u001b[0m\u001b[0m\n\u001b[1;32m    118\u001b[0m         \u001b[0;32mfor\u001b[0m \u001b[0mmodule\u001b[0m \u001b[0;32min\u001b[0m \u001b[0mself\u001b[0m\u001b[0;34m:\u001b[0m\u001b[0;34m\u001b[0m\u001b[0;34m\u001b[0m\u001b[0m\n\u001b[0;32m--> 119\u001b[0;31m             \u001b[0minput\u001b[0m \u001b[0;34m=\u001b[0m \u001b[0mmodule\u001b[0m\u001b[0;34m(\u001b[0m\u001b[0minput\u001b[0m\u001b[0;34m)\u001b[0m\u001b[0;34m\u001b[0m\u001b[0;34m\u001b[0m\u001b[0m\n\u001b[0m\u001b[1;32m    120\u001b[0m         \u001b[0;32mreturn\u001b[0m \u001b[0minput\u001b[0m\u001b[0;34m\u001b[0m\u001b[0;34m\u001b[0m\u001b[0m\n\u001b[1;32m    121\u001b[0m \u001b[0;34m\u001b[0m\u001b[0m\n",
      "\u001b[0;32m~/opt/anaconda3/envs/AI/lib/python3.9/site-packages/torch/nn/modules/module.py\u001b[0m in \u001b[0;36m_call_impl\u001b[0;34m(self, *input, **kwargs)\u001b[0m\n\u001b[1;32m    887\u001b[0m             \u001b[0mresult\u001b[0m \u001b[0;34m=\u001b[0m \u001b[0mself\u001b[0m\u001b[0;34m.\u001b[0m\u001b[0m_slow_forward\u001b[0m\u001b[0;34m(\u001b[0m\u001b[0;34m*\u001b[0m\u001b[0minput\u001b[0m\u001b[0;34m,\u001b[0m \u001b[0;34m**\u001b[0m\u001b[0mkwargs\u001b[0m\u001b[0;34m)\u001b[0m\u001b[0;34m\u001b[0m\u001b[0;34m\u001b[0m\u001b[0m\n\u001b[1;32m    888\u001b[0m         \u001b[0;32melse\u001b[0m\u001b[0;34m:\u001b[0m\u001b[0;34m\u001b[0m\u001b[0;34m\u001b[0m\u001b[0m\n\u001b[0;32m--> 889\u001b[0;31m             \u001b[0mresult\u001b[0m \u001b[0;34m=\u001b[0m \u001b[0mself\u001b[0m\u001b[0;34m.\u001b[0m\u001b[0mforward\u001b[0m\u001b[0;34m(\u001b[0m\u001b[0;34m*\u001b[0m\u001b[0minput\u001b[0m\u001b[0;34m,\u001b[0m \u001b[0;34m**\u001b[0m\u001b[0mkwargs\u001b[0m\u001b[0;34m)\u001b[0m\u001b[0;34m\u001b[0m\u001b[0;34m\u001b[0m\u001b[0m\n\u001b[0m\u001b[1;32m    890\u001b[0m         for hook in itertools.chain(\n\u001b[1;32m    891\u001b[0m                 \u001b[0m_global_forward_hooks\u001b[0m\u001b[0;34m.\u001b[0m\u001b[0mvalues\u001b[0m\u001b[0;34m(\u001b[0m\u001b[0;34m)\u001b[0m\u001b[0;34m,\u001b[0m\u001b[0;34m\u001b[0m\u001b[0;34m\u001b[0m\u001b[0m\n",
      "\u001b[0;32m~/opt/anaconda3/envs/AI/lib/python3.9/site-packages/torch/nn/modules/linear.py\u001b[0m in \u001b[0;36mforward\u001b[0;34m(self, input)\u001b[0m\n\u001b[1;32m     92\u001b[0m \u001b[0;34m\u001b[0m\u001b[0m\n\u001b[1;32m     93\u001b[0m     \u001b[0;32mdef\u001b[0m \u001b[0mforward\u001b[0m\u001b[0;34m(\u001b[0m\u001b[0mself\u001b[0m\u001b[0;34m,\u001b[0m \u001b[0minput\u001b[0m\u001b[0;34m:\u001b[0m \u001b[0mTensor\u001b[0m\u001b[0;34m)\u001b[0m \u001b[0;34m->\u001b[0m \u001b[0mTensor\u001b[0m\u001b[0;34m:\u001b[0m\u001b[0;34m\u001b[0m\u001b[0;34m\u001b[0m\u001b[0m\n\u001b[0;32m---> 94\u001b[0;31m         \u001b[0;32mreturn\u001b[0m \u001b[0mF\u001b[0m\u001b[0;34m.\u001b[0m\u001b[0mlinear\u001b[0m\u001b[0;34m(\u001b[0m\u001b[0minput\u001b[0m\u001b[0;34m,\u001b[0m \u001b[0mself\u001b[0m\u001b[0;34m.\u001b[0m\u001b[0mweight\u001b[0m\u001b[0;34m,\u001b[0m \u001b[0mself\u001b[0m\u001b[0;34m.\u001b[0m\u001b[0mbias\u001b[0m\u001b[0;34m)\u001b[0m\u001b[0;34m\u001b[0m\u001b[0;34m\u001b[0m\u001b[0m\n\u001b[0m\u001b[1;32m     95\u001b[0m \u001b[0;34m\u001b[0m\u001b[0m\n\u001b[1;32m     96\u001b[0m     \u001b[0;32mdef\u001b[0m \u001b[0mextra_repr\u001b[0m\u001b[0;34m(\u001b[0m\u001b[0mself\u001b[0m\u001b[0;34m)\u001b[0m \u001b[0;34m->\u001b[0m \u001b[0mstr\u001b[0m\u001b[0;34m:\u001b[0m\u001b[0;34m\u001b[0m\u001b[0;34m\u001b[0m\u001b[0m\n",
      "\u001b[0;32m~/opt/anaconda3/envs/AI/lib/python3.9/site-packages/torch/nn/functional.py\u001b[0m in \u001b[0;36mlinear\u001b[0;34m(input, weight, bias)\u001b[0m\n\u001b[1;32m   1751\u001b[0m     \u001b[0;32mif\u001b[0m \u001b[0mhas_torch_function_variadic\u001b[0m\u001b[0;34m(\u001b[0m\u001b[0minput\u001b[0m\u001b[0;34m,\u001b[0m \u001b[0mweight\u001b[0m\u001b[0;34m)\u001b[0m\u001b[0;34m:\u001b[0m\u001b[0;34m\u001b[0m\u001b[0;34m\u001b[0m\u001b[0m\n\u001b[1;32m   1752\u001b[0m         \u001b[0;32mreturn\u001b[0m \u001b[0mhandle_torch_function\u001b[0m\u001b[0;34m(\u001b[0m\u001b[0mlinear\u001b[0m\u001b[0;34m,\u001b[0m \u001b[0;34m(\u001b[0m\u001b[0minput\u001b[0m\u001b[0;34m,\u001b[0m \u001b[0mweight\u001b[0m\u001b[0;34m)\u001b[0m\u001b[0;34m,\u001b[0m \u001b[0minput\u001b[0m\u001b[0;34m,\u001b[0m \u001b[0mweight\u001b[0m\u001b[0;34m,\u001b[0m \u001b[0mbias\u001b[0m\u001b[0;34m=\u001b[0m\u001b[0mbias\u001b[0m\u001b[0;34m)\u001b[0m\u001b[0;34m\u001b[0m\u001b[0;34m\u001b[0m\u001b[0m\n\u001b[0;32m-> 1753\u001b[0;31m     \u001b[0;32mreturn\u001b[0m \u001b[0mtorch\u001b[0m\u001b[0;34m.\u001b[0m\u001b[0m_C\u001b[0m\u001b[0;34m.\u001b[0m\u001b[0m_nn\u001b[0m\u001b[0;34m.\u001b[0m\u001b[0mlinear\u001b[0m\u001b[0;34m(\u001b[0m\u001b[0minput\u001b[0m\u001b[0;34m,\u001b[0m \u001b[0mweight\u001b[0m\u001b[0;34m,\u001b[0m \u001b[0mbias\u001b[0m\u001b[0;34m)\u001b[0m\u001b[0;34m\u001b[0m\u001b[0;34m\u001b[0m\u001b[0m\n\u001b[0m\u001b[1;32m   1754\u001b[0m \u001b[0;34m\u001b[0m\u001b[0m\n\u001b[1;32m   1755\u001b[0m \u001b[0;34m\u001b[0m\u001b[0m\n",
      "\u001b[0;31mRuntimeError\u001b[0m: mat1 and mat2 shapes cannot be multiplied (1x0 and 2x60)"
     ]
    }
   ],
   "source": [
    "anet.get_move(state)"
   ]
  },
  {
   "cell_type": "code",
   "execution_count": 16,
   "metadata": {},
   "outputs": [],
   "source": [
    "import torch\n"
   ]
  },
  {
   "cell_type": "code",
   "execution_count": 17,
   "metadata": {},
   "outputs": [
    {
     "output_type": "execute_result",
     "data": {
      "text/plain": [
       "tensor([1., 9.])"
      ]
     },
     "metadata": {},
     "execution_count": 17
    }
   ],
   "source": []
  },
  {
   "cell_type": "code",
   "execution_count": 4,
   "metadata": {},
   "outputs": [],
   "source": []
  },
  {
   "cell_type": "code",
   "execution_count": 5,
   "metadata": {},
   "outputs": [
    {
     "output_type": "execute_result",
     "data": {
      "text/plain": [
       "{0: 1, 1: 2, 2: 3, 3: 4}"
      ]
     },
     "metadata": {},
     "execution_count": 5
    }
   ],
   "source": []
  },
  {
   "cell_type": "code",
   "execution_count": 9,
   "metadata": {},
   "outputs": [],
   "source": [
    "D = np.zeros(len(action_space))"
   ]
  },
  {
   "cell_type": "code",
   "execution_count": 18,
   "metadata": {},
   "outputs": [
    {
     "output_type": "execute_result",
     "data": {
      "text/plain": [
       "[1, 2, 3, 4, 5, 7, 8, 9]"
      ]
     },
     "metadata": {},
     "execution_count": 18
    }
   ],
   "source": [
    "[1,2,3,4]+[5,7,8,9]"
   ]
  },
  {
   "cell_type": "code",
   "execution_count": 1,
   "metadata": {},
   "outputs": [
    {
     "output_type": "error",
     "ename": "NameError",
     "evalue": "name 'env' is not defined",
     "traceback": [
      "\u001b[0;31m---------------------------------------------------------------------------\u001b[0m",
      "\u001b[0;31mNameError\u001b[0m                                 Traceback (most recent call last)",
      "\u001b[0;32m<ipython-input-1-3f3159fc7e50>\u001b[0m in \u001b[0;36m<module>\u001b[0;34m\u001b[0m\n\u001b[0;32m----> 1\u001b[0;31m \u001b[0menv\u001b[0m\u001b[0;34m.\u001b[0m\u001b[0mget_action_space\u001b[0m\u001b[0;34m(\u001b[0m\u001b[0;34m)\u001b[0m\u001b[0;34m\u001b[0m\u001b[0;34m\u001b[0m\u001b[0m\n\u001b[0m",
      "\u001b[0;31mNameError\u001b[0m: name 'env' is not defined"
     ]
    }
   ],
   "source": [
    "env.get_action_space()"
   ]
  },
  {
   "cell_type": "code",
   "execution_count": null,
   "metadata": {},
   "outputs": [],
   "source": []
  }
 ],
 "metadata": {
  "kernelspec": {
   "name": "python392jvsc74a57bd0ce81be6a77568207c8653446c9329bd2af5244ede336bb4195c92db9c1e0543c",
   "display_name": "Python 3.9.2 64-bit ('AI': conda)"
  },
  "language_info": {
   "codemirror_mode": {
    "name": "ipython",
    "version": 3
   },
   "file_extension": ".py",
   "mimetype": "text/x-python",
   "name": "python",
   "nbconvert_exporter": "python",
   "pygments_lexer": "ipython3",
   "version": "3.9.2-final"
  }
 },
 "nbformat": 4,
 "nbformat_minor": 5
}