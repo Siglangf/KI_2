{
 "cells": [
  {
   "cell_type": "code",
   "execution_count": 11,
   "id": "consecutive-bottom",
   "metadata": {},
   "outputs": [],
   "source": [
    "from Simworld import visualize_state,Hex\n",
    "import numpy as np\n",
    "import random\n",
    "from IPython import display\n",
    "import time"
   ]
  },
  {
   "cell_type": "code",
   "execution_count": 12,
   "id": "capital-jacksonville",
   "metadata": {},
   "outputs": [],
   "source": [
    "env = Hex(\"diamond\", 4,(0,0))\n",
    "visualize_state(env)\n",
    "COLOR_MAP = {(0, 0): \"white\", (1, 0): \"blue\", (0, 1): \"red\"}"
   ]
  },
  {
   "cell_type": "code",
   "execution_count": 13,
   "id": "seventh-allergy",
   "metadata": {},
   "outputs": [],
   "source": [
    "is_final = env.game_state()>0"
   ]
  },
  {
   "cell_type": "code",
   "execution_count": 14,
   "id": "knowing-sauce",
   "metadata": {},
   "outputs": [
    {
     "data": {
      "image/png": "[encoded data removed]",
      "text/plain": [
       "<Figure size 432x288 with 1 Axes>"
      ]
     },
     "metadata": {},
     "output_type": "display_data"
    },
    {
     "name": "stdout",
     "output_type": "stream",
     "text": [
      "red won\n"
     ]
    }
   ],
   "source": [
    "while not is_final:\n",
    "        frame = visualize_state(env)\n",
    "        display.clear_output(wait=True)\n",
    "        display.display(frame)\n",
    "        time.sleep(1)\n",
    "        #Add SAP in case there are new states\n",
    "        action_list = env.legal_actions()\n",
    "        action = random.sample(action_list,1)[0]\n",
    "        next_state,reward,is_final = env.step(action)\n",
    "        state = next_state\n",
    "display.clear_output(wait=True)\n",
    "frame = visualize_state(env)\n",
    "display.display(frame)\n",
    "print(f\"{COLOR_MAP[env.player]} won\")"
   ]
  },
  {
   "cell_type": "code",
   "execution_count": 16,
   "id": "downtown-being",
   "metadata": {},
   "outputs": [],
   "source": [
    "class MCT:\n",
    "    def __init__(env,ACTOR):\n",
    "        self.env = env\n",
    "        self.ANET = ANET\n",
    "    \n",
    "    def rollout(self):\n",
    "        pass\n",
    "\n",
    "class Node:\n",
    "    def __init__(state):\n",
    "        self.state = state\n",
    "        self.qvalue = 0"
   ]
  },
  {
   "cell_type": "code",
   "execution_count": 50,
   "id": "pregnant-dictionary",
   "metadata": {},
   "outputs": [
    {
     "data": {
      "text/plain": [
       "[(1, 0), (1, 1), (0, 0)]"
      ]
     },
     "execution_count": 50,
     "metadata": {},
     "output_type": "execute_result"
    }
   ],
   "source": []
  },
  {
   "cell_type": "code",
   "execution_count": 127,
   "id": "absolute-customer",
   "metadata": {},
   "outputs": [],
   "source": [
    "sides = {(1,0):(cells[0,:],cells[3,:]), (0,1):(cells[:,0],cells[:,3])}\n"
   ]
  },
  {
   "cell_type": "code",
   "execution_count": 134,
   "id": "appointed-reverse",
   "metadata": {},
   "outputs": [],
   "source": [
    "visited = set()"
   ]
  },
  {
   "cell_type": "code",
   "execution_count": 144,
   "id": "upper-dollar",
   "metadata": {},
   "outputs": [
    {
     "data": {
      "text/plain": [
       "[<Simworld.Cell at 0x110ab8910>]"
      ]
     },
     "execution_count": 144,
     "metadata": {},
     "output_type": "execute_result"
    }
   ],
   "source": [
    "cell = cells[0][0]\n",
    "[neig for cell.neighboars.values() if neig.state == self.player]"
   ]
  },
  {
   "cell_type": "code",
   "execution_count": 146,
   "id": "indian-conviction",
   "metadata": {},
   "outputs": [],
   "source": []
  },
  {
   "cell_type": "code",
   "execution_count": null,
   "id": "original-strengthening",
   "metadata": {},
   "outputs": [],
   "source": []
  }
 ],
 "metadata": {
  "kernelspec": {
   "display_name": "Python 3",
   "language": "python",
   "name": "python3"
  },
  "language_info": {
   "codemirror_mode": {
    "name": "ipython",
    "version": 3
   },
   "file_extension": ".py",
   "mimetype": "text/x-python",
   "name": "python",
   "nbconvert_exporter": "python",
   "pygments_lexer": "ipython3",
   "version": "3.7.7"
  }
 },
 "nbformat": 4,
 "nbformat_minor": 5
}
